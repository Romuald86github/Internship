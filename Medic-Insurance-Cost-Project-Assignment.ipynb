{
 "cells": [
  {
   "cell_type": "code",
   "execution_count": null,
   "id": "a3585adf",
   "metadata": {},
   "outputs": [],
   "source": []
  },
  {
   "cell_type": "markdown",
   "id": "3eb9055e",
   "metadata": {},
   "source": [
    "importing the necessary libraries"
   ]
  },
  {
   "cell_type": "code",
   "execution_count": 1,
   "id": "900dc161",
   "metadata": {},
   "outputs": [],
   "source": [
    "import pandas as pd\n",
    "import numpy as np\n",
    "import seaborn as sns\n",
    "import matplotlib.pyplot as plt\n",
    "import warnings\n",
    "warnings.filterwarnings('ignore')"
   ]
  },
  {
   "cell_type": "code",
   "execution_count": null,
   "id": "886923b9",
   "metadata": {},
   "outputs": [],
   "source": []
  },
  {
   "cell_type": "code",
   "execution_count": 2,
   "id": "ee788b3b",
   "metadata": {},
   "outputs": [],
   "source": [
    "# loading data\n",
    "df = pd.read_csv('https://raw.githubusercontent.com/dsrscientist/dataset4/main/medical_cost_insurance.csv')"
   ]
  },
  {
   "cell_type": "code",
   "execution_count": 3,
   "id": "c8a7c380",
   "metadata": {},
   "outputs": [
    {
     "data": {
      "text/html": [
       "<div>\n",
       "<style scoped>\n",
       "    .dataframe tbody tr th:only-of-type {\n",
       "        vertical-align: middle;\n",
       "    }\n",
       "\n",
       "    .dataframe tbody tr th {\n",
       "        vertical-align: top;\n",
       "    }\n",
       "\n",
       "    .dataframe thead th {\n",
       "        text-align: right;\n",
       "    }\n",
       "</style>\n",
       "<table border=\"1\" class=\"dataframe\">\n",
       "  <thead>\n",
       "    <tr style=\"text-align: right;\">\n",
       "      <th></th>\n",
       "      <th>age</th>\n",
       "      <th>sex</th>\n",
       "      <th>bmi</th>\n",
       "      <th>children</th>\n",
       "      <th>smoker</th>\n",
       "      <th>region</th>\n",
       "      <th>charges</th>\n",
       "    </tr>\n",
       "  </thead>\n",
       "  <tbody>\n",
       "    <tr>\n",
       "      <th>0</th>\n",
       "      <td>19</td>\n",
       "      <td>female</td>\n",
       "      <td>27.900</td>\n",
       "      <td>0</td>\n",
       "      <td>yes</td>\n",
       "      <td>southwest</td>\n",
       "      <td>16884.92400</td>\n",
       "    </tr>\n",
       "    <tr>\n",
       "      <th>1</th>\n",
       "      <td>18</td>\n",
       "      <td>male</td>\n",
       "      <td>33.770</td>\n",
       "      <td>1</td>\n",
       "      <td>no</td>\n",
       "      <td>southeast</td>\n",
       "      <td>1725.55230</td>\n",
       "    </tr>\n",
       "    <tr>\n",
       "      <th>2</th>\n",
       "      <td>28</td>\n",
       "      <td>male</td>\n",
       "      <td>33.000</td>\n",
       "      <td>3</td>\n",
       "      <td>no</td>\n",
       "      <td>southeast</td>\n",
       "      <td>4449.46200</td>\n",
       "    </tr>\n",
       "    <tr>\n",
       "      <th>3</th>\n",
       "      <td>33</td>\n",
       "      <td>male</td>\n",
       "      <td>22.705</td>\n",
       "      <td>0</td>\n",
       "      <td>no</td>\n",
       "      <td>northwest</td>\n",
       "      <td>21984.47061</td>\n",
       "    </tr>\n",
       "    <tr>\n",
       "      <th>4</th>\n",
       "      <td>32</td>\n",
       "      <td>male</td>\n",
       "      <td>28.880</td>\n",
       "      <td>0</td>\n",
       "      <td>no</td>\n",
       "      <td>northwest</td>\n",
       "      <td>3866.85520</td>\n",
       "    </tr>\n",
       "    <tr>\n",
       "      <th>...</th>\n",
       "      <td>...</td>\n",
       "      <td>...</td>\n",
       "      <td>...</td>\n",
       "      <td>...</td>\n",
       "      <td>...</td>\n",
       "      <td>...</td>\n",
       "      <td>...</td>\n",
       "    </tr>\n",
       "    <tr>\n",
       "      <th>1333</th>\n",
       "      <td>50</td>\n",
       "      <td>male</td>\n",
       "      <td>30.970</td>\n",
       "      <td>3</td>\n",
       "      <td>no</td>\n",
       "      <td>northwest</td>\n",
       "      <td>10600.54830</td>\n",
       "    </tr>\n",
       "    <tr>\n",
       "      <th>1334</th>\n",
       "      <td>18</td>\n",
       "      <td>female</td>\n",
       "      <td>31.920</td>\n",
       "      <td>0</td>\n",
       "      <td>no</td>\n",
       "      <td>northeast</td>\n",
       "      <td>2205.98080</td>\n",
       "    </tr>\n",
       "    <tr>\n",
       "      <th>1335</th>\n",
       "      <td>18</td>\n",
       "      <td>female</td>\n",
       "      <td>36.850</td>\n",
       "      <td>0</td>\n",
       "      <td>no</td>\n",
       "      <td>southeast</td>\n",
       "      <td>1629.83350</td>\n",
       "    </tr>\n",
       "    <tr>\n",
       "      <th>1336</th>\n",
       "      <td>21</td>\n",
       "      <td>female</td>\n",
       "      <td>25.800</td>\n",
       "      <td>0</td>\n",
       "      <td>no</td>\n",
       "      <td>southwest</td>\n",
       "      <td>2007.94500</td>\n",
       "    </tr>\n",
       "    <tr>\n",
       "      <th>1337</th>\n",
       "      <td>61</td>\n",
       "      <td>female</td>\n",
       "      <td>29.070</td>\n",
       "      <td>0</td>\n",
       "      <td>yes</td>\n",
       "      <td>northwest</td>\n",
       "      <td>29141.36030</td>\n",
       "    </tr>\n",
       "  </tbody>\n",
       "</table>\n",
       "<p>1338 rows × 7 columns</p>\n",
       "</div>"
      ],
      "text/plain": [
       "      age     sex     bmi  children smoker     region      charges\n",
       "0      19  female  27.900         0    yes  southwest  16884.92400\n",
       "1      18    male  33.770         1     no  southeast   1725.55230\n",
       "2      28    male  33.000         3     no  southeast   4449.46200\n",
       "3      33    male  22.705         0     no  northwest  21984.47061\n",
       "4      32    male  28.880         0     no  northwest   3866.85520\n",
       "...   ...     ...     ...       ...    ...        ...          ...\n",
       "1333   50    male  30.970         3     no  northwest  10600.54830\n",
       "1334   18  female  31.920         0     no  northeast   2205.98080\n",
       "1335   18  female  36.850         0     no  southeast   1629.83350\n",
       "1336   21  female  25.800         0     no  southwest   2007.94500\n",
       "1337   61  female  29.070         0    yes  northwest  29141.36030\n",
       "\n",
       "[1338 rows x 7 columns]"
      ]
     },
     "execution_count": 3,
     "metadata": {},
     "output_type": "execute_result"
    }
   ],
   "source": [
    "df"
   ]
  },
  {
   "cell_type": "code",
   "execution_count": null,
   "id": "dc364046",
   "metadata": {},
   "outputs": [],
   "source": []
  },
  {
   "cell_type": "markdown",
   "id": "7b27893a",
   "metadata": {},
   "source": [
    "Here, we have a supervised machine learning based on regression model"
   ]
  },
  {
   "cell_type": "code",
   "execution_count": null,
   "id": "1414b2f6",
   "metadata": {},
   "outputs": [],
   "source": []
  },
  {
   "cell_type": "code",
   "execution_count": null,
   "id": "5df7ea05",
   "metadata": {},
   "outputs": [],
   "source": []
  },
  {
   "cell_type": "code",
   "execution_count": null,
   "id": "03e3d116",
   "metadata": {},
   "outputs": [],
   "source": []
  },
  {
   "cell_type": "code",
   "execution_count": 5,
   "id": "c6291904",
   "metadata": {},
   "outputs": [
    {
     "data": {
      "text/plain": [
       "(1338, 7)"
      ]
     },
     "execution_count": 5,
     "metadata": {},
     "output_type": "execute_result"
    }
   ],
   "source": [
    "# dimensions of the data\n",
    "df.shape"
   ]
  },
  {
   "cell_type": "markdown",
   "id": "e984742d",
   "metadata": {},
   "source": [
    "The data contains 1338 rows and 7 columns"
   ]
  },
  {
   "cell_type": "code",
   "execution_count": 6,
   "id": "21a5e140",
   "metadata": {},
   "outputs": [
    {
     "data": {
      "text/plain": [
       "['age', 'sex', 'bmi', 'children', 'smoker', 'region', 'charges']"
      ]
     },
     "execution_count": 6,
     "metadata": {},
     "output_type": "execute_result"
    }
   ],
   "source": [
    "# column names\n",
    "\n",
    "col = []\n",
    "\n",
    "for i in df.columns:\n",
    "    col.append(i)\n",
    "\n",
    "col\n"
   ]
  },
  {
   "attachments": {},
   "cell_type": "markdown",
   "id": "b6cfe152",
   "metadata": {},
   "source": [
    "•\tage: age of primary beneficiary\n",
    "\n",
    "•\tsex: insurance contractor gender, female, male\n",
    "\n",
    "•\tbmi: Body mass index, providing an understanding of body, weights that are relatively high or low relative to height, objective index of body weight (kg / m ^ 2) using the ratio of height to weight, ideally 18.5 to 24.9.\n",
    "\n",
    "•\tchildren: Number of children covered by health insurance / Number of dependents\n",
    "\n",
    "•\tsmoker: Smoking\n",
    "\n",
    "•\tregion: the beneficiary's residential area in the US, northeast, southeast, southwest, northwest.\n",
    "\n",
    "•\tcharges: Individual medical costs billed by health insurance\n"
   ]
  },
  {
   "cell_type": "code",
   "execution_count": 9,
   "id": "5fea31b0",
   "metadata": {},
   "outputs": [
    {
     "data": {
      "text/html": [
       "<div>\n",
       "<style scoped>\n",
       "    .dataframe tbody tr th:only-of-type {\n",
       "        vertical-align: middle;\n",
       "    }\n",
       "\n",
       "    .dataframe tbody tr th {\n",
       "        vertical-align: top;\n",
       "    }\n",
       "\n",
       "    .dataframe thead th {\n",
       "        text-align: right;\n",
       "    }\n",
       "</style>\n",
       "<table border=\"1\" class=\"dataframe\">\n",
       "  <thead>\n",
       "    <tr style=\"text-align: right;\">\n",
       "      <th></th>\n",
       "      <th>age</th>\n",
       "      <th>sex</th>\n",
       "      <th>bmi</th>\n",
       "      <th>children</th>\n",
       "      <th>smoker</th>\n",
       "      <th>region</th>\n",
       "      <th>charges</th>\n",
       "    </tr>\n",
       "  </thead>\n",
       "  <tbody>\n",
       "    <tr>\n",
       "      <th>0</th>\n",
       "      <td>19</td>\n",
       "      <td>female</td>\n",
       "      <td>27.900</td>\n",
       "      <td>0</td>\n",
       "      <td>yes</td>\n",
       "      <td>southwest</td>\n",
       "      <td>16884.92400</td>\n",
       "    </tr>\n",
       "    <tr>\n",
       "      <th>1</th>\n",
       "      <td>18</td>\n",
       "      <td>male</td>\n",
       "      <td>33.770</td>\n",
       "      <td>1</td>\n",
       "      <td>no</td>\n",
       "      <td>southeast</td>\n",
       "      <td>1725.55230</td>\n",
       "    </tr>\n",
       "    <tr>\n",
       "      <th>2</th>\n",
       "      <td>28</td>\n",
       "      <td>male</td>\n",
       "      <td>33.000</td>\n",
       "      <td>3</td>\n",
       "      <td>no</td>\n",
       "      <td>southeast</td>\n",
       "      <td>4449.46200</td>\n",
       "    </tr>\n",
       "    <tr>\n",
       "      <th>3</th>\n",
       "      <td>33</td>\n",
       "      <td>male</td>\n",
       "      <td>22.705</td>\n",
       "      <td>0</td>\n",
       "      <td>no</td>\n",
       "      <td>northwest</td>\n",
       "      <td>21984.47061</td>\n",
       "    </tr>\n",
       "    <tr>\n",
       "      <th>4</th>\n",
       "      <td>32</td>\n",
       "      <td>male</td>\n",
       "      <td>28.880</td>\n",
       "      <td>0</td>\n",
       "      <td>no</td>\n",
       "      <td>northwest</td>\n",
       "      <td>3866.85520</td>\n",
       "    </tr>\n",
       "    <tr>\n",
       "      <th>5</th>\n",
       "      <td>31</td>\n",
       "      <td>female</td>\n",
       "      <td>25.740</td>\n",
       "      <td>0</td>\n",
       "      <td>no</td>\n",
       "      <td>southeast</td>\n",
       "      <td>3756.62160</td>\n",
       "    </tr>\n",
       "    <tr>\n",
       "      <th>6</th>\n",
       "      <td>46</td>\n",
       "      <td>female</td>\n",
       "      <td>33.440</td>\n",
       "      <td>1</td>\n",
       "      <td>no</td>\n",
       "      <td>southeast</td>\n",
       "      <td>8240.58960</td>\n",
       "    </tr>\n",
       "    <tr>\n",
       "      <th>7</th>\n",
       "      <td>37</td>\n",
       "      <td>female</td>\n",
       "      <td>27.740</td>\n",
       "      <td>3</td>\n",
       "      <td>no</td>\n",
       "      <td>northwest</td>\n",
       "      <td>7281.50560</td>\n",
       "    </tr>\n",
       "    <tr>\n",
       "      <th>8</th>\n",
       "      <td>37</td>\n",
       "      <td>male</td>\n",
       "      <td>29.830</td>\n",
       "      <td>2</td>\n",
       "      <td>no</td>\n",
       "      <td>northeast</td>\n",
       "      <td>6406.41070</td>\n",
       "    </tr>\n",
       "    <tr>\n",
       "      <th>9</th>\n",
       "      <td>60</td>\n",
       "      <td>female</td>\n",
       "      <td>25.840</td>\n",
       "      <td>0</td>\n",
       "      <td>no</td>\n",
       "      <td>northwest</td>\n",
       "      <td>28923.13692</td>\n",
       "    </tr>\n",
       "  </tbody>\n",
       "</table>\n",
       "</div>"
      ],
      "text/plain": [
       "   age     sex     bmi  children smoker     region      charges\n",
       "0   19  female  27.900         0    yes  southwest  16884.92400\n",
       "1   18    male  33.770         1     no  southeast   1725.55230\n",
       "2   28    male  33.000         3     no  southeast   4449.46200\n",
       "3   33    male  22.705         0     no  northwest  21984.47061\n",
       "4   32    male  28.880         0     no  northwest   3866.85520\n",
       "5   31  female  25.740         0     no  southeast   3756.62160\n",
       "6   46  female  33.440         1     no  southeast   8240.58960\n",
       "7   37  female  27.740         3     no  northwest   7281.50560\n",
       "8   37    male  29.830         2     no  northeast   6406.41070\n",
       "9   60  female  25.840         0     no  northwest  28923.13692"
      ]
     },
     "execution_count": 9,
     "metadata": {},
     "output_type": "execute_result"
    }
   ],
   "source": [
    "df.head(10)"
   ]
  },
  {
   "cell_type": "code",
   "execution_count": 10,
   "id": "c5ba9907",
   "metadata": {},
   "outputs": [
    {
     "data": {
      "text/html": [
       "<div>\n",
       "<style scoped>\n",
       "    .dataframe tbody tr th:only-of-type {\n",
       "        vertical-align: middle;\n",
       "    }\n",
       "\n",
       "    .dataframe tbody tr th {\n",
       "        vertical-align: top;\n",
       "    }\n",
       "\n",
       "    .dataframe thead th {\n",
       "        text-align: right;\n",
       "    }\n",
       "</style>\n",
       "<table border=\"1\" class=\"dataframe\">\n",
       "  <thead>\n",
       "    <tr style=\"text-align: right;\">\n",
       "      <th></th>\n",
       "      <th>age</th>\n",
       "      <th>sex</th>\n",
       "      <th>bmi</th>\n",
       "      <th>children</th>\n",
       "      <th>smoker</th>\n",
       "      <th>region</th>\n",
       "      <th>charges</th>\n",
       "    </tr>\n",
       "  </thead>\n",
       "  <tbody>\n",
       "    <tr>\n",
       "      <th>1328</th>\n",
       "      <td>23</td>\n",
       "      <td>female</td>\n",
       "      <td>24.225</td>\n",
       "      <td>2</td>\n",
       "      <td>no</td>\n",
       "      <td>northeast</td>\n",
       "      <td>22395.74424</td>\n",
       "    </tr>\n",
       "    <tr>\n",
       "      <th>1329</th>\n",
       "      <td>52</td>\n",
       "      <td>male</td>\n",
       "      <td>38.600</td>\n",
       "      <td>2</td>\n",
       "      <td>no</td>\n",
       "      <td>southwest</td>\n",
       "      <td>10325.20600</td>\n",
       "    </tr>\n",
       "    <tr>\n",
       "      <th>1330</th>\n",
       "      <td>57</td>\n",
       "      <td>female</td>\n",
       "      <td>25.740</td>\n",
       "      <td>2</td>\n",
       "      <td>no</td>\n",
       "      <td>southeast</td>\n",
       "      <td>12629.16560</td>\n",
       "    </tr>\n",
       "    <tr>\n",
       "      <th>1331</th>\n",
       "      <td>23</td>\n",
       "      <td>female</td>\n",
       "      <td>33.400</td>\n",
       "      <td>0</td>\n",
       "      <td>no</td>\n",
       "      <td>southwest</td>\n",
       "      <td>10795.93733</td>\n",
       "    </tr>\n",
       "    <tr>\n",
       "      <th>1332</th>\n",
       "      <td>52</td>\n",
       "      <td>female</td>\n",
       "      <td>44.700</td>\n",
       "      <td>3</td>\n",
       "      <td>no</td>\n",
       "      <td>southwest</td>\n",
       "      <td>11411.68500</td>\n",
       "    </tr>\n",
       "    <tr>\n",
       "      <th>1333</th>\n",
       "      <td>50</td>\n",
       "      <td>male</td>\n",
       "      <td>30.970</td>\n",
       "      <td>3</td>\n",
       "      <td>no</td>\n",
       "      <td>northwest</td>\n",
       "      <td>10600.54830</td>\n",
       "    </tr>\n",
       "    <tr>\n",
       "      <th>1334</th>\n",
       "      <td>18</td>\n",
       "      <td>female</td>\n",
       "      <td>31.920</td>\n",
       "      <td>0</td>\n",
       "      <td>no</td>\n",
       "      <td>northeast</td>\n",
       "      <td>2205.98080</td>\n",
       "    </tr>\n",
       "    <tr>\n",
       "      <th>1335</th>\n",
       "      <td>18</td>\n",
       "      <td>female</td>\n",
       "      <td>36.850</td>\n",
       "      <td>0</td>\n",
       "      <td>no</td>\n",
       "      <td>southeast</td>\n",
       "      <td>1629.83350</td>\n",
       "    </tr>\n",
       "    <tr>\n",
       "      <th>1336</th>\n",
       "      <td>21</td>\n",
       "      <td>female</td>\n",
       "      <td>25.800</td>\n",
       "      <td>0</td>\n",
       "      <td>no</td>\n",
       "      <td>southwest</td>\n",
       "      <td>2007.94500</td>\n",
       "    </tr>\n",
       "    <tr>\n",
       "      <th>1337</th>\n",
       "      <td>61</td>\n",
       "      <td>female</td>\n",
       "      <td>29.070</td>\n",
       "      <td>0</td>\n",
       "      <td>yes</td>\n",
       "      <td>northwest</td>\n",
       "      <td>29141.36030</td>\n",
       "    </tr>\n",
       "  </tbody>\n",
       "</table>\n",
       "</div>"
      ],
      "text/plain": [
       "      age     sex     bmi  children smoker     region      charges\n",
       "1328   23  female  24.225         2     no  northeast  22395.74424\n",
       "1329   52    male  38.600         2     no  southwest  10325.20600\n",
       "1330   57  female  25.740         2     no  southeast  12629.16560\n",
       "1331   23  female  33.400         0     no  southwest  10795.93733\n",
       "1332   52  female  44.700         3     no  southwest  11411.68500\n",
       "1333   50    male  30.970         3     no  northwest  10600.54830\n",
       "1334   18  female  31.920         0     no  northeast   2205.98080\n",
       "1335   18  female  36.850         0     no  southeast   1629.83350\n",
       "1336   21  female  25.800         0     no  southwest   2007.94500\n",
       "1337   61  female  29.070         0    yes  northwest  29141.36030"
      ]
     },
     "execution_count": 10,
     "metadata": {},
     "output_type": "execute_result"
    }
   ],
   "source": [
    "df.tail(10)"
   ]
  },
  {
   "cell_type": "code",
   "execution_count": 11,
   "id": "3ca0b2fa",
   "metadata": {},
   "outputs": [
    {
     "name": "stdout",
     "output_type": "stream",
     "text": [
      "<class 'pandas.core.frame.DataFrame'>\n",
      "RangeIndex: 1338 entries, 0 to 1337\n",
      "Data columns (total 7 columns):\n",
      " #   Column    Non-Null Count  Dtype  \n",
      "---  ------    --------------  -----  \n",
      " 0   age       1338 non-null   int64  \n",
      " 1   sex       1338 non-null   object \n",
      " 2   bmi       1338 non-null   float64\n",
      " 3   children  1338 non-null   int64  \n",
      " 4   smoker    1338 non-null   object \n",
      " 5   region    1338 non-null   object \n",
      " 6   charges   1338 non-null   float64\n",
      "dtypes: float64(2), int64(2), object(3)\n",
      "memory usage: 73.3+ KB\n"
     ]
    }
   ],
   "source": [
    "df.info()"
   ]
  },
  {
   "cell_type": "markdown",
   "id": "68e232ba",
   "metadata": {},
   "source": [
    "- info on df tells us that there are 3 types of data, int64, flot64 and object. But age should be float (let's cross check0\n",
    "\n",
    "- we observe that there is no missing value"
   ]
  },
  {
   "cell_type": "code",
   "execution_count": 12,
   "id": "0da5ef7a",
   "metadata": {},
   "outputs": [
    {
     "data": {
      "text/plain": [
       "age           int64\n",
       "sex          object\n",
       "bmi         float64\n",
       "children      int64\n",
       "smoker       object\n",
       "region       object\n",
       "charges     float64\n",
       "dtype: object"
      ]
     },
     "execution_count": 12,
     "metadata": {},
     "output_type": "execute_result"
    }
   ],
   "source": [
    "# cross-checking data type\n",
    "\n",
    "df.dtypes"
   ]
  },
  {
   "cell_type": "code",
   "execution_count": 13,
   "id": "dbd51872",
   "metadata": {},
   "outputs": [
    {
     "data": {
      "text/plain": [
       "age         0\n",
       "sex         0\n",
       "bmi         0\n",
       "children    0\n",
       "smoker      0\n",
       "region      0\n",
       "charges     0\n",
       "dtype: int64"
      ]
     },
     "execution_count": 13,
     "metadata": {},
     "output_type": "execute_result"
    }
   ],
   "source": [
    "# cross-checking missing value\n",
    "df.isna().sum()"
   ]
  },
  {
   "cell_type": "code",
   "execution_count": 14,
   "id": "b7a7add2",
   "metadata": {},
   "outputs": [
    {
     "data": {
      "text/plain": [
       "age           47\n",
       "sex            2\n",
       "bmi          548\n",
       "children       6\n",
       "smoker         2\n",
       "region         4\n",
       "charges     1337\n",
       "dtype: int64"
      ]
     },
     "execution_count": 14,
     "metadata": {},
     "output_type": "execute_result"
    }
   ],
   "source": [
    "# Verifying unique values in checking float data types\n",
    "df.nunique()"
   ]
  },
  {
   "cell_type": "markdown",
   "id": "d6d05139",
   "metadata": {},
   "source": [
    "charges column is confirmed to be float data. Because this is regression problem more float data will be better, so we can consider bmi as float despite the low numbrer of unique values. age should not be converted to float because the number of unique values is very low, as consequence we will keep it as integer. children can be converted into categorical (object) because there are only 6 classes. "
   ]
  },
  {
   "cell_type": "code",
   "execution_count": 15,
   "id": "1aabc792",
   "metadata": {},
   "outputs": [],
   "source": [
    "# let's convert children into object\n",
    "\n",
    "df['children'] = df['children'].astype(object)"
   ]
  },
  {
   "cell_type": "code",
   "execution_count": 16,
   "id": "1dcd3225",
   "metadata": {},
   "outputs": [
    {
     "data": {
      "text/plain": [
       "age           int64\n",
       "sex          object\n",
       "bmi         float64\n",
       "children     object\n",
       "smoker       object\n",
       "region       object\n",
       "charges     float64\n",
       "dtype: object"
      ]
     },
     "execution_count": 16,
     "metadata": {},
     "output_type": "execute_result"
    }
   ],
   "source": [
    "df.dtypes"
   ]
  },
  {
   "cell_type": "code",
   "execution_count": 17,
   "id": "b14b9fdc",
   "metadata": {},
   "outputs": [
    {
     "data": {
      "text/html": [
       "<div>\n",
       "<style scoped>\n",
       "    .dataframe tbody tr th:only-of-type {\n",
       "        vertical-align: middle;\n",
       "    }\n",
       "\n",
       "    .dataframe tbody tr th {\n",
       "        vertical-align: top;\n",
       "    }\n",
       "\n",
       "    .dataframe thead th {\n",
       "        text-align: right;\n",
       "    }\n",
       "</style>\n",
       "<table border=\"1\" class=\"dataframe\">\n",
       "  <thead>\n",
       "    <tr style=\"text-align: right;\">\n",
       "      <th></th>\n",
       "      <th>age</th>\n",
       "      <th>sex</th>\n",
       "      <th>bmi</th>\n",
       "      <th>children</th>\n",
       "      <th>smoker</th>\n",
       "      <th>region</th>\n",
       "      <th>charges</th>\n",
       "    </tr>\n",
       "  </thead>\n",
       "  <tbody>\n",
       "    <tr>\n",
       "      <th>581</th>\n",
       "      <td>19</td>\n",
       "      <td>male</td>\n",
       "      <td>30.59</td>\n",
       "      <td>0</td>\n",
       "      <td>no</td>\n",
       "      <td>northwest</td>\n",
       "      <td>1639.5631</td>\n",
       "    </tr>\n",
       "  </tbody>\n",
       "</table>\n",
       "</div>"
      ],
      "text/plain": [
       "     age   sex    bmi children smoker     region    charges\n",
       "581   19  male  30.59        0     no  northwest  1639.5631"
      ]
     },
     "execution_count": 17,
     "metadata": {},
     "output_type": "execute_result"
    }
   ],
   "source": [
    "# checking for duplicates\n",
    "\n",
    "duplicate = df[df.duplicated()]\n",
    "duplicate"
   ]
  },
  {
   "cell_type": "code",
   "execution_count": 19,
   "id": "2997617d",
   "metadata": {},
   "outputs": [
    {
     "data": {
      "text/plain": [
       "1"
      ]
     },
     "execution_count": 19,
     "metadata": {},
     "output_type": "execute_result"
    }
   ],
   "source": [
    "df.duplicated().sum()"
   ]
  },
  {
   "cell_type": "markdown",
   "id": "6c7c799f",
   "metadata": {},
   "source": [
    "Only one duplicated row"
   ]
  },
  {
   "cell_type": "code",
   "execution_count": 20,
   "id": "2af23734",
   "metadata": {},
   "outputs": [],
   "source": [
    "# let's remove the duplicated row\n",
    "\n",
    "df1 = df.drop(index = 581)"
   ]
  },
  {
   "cell_type": "code",
   "execution_count": 22,
   "id": "14646b02",
   "metadata": {},
   "outputs": [
    {
     "data": {
      "text/plain": [
       "0"
      ]
     },
     "execution_count": 22,
     "metadata": {},
     "output_type": "execute_result"
    }
   ],
   "source": [
    "df1.duplicated().sum()"
   ]
  },
  {
   "cell_type": "code",
   "execution_count": 23,
   "id": "fea413c1",
   "metadata": {},
   "outputs": [],
   "source": [
    "df=df1"
   ]
  },
  {
   "cell_type": "code",
   "execution_count": 24,
   "id": "411baa34",
   "metadata": {},
   "outputs": [
    {
     "data": {
      "text/plain": [
       "0"
      ]
     },
     "execution_count": 24,
     "metadata": {},
     "output_type": "execute_result"
    }
   ],
   "source": [
    "df.duplicated().sum()"
   ]
  },
  {
   "cell_type": "code",
   "execution_count": 25,
   "id": "45fd35a3",
   "metadata": {},
   "outputs": [
    {
     "data": {
      "text/plain": [
       "(1337, 7)"
      ]
     },
     "execution_count": 25,
     "metadata": {},
     "output_type": "execute_result"
    }
   ],
   "source": [
    "df.shape"
   ]
  },
  {
   "cell_type": "markdown",
   "id": "e650bcf5",
   "metadata": {},
   "source": [
    "Visualising relationship between features and target"
   ]
  },
  {
   "cell_type": "code",
   "execution_count": null,
   "id": "6aee874f",
   "metadata": {},
   "outputs": [],
   "source": []
  },
  {
   "cell_type": "code",
   "execution_count": 46,
   "id": "ba1edb31",
   "metadata": {},
   "outputs": [],
   "source": [
    "# separating columns\n",
    "\n",
    "col_num = df[['age', 'bmi', 'charges']]\n",
    "col_cat = df.drop(col_num, axis = 1)\n"
   ]
  },
  {
   "cell_type": "code",
   "execution_count": null,
   "id": "8a505880",
   "metadata": {},
   "outputs": [],
   "source": []
  },
  {
   "cell_type": "code",
   "execution_count": 61,
   "id": "ea6c31e4",
   "metadata": {},
   "outputs": [
    {
     "data": {
      "image/png": "[encoded data removed]",
      "text/plain": [
       "<Figure size 700x700 with 4 Axes>"
      ]
     },
     "metadata": {},
     "output_type": "display_data"
    }
   ],
   "source": [
    "# univariate analising on categorical columns\n",
    "\n",
    "plt.figure(figsize = (7, 7))\n",
    "\n",
    "a = 1\n",
    "for i in col_cat:\n",
    "    if a<=4:\n",
    "        plt.subplot(2,2, a)\n",
    "        sns.countplot(x  = i, data = df)\n",
    "        plt.ylabel(i)\n",
    "    a+=1  \n",
    "    plt.tight_layout()           \n",
    "    \n",
    "   "
   ]
  },
  {
   "cell_type": "markdown",
   "id": "8eb80636",
   "metadata": {},
   "source": [
    "1 - females are almost as equal as males\n",
    "\n",
    "2 - the count of 'children' column is maximum at class 0, and decreases as number of children in categories/classes decreases, to the lowest at the class 5. This shows that insurees tend not to be having, or very few number of children/dependents\n",
    "\n",
    "3 - thereare very few smokers as compared to non-smokers\n",
    "\n",
    "4 - insurees are almost equaly come from each of the four regions"
   ]
  },
  {
   "cell_type": "code",
   "execution_count": null,
   "id": "7054ca9d",
   "metadata": {},
   "outputs": [],
   "source": []
  },
  {
   "cell_type": "markdown",
   "id": "e7e9d07f",
   "metadata": {},
   "source": [
    "Visualising relationships with categorical columns"
   ]
  },
  {
   "cell_type": "code",
   "execution_count": 70,
   "id": "30ab0179",
   "metadata": {},
   "outputs": [
    {
     "data": {
      "text/plain": [
       "<seaborn.axisgrid.FacetGrid at 0x7fb5c0b15280>"
      ]
     },
     "execution_count": 70,
     "metadata": {},
     "output_type": "execute_result"
    },
    {
     "data": {
      "image/png": "[encoded data removed]",
      "text/plain": [
       "<Figure size 2000x500 with 4 Axes>"
      ]
     },
     "metadata": {},
     "output_type": "display_data"
    }
   ],
   "source": [
    "# are females and males equal across region?\n",
    "\n",
    "sns.catplot(x = 'sex', col = 'region', data = df, kind = 'count')"
   ]
  },
  {
   "cell_type": "markdown",
   "id": "6a549477",
   "metadata": {},
   "source": [
    "Yes, males and females are equal across regions"
   ]
  },
  {
   "cell_type": "code",
   "execution_count": 71,
   "id": "5fe1a6c4",
   "metadata": {},
   "outputs": [
    {
     "data": {
      "text/plain": [
       "<seaborn.axisgrid.FacetGrid at 0x7fb5c11930d0>"
      ]
     },
     "execution_count": 71,
     "metadata": {},
     "output_type": "execute_result"
    },
    {
     "data": {
      "image/png": "[encoded data removed]",
      "text/plain": [
       "<Figure size 1000x500 with 2 Axes>"
      ]
     },
     "metadata": {},
     "output_type": "display_data"
    }
   ],
   "source": [
    "# do females smoke more than females?\n",
    "sns.catplot(x = 'sex', col = 'smoker', data = df, kind = 'count')"
   ]
  },
  {
   "cell_type": "markdown",
   "id": "18bcbfbe",
   "metadata": {},
   "source": [
    "both sex almost equally smoke "
   ]
  },
  {
   "cell_type": "code",
   "execution_count": null,
   "id": "290bbc22",
   "metadata": {},
   "outputs": [],
   "source": []
  },
  {
   "cell_type": "markdown",
   "id": "6f532d4a",
   "metadata": {},
   "source": [
    "visualising relationship between categorical and target\n",
    "\n"
   ]
  },
  {
   "cell_type": "code",
   "execution_count": null,
   "id": "cf2d6423",
   "metadata": {},
   "outputs": [],
   "source": []
  },
  {
   "cell_type": "code",
   "execution_count": 66,
   "id": "b613fe9e",
   "metadata": {},
   "outputs": [
    {
     "data": {
      "text/plain": [
       "<AxesSubplot:xlabel='sex', ylabel='charges'>"
      ]
     },
     "execution_count": 66,
     "metadata": {},
     "output_type": "execute_result"
    },
    {
     "data": {
      "image/png": "[encoded data removed]",
      "text/plain": [
       "<Figure size 640x480 with 1 Axes>"
      ]
     },
     "metadata": {},
     "output_type": "display_data"
    }
   ],
   "source": [
    "# are charges dependent on sex?\n",
    "sns.barplot(x = 'sex', y = 'charges', data = df)"
   ]
  },
  {
   "cell_type": "markdown",
   "id": "826723f2",
   "metadata": {},
   "source": [
    "We can observe that sex has no influence on charges. So, we can delete sex since it has Negligible influence on the target, meaning it is not an important feature for prediction"
   ]
  },
  {
   "cell_type": "code",
   "execution_count": 72,
   "id": "544d57d8",
   "metadata": {},
   "outputs": [
    {
     "data": {
      "text/plain": [
       "<AxesSubplot:xlabel='children', ylabel='charges'>"
      ]
     },
     "execution_count": 72,
     "metadata": {},
     "output_type": "execute_result"
    },
    {
     "data": {
      "image/png": "[encoded data removed]",
      "text/plain": [
       "<Figure size 640x480 with 1 Axes>"
      ]
     },
     "metadata": {},
     "output_type": "display_data"
    }
   ],
   "source": [
    "# are charges dependent on children?\n",
    "sns.barplot(x = 'children', y = 'charges', data = df)"
   ]
  },
  {
   "cell_type": "markdown",
   "id": "a4016a4b",
   "metadata": {},
   "source": [
    "Column 'children' seems to have influemce on 'charges', so we can consider it as important feature for prediction. "
   ]
  },
  {
   "cell_type": "code",
   "execution_count": 73,
   "id": "7e79a774",
   "metadata": {},
   "outputs": [
    {
     "data": {
      "text/plain": [
       "<AxesSubplot:xlabel='smoker', ylabel='charges'>"
      ]
     },
     "execution_count": 73,
     "metadata": {},
     "output_type": "execute_result"
    },
    {
     "data": {
      "image/png": "[encoded data removed]",
      "text/plain": [
       "<Figure size 640x480 with 1 Axes>"
      ]
     },
     "metadata": {},
     "output_type": "display_data"
    }
   ],
   "source": [
    "# are charges dependent on smoker?\n",
    "sns.barplot(x = 'smoker', y = 'charges', data = df)"
   ]
  },
  {
   "cell_type": "markdown",
   "id": "921dad35",
   "metadata": {},
   "source": [
    "We can see that smokers have high charges, so 'smoker' is a good feature for prediction"
   ]
  },
  {
   "cell_type": "code",
   "execution_count": 74,
   "id": "15fcbafb",
   "metadata": {},
   "outputs": [
    {
     "data": {
      "text/plain": [
       "<AxesSubplot:xlabel='region', ylabel='charges'>"
      ]
     },
     "execution_count": 74,
     "metadata": {},
     "output_type": "execute_result"
    },
    {
     "data": {
      "image/png": "[encoded data removed]",
      "text/plain": [
       "<Figure size 640x480 with 1 Axes>"
      ]
     },
     "metadata": {},
     "output_type": "display_data"
    }
   ],
   "source": [
    "# are charges dependent on region?\n",
    "sns.barplot(x = 'region', y = 'charges', data = df)"
   ]
  },
  {
   "cell_type": "markdown",
   "id": "75efee22",
   "metadata": {},
   "source": [
    "charges somehow vary across region. We will keep this column"
   ]
  },
  {
   "cell_type": "code",
   "execution_count": null,
   "id": "96e31259",
   "metadata": {},
   "outputs": [],
   "source": []
  },
  {
   "cell_type": "code",
   "execution_count": null,
   "id": "e8e13996",
   "metadata": {},
   "outputs": [],
   "source": []
  },
  {
   "cell_type": "code",
   "execution_count": null,
   "id": "1a66512c",
   "metadata": {},
   "outputs": [],
   "source": []
  },
  {
   "cell_type": "code",
   "execution_count": null,
   "id": "0fd18cc4",
   "metadata": {},
   "outputs": [],
   "source": []
  },
  {
   "cell_type": "code",
   "execution_count": 98,
   "id": "257669e2",
   "metadata": {},
   "outputs": [
    {
     "data": {
      "text/plain": [
       "<seaborn.axisgrid.PairGrid at 0x7fb5932e55e0>"
      ]
     },
     "execution_count": 98,
     "metadata": {},
     "output_type": "execute_result"
    },
    {
     "data": {
      "image/png": "[encoded data removed]",
      "text/plain": [
       "<Figure size 750x750 with 12 Axes>"
      ]
     },
     "metadata": {},
     "output_type": "display_data"
    }
   ],
   "source": [
    "sns.pairplot(col_num)"
   ]
  },
  {
   "cell_type": "markdown",
   "id": "668ed71a",
   "metadata": {},
   "source": [
    "from this graph, we observe the following:\n",
    "    \n",
    "- age looks almost normally distributed and bmi looks normally distributed. But, charges looks right skewed\n",
    "\n",
    "- charges tend to increase when age increases\n",
    "\n",
    "- charges tend to increase when bmi increases\n"
   ]
  },
  {
   "cell_type": "code",
   "execution_count": null,
   "id": "06b1d7d8",
   "metadata": {},
   "outputs": [],
   "source": []
  },
  {
   "cell_type": "markdown",
   "id": "04de2229",
   "metadata": {},
   "source": [
    "Let's visualise the distribution "
   ]
  },
  {
   "cell_type": "code",
   "execution_count": 83,
   "id": "7b6e93ef",
   "metadata": {},
   "outputs": [
    {
     "data": {
      "text/plain": [
       "['age', 'bmi', 'charges']"
      ]
     },
     "execution_count": 83,
     "metadata": {},
     "output_type": "execute_result"
    }
   ],
   "source": [
    "col = []\n",
    "for i in col_num.columns:\n",
    "    col.append(i)\n",
    "col"
   ]
  },
  {
   "cell_type": "code",
   "execution_count": 86,
   "id": "081a399d",
   "metadata": {},
   "outputs": [],
   "source": [
    "def distplot(columns, data, k, t, a, b, c, d):\n",
    "    plt.figure(figsize = (k, t), facecolor = 'purple')\n",
    "    j = 1\n",
    "    for i in columns:\n",
    "        if j<=a:\n",
    "            ax = plt.subplot(b, c, j)\n",
    "            sns.distplot(data[i], color = 'r')\n",
    "            plt.xlabel(i, fontsize = d)\n",
    "        j+=1\n",
    "        \n",
    "        plt.tight_layout()\n",
    "            \n",
    "            "
   ]
  },
  {
   "cell_type": "code",
   "execution_count": 94,
   "id": "7651d3bf",
   "metadata": {},
   "outputs": [
    {
     "data": {
      "image/png": "[encoded data removed]",
      "text/plain": [
       "<Figure size 1000x350 with 3 Axes>"
      ]
     },
     "metadata": {},
     "output_type": "display_data"
    }
   ],
   "source": [
    "distplot(col, col_num, 10, 3.5, 3, 1, 3, 20)"
   ]
  },
  {
   "cell_type": "code",
   "execution_count": 99,
   "id": "eb8971a5",
   "metadata": {},
   "outputs": [
    {
     "data": {
      "text/plain": [
       "age        0.054781\n",
       "bmi        0.283914\n",
       "charges    1.515391\n",
       "dtype: float64"
      ]
     },
     "execution_count": 99,
     "metadata": {},
     "output_type": "execute_result"
    }
   ],
   "source": [
    "col_num.skew()"
   ]
  },
  {
   "cell_type": "markdown",
   "id": "537b65d5",
   "metadata": {},
   "source": [
    "we can confirm that 'charges' is the only skewed column. So, we will remove skewness from this column."
   ]
  },
  {
   "cell_type": "code",
   "execution_count": null,
   "id": "02e24b62",
   "metadata": {},
   "outputs": [],
   "source": []
  },
  {
   "cell_type": "markdown",
   "id": "f152d632",
   "metadata": {},
   "source": [
    "Checking for outliers"
   ]
  },
  {
   "cell_type": "code",
   "execution_count": 104,
   "id": "93901ed8",
   "metadata": {},
   "outputs": [],
   "source": [
    "def box(columns, data, a, b, c, d):\n",
    "    plt.figure(figsize = (15, 7), facecolor = 'purple')\n",
    "    j = 1\n",
    "    for i in columns:\n",
    "        if j<=a:\n",
    "            ax = plt.subplot(b, c, j)\n",
    "            sns.boxplot(data[i], palette = 'colorblind')\n",
    "            plt.xlabel(i, fontsize = d)\n",
    "        j+=1\n",
    "        \n",
    "        plt.tight_layout()"
   ]
  },
  {
   "cell_type": "code",
   "execution_count": 105,
   "id": "b9fd05b7",
   "metadata": {},
   "outputs": [
    {
     "data": {
      "image/png": "[encoded data removed]",
      "text/plain": [
       "<Figure size 1500x700 with 3 Axes>"
      ]
     },
     "metadata": {},
     "output_type": "display_data"
    }
   ],
   "source": [
    "box(col, col_num, 3, 1, 3, 20)"
   ]
  },
  {
   "cell_type": "markdown",
   "id": "fdaa7639",
   "metadata": {},
   "source": [
    "bmi and chaarges contain outliers"
   ]
  },
  {
   "cell_type": "code",
   "execution_count": null,
   "id": "dcc6a3aa",
   "metadata": {},
   "outputs": [],
   "source": []
  },
  {
   "cell_type": "code",
   "execution_count": 129,
   "id": "4e6836e6",
   "metadata": {},
   "outputs": [],
   "source": [
    "# removing outliers using IQR\n",
    "Q1 = col_num.quantile(0.25)\n",
    "\n",
    "Q3 = col_num.quantile(0.75)\n",
    "\n",
    "IQR = Q3-Q1\n",
    "\n",
    "x = Q1-1.5*IQR\n",
    "y = Q3+1.5*IQR"
   ]
  },
  {
   "cell_type": "code",
   "execution_count": 130,
   "id": "23769a9e",
   "metadata": {},
   "outputs": [
    {
     "data": {
      "text/plain": [
       "age           -9.000000\n",
       "bmi           13.675000\n",
       "charges   -13120.716175\n",
       "dtype: float64"
      ]
     },
     "execution_count": 130,
     "metadata": {},
     "output_type": "execute_result"
    }
   ],
   "source": [
    "x"
   ]
  },
  {
   "cell_type": "code",
   "execution_count": 131,
   "id": "7f44cd46",
   "metadata": {},
   "outputs": [
    {
     "data": {
      "text/plain": [
       "age           87.000000\n",
       "bmi           47.315000\n",
       "charges    34524.777625\n",
       "dtype: float64"
      ]
     },
     "execution_count": 131,
     "metadata": {},
     "output_type": "execute_result"
    }
   ],
   "source": [
    "y"
   ]
  },
  {
   "cell_type": "code",
   "execution_count": null,
   "id": "fce15c25",
   "metadata": {},
   "outputs": [],
   "source": []
  },
  {
   "cell_type": "code",
   "execution_count": null,
   "id": "3465598c",
   "metadata": {},
   "outputs": [],
   "source": []
  },
  {
   "cell_type": "code",
   "execution_count": 132,
   "id": "7c5bcddb",
   "metadata": {},
   "outputs": [],
   "source": [
    "df1 = df[~((df > y) | (df < x)).any(axis = 1)]\n",
    "\n"
   ]
  },
  {
   "cell_type": "code",
   "execution_count": 133,
   "id": "fbbc307c",
   "metadata": {},
   "outputs": [
    {
     "data": {
      "text/html": [
       "<div>\n",
       "<style scoped>\n",
       "    .dataframe tbody tr th:only-of-type {\n",
       "        vertical-align: middle;\n",
       "    }\n",
       "\n",
       "    .dataframe tbody tr th {\n",
       "        vertical-align: top;\n",
       "    }\n",
       "\n",
       "    .dataframe thead th {\n",
       "        text-align: right;\n",
       "    }\n",
       "</style>\n",
       "<table border=\"1\" class=\"dataframe\">\n",
       "  <thead>\n",
       "    <tr style=\"text-align: right;\">\n",
       "      <th></th>\n",
       "      <th>age</th>\n",
       "      <th>sex</th>\n",
       "      <th>bmi</th>\n",
       "      <th>children</th>\n",
       "      <th>smoker</th>\n",
       "      <th>region</th>\n",
       "      <th>charges</th>\n",
       "    </tr>\n",
       "  </thead>\n",
       "  <tbody>\n",
       "    <tr>\n",
       "      <th>0</th>\n",
       "      <td>19</td>\n",
       "      <td>female</td>\n",
       "      <td>27.900</td>\n",
       "      <td>0</td>\n",
       "      <td>yes</td>\n",
       "      <td>southwest</td>\n",
       "      <td>16884.92400</td>\n",
       "    </tr>\n",
       "    <tr>\n",
       "      <th>1</th>\n",
       "      <td>18</td>\n",
       "      <td>male</td>\n",
       "      <td>33.770</td>\n",
       "      <td>1</td>\n",
       "      <td>no</td>\n",
       "      <td>southeast</td>\n",
       "      <td>1725.55230</td>\n",
       "    </tr>\n",
       "    <tr>\n",
       "      <th>2</th>\n",
       "      <td>28</td>\n",
       "      <td>male</td>\n",
       "      <td>33.000</td>\n",
       "      <td>3</td>\n",
       "      <td>no</td>\n",
       "      <td>southeast</td>\n",
       "      <td>4449.46200</td>\n",
       "    </tr>\n",
       "    <tr>\n",
       "      <th>3</th>\n",
       "      <td>33</td>\n",
       "      <td>male</td>\n",
       "      <td>22.705</td>\n",
       "      <td>0</td>\n",
       "      <td>no</td>\n",
       "      <td>northwest</td>\n",
       "      <td>21984.47061</td>\n",
       "    </tr>\n",
       "    <tr>\n",
       "      <th>4</th>\n",
       "      <td>32</td>\n",
       "      <td>male</td>\n",
       "      <td>28.880</td>\n",
       "      <td>0</td>\n",
       "      <td>no</td>\n",
       "      <td>northwest</td>\n",
       "      <td>3866.85520</td>\n",
       "    </tr>\n",
       "    <tr>\n",
       "      <th>...</th>\n",
       "      <td>...</td>\n",
       "      <td>...</td>\n",
       "      <td>...</td>\n",
       "      <td>...</td>\n",
       "      <td>...</td>\n",
       "      <td>...</td>\n",
       "      <td>...</td>\n",
       "    </tr>\n",
       "    <tr>\n",
       "      <th>1333</th>\n",
       "      <td>50</td>\n",
       "      <td>male</td>\n",
       "      <td>30.970</td>\n",
       "      <td>3</td>\n",
       "      <td>no</td>\n",
       "      <td>northwest</td>\n",
       "      <td>10600.54830</td>\n",
       "    </tr>\n",
       "    <tr>\n",
       "      <th>1334</th>\n",
       "      <td>18</td>\n",
       "      <td>female</td>\n",
       "      <td>31.920</td>\n",
       "      <td>0</td>\n",
       "      <td>no</td>\n",
       "      <td>northeast</td>\n",
       "      <td>2205.98080</td>\n",
       "    </tr>\n",
       "    <tr>\n",
       "      <th>1335</th>\n",
       "      <td>18</td>\n",
       "      <td>female</td>\n",
       "      <td>36.850</td>\n",
       "      <td>0</td>\n",
       "      <td>no</td>\n",
       "      <td>southeast</td>\n",
       "      <td>1629.83350</td>\n",
       "    </tr>\n",
       "    <tr>\n",
       "      <th>1336</th>\n",
       "      <td>21</td>\n",
       "      <td>female</td>\n",
       "      <td>25.800</td>\n",
       "      <td>0</td>\n",
       "      <td>no</td>\n",
       "      <td>southwest</td>\n",
       "      <td>2007.94500</td>\n",
       "    </tr>\n",
       "    <tr>\n",
       "      <th>1337</th>\n",
       "      <td>61</td>\n",
       "      <td>female</td>\n",
       "      <td>29.070</td>\n",
       "      <td>0</td>\n",
       "      <td>yes</td>\n",
       "      <td>northwest</td>\n",
       "      <td>29141.36030</td>\n",
       "    </tr>\n",
       "  </tbody>\n",
       "</table>\n",
       "<p>1192 rows × 7 columns</p>\n",
       "</div>"
      ],
      "text/plain": [
       "      age     sex     bmi children smoker     region      charges\n",
       "0      19  female  27.900        0    yes  southwest  16884.92400\n",
       "1      18    male  33.770        1     no  southeast   1725.55230\n",
       "2      28    male  33.000        3     no  southeast   4449.46200\n",
       "3      33    male  22.705        0     no  northwest  21984.47061\n",
       "4      32    male  28.880        0     no  northwest   3866.85520\n",
       "...   ...     ...     ...      ...    ...        ...          ...\n",
       "1333   50    male  30.970        3     no  northwest  10600.54830\n",
       "1334   18  female  31.920        0     no  northeast   2205.98080\n",
       "1335   18  female  36.850        0     no  southeast   1629.83350\n",
       "1336   21  female  25.800        0     no  southwest   2007.94500\n",
       "1337   61  female  29.070        0    yes  northwest  29141.36030\n",
       "\n",
       "[1192 rows x 7 columns]"
      ]
     },
     "execution_count": 133,
     "metadata": {},
     "output_type": "execute_result"
    }
   ],
   "source": [
    "df1"
   ]
  },
  {
   "cell_type": "code",
   "execution_count": 127,
   "id": "00193f08",
   "metadata": {},
   "outputs": [
    {
     "data": {
      "text/plain": [
       "(1337, 7)"
      ]
     },
     "execution_count": 127,
     "metadata": {},
     "output_type": "execute_result"
    }
   ],
   "source": [
    "df.shape"
   ]
  },
  {
   "cell_type": "code",
   "execution_count": 134,
   "id": "d4f17dc5",
   "metadata": {},
   "outputs": [
    {
     "data": {
      "text/plain": [
       "age         0\n",
       "sex         0\n",
       "bmi         0\n",
       "children    0\n",
       "smoker      0\n",
       "region      0\n",
       "charges     0\n",
       "dtype: int64"
      ]
     },
     "execution_count": 134,
     "metadata": {},
     "output_type": "execute_result"
    }
   ],
   "source": [
    "df1.isna().sum()"
   ]
  },
  {
   "cell_type": "code",
   "execution_count": 149,
   "id": "dc193b96",
   "metadata": {},
   "outputs": [
    {
     "data": {
      "text/html": [
       "<div>\n",
       "<style scoped>\n",
       "    .dataframe tbody tr th:only-of-type {\n",
       "        vertical-align: middle;\n",
       "    }\n",
       "\n",
       "    .dataframe tbody tr th {\n",
       "        vertical-align: top;\n",
       "    }\n",
       "\n",
       "    .dataframe thead th {\n",
       "        text-align: right;\n",
       "    }\n",
       "</style>\n",
       "<table border=\"1\" class=\"dataframe\">\n",
       "  <thead>\n",
       "    <tr style=\"text-align: right;\">\n",
       "      <th></th>\n",
       "      <th>age</th>\n",
       "      <th>bmi</th>\n",
       "      <th>charges</th>\n",
       "    </tr>\n",
       "  </thead>\n",
       "  <tbody>\n",
       "    <tr>\n",
       "      <th>count</th>\n",
       "      <td>1192.000000</td>\n",
       "      <td>1192.000000</td>\n",
       "      <td>1192.000000</td>\n",
       "    </tr>\n",
       "    <tr>\n",
       "      <th>mean</th>\n",
       "      <td>38.998322</td>\n",
       "      <td>29.998033</td>\n",
       "      <td>9949.235039</td>\n",
       "    </tr>\n",
       "    <tr>\n",
       "      <th>std</th>\n",
       "      <td>14.057457</td>\n",
       "      <td>5.869310</td>\n",
       "      <td>7250.376386</td>\n",
       "    </tr>\n",
       "    <tr>\n",
       "      <th>min</th>\n",
       "      <td>18.000000</td>\n",
       "      <td>15.960000</td>\n",
       "      <td>1121.873900</td>\n",
       "    </tr>\n",
       "    <tr>\n",
       "      <th>25%</th>\n",
       "      <td>26.000000</td>\n",
       "      <td>25.800000</td>\n",
       "      <td>4425.455588</td>\n",
       "    </tr>\n",
       "    <tr>\n",
       "      <th>50%</th>\n",
       "      <td>39.000000</td>\n",
       "      <td>29.717500</td>\n",
       "      <td>8411.754950</td>\n",
       "    </tr>\n",
       "    <tr>\n",
       "      <th>75%</th>\n",
       "      <td>51.000000</td>\n",
       "      <td>33.770000</td>\n",
       "      <td>12979.854925</td>\n",
       "    </tr>\n",
       "    <tr>\n",
       "      <th>max</th>\n",
       "      <td>64.000000</td>\n",
       "      <td>46.750000</td>\n",
       "      <td>34472.841000</td>\n",
       "    </tr>\n",
       "  </tbody>\n",
       "</table>\n",
       "</div>"
      ],
      "text/plain": [
       "               age          bmi       charges\n",
       "count  1192.000000  1192.000000   1192.000000\n",
       "mean     38.998322    29.998033   9949.235039\n",
       "std      14.057457     5.869310   7250.376386\n",
       "min      18.000000    15.960000   1121.873900\n",
       "25%      26.000000    25.800000   4425.455588\n",
       "50%      39.000000    29.717500   8411.754950\n",
       "75%      51.000000    33.770000  12979.854925\n",
       "max      64.000000    46.750000  34472.841000"
      ]
     },
     "execution_count": 149,
     "metadata": {},
     "output_type": "execute_result"
    }
   ],
   "source": [
    "df1.describe()"
   ]
  },
  {
   "cell_type": "code",
   "execution_count": 135,
   "id": "4e04a25f",
   "metadata": {},
   "outputs": [
    {
     "name": "stdout",
     "output_type": "stream",
     "text": [
      "data lost percentage is:  10.845175766641734\n"
     ]
    }
   ],
   "source": [
    "#percentage of data lost\n",
    "\n",
    "print('data lost percentage is: ', (col_num.shape[0]-df1.shape[0])/col_num.shape[0]*100)"
   ]
  },
  {
   "cell_type": "code",
   "execution_count": 182,
   "id": "4a963c83",
   "metadata": {},
   "outputs": [
    {
     "data": {
      "image/png": "[encoded data removed]",
      "text/plain": [
       "<Figure size 1500x700 with 3 Axes>"
      ]
     },
     "metadata": {},
     "output_type": "display_data"
    }
   ],
   "source": [
    "c_num = df1[['age', 'bmi', 'charges']]\n",
    "\n",
    "col3 = []\n",
    "for i in c_num.columns:\n",
    "    col3.append(i)\n",
    "\n",
    "\n",
    "box(col3, c_num,7, 2, 4, 20)"
   ]
  },
  {
   "cell_type": "code",
   "execution_count": 183,
   "id": "13cef378",
   "metadata": {},
   "outputs": [
    {
     "data": {
      "image/png": "[encoded data removed]",
      "text/plain": [
       "<Figure size 1000x350 with 3 Axes>"
      ]
     },
     "metadata": {},
     "output_type": "display_data"
    }
   ],
   "source": [
    "c_num = df1[['age', 'bmi', 'charges']]\n",
    "\n",
    "col3 = []\n",
    "for i in c_num.columns:\n",
    "    col3.append(i)\n",
    "\n",
    "\n",
    "distplot(col3, c_num, 10, 3.5, 3, 1, 3, 20)"
   ]
  },
  {
   "cell_type": "code",
   "execution_count": 187,
   "id": "53379964",
   "metadata": {},
   "outputs": [
    {
     "data": {
      "text/plain": [
       "age         0.069809\n",
       "bmi         0.262994\n",
       "children    0.983973\n",
       "charges     1.175678\n",
       "dtype: float64"
      ]
     },
     "execution_count": 187,
     "metadata": {},
     "output_type": "execute_result"
    }
   ],
   "source": [
    "df1.skew()"
   ]
  },
  {
   "cell_type": "code",
   "execution_count": null,
   "id": "35423e45",
   "metadata": {},
   "outputs": [],
   "source": []
  },
  {
   "cell_type": "code",
   "execution_count": null,
   "id": "5612151a",
   "metadata": {},
   "outputs": [],
   "source": []
  },
  {
   "cell_type": "code",
   "execution_count": null,
   "id": "325a4eed",
   "metadata": {},
   "outputs": [],
   "source": []
  },
  {
   "cell_type": "code",
   "execution_count": 157,
   "id": "908cdf9d",
   "metadata": {},
   "outputs": [
    {
     "data": {
      "text/html": [
       "<div>\n",
       "<style scoped>\n",
       "    .dataframe tbody tr th:only-of-type {\n",
       "        vertical-align: middle;\n",
       "    }\n",
       "\n",
       "    .dataframe tbody tr th {\n",
       "        vertical-align: top;\n",
       "    }\n",
       "\n",
       "    .dataframe thead th {\n",
       "        text-align: right;\n",
       "    }\n",
       "</style>\n",
       "<table border=\"1\" class=\"dataframe\">\n",
       "  <thead>\n",
       "    <tr style=\"text-align: right;\">\n",
       "      <th></th>\n",
       "      <th>age</th>\n",
       "      <th>bmi</th>\n",
       "      <th>charges</th>\n",
       "    </tr>\n",
       "  </thead>\n",
       "  <tbody>\n",
       "    <tr>\n",
       "      <th>0</th>\n",
       "      <td>1.440418</td>\n",
       "      <td>0.453160</td>\n",
       "      <td>0.297857</td>\n",
       "    </tr>\n",
       "    <tr>\n",
       "      <th>1</th>\n",
       "      <td>1.511647</td>\n",
       "      <td>0.509422</td>\n",
       "      <td>0.954381</td>\n",
       "    </tr>\n",
       "    <tr>\n",
       "      <th>2</th>\n",
       "      <td>0.799350</td>\n",
       "      <td>0.383155</td>\n",
       "      <td>0.729373</td>\n",
       "    </tr>\n",
       "    <tr>\n",
       "      <th>3</th>\n",
       "      <td>0.443201</td>\n",
       "      <td>1.305052</td>\n",
       "      <td>0.719104</td>\n",
       "    </tr>\n",
       "    <tr>\n",
       "      <th>4</th>\n",
       "      <td>0.514431</td>\n",
       "      <td>0.292456</td>\n",
       "      <td>0.777499</td>\n",
       "    </tr>\n",
       "    <tr>\n",
       "      <th>...</th>\n",
       "      <td>...</td>\n",
       "      <td>...</td>\n",
       "      <td>...</td>\n",
       "    </tr>\n",
       "    <tr>\n",
       "      <th>1333</th>\n",
       "      <td>0.767704</td>\n",
       "      <td>0.050269</td>\n",
       "      <td>0.221263</td>\n",
       "    </tr>\n",
       "    <tr>\n",
       "      <th>1334</th>\n",
       "      <td>1.511647</td>\n",
       "      <td>0.206053</td>\n",
       "      <td>0.914695</td>\n",
       "    </tr>\n",
       "    <tr>\n",
       "      <th>1335</th>\n",
       "      <td>1.511647</td>\n",
       "      <td>1.014490</td>\n",
       "      <td>0.962287</td>\n",
       "    </tr>\n",
       "    <tr>\n",
       "      <th>1336</th>\n",
       "      <td>1.297958</td>\n",
       "      <td>0.797524</td>\n",
       "      <td>0.931054</td>\n",
       "    </tr>\n",
       "    <tr>\n",
       "      <th>1337</th>\n",
       "      <td>1.551231</td>\n",
       "      <td>0.261299</td>\n",
       "      <td>1.310298</td>\n",
       "    </tr>\n",
       "  </tbody>\n",
       "</table>\n",
       "<p>1337 rows × 3 columns</p>\n",
       "</div>"
      ],
      "text/plain": [
       "           age       bmi   charges\n",
       "0     1.440418  0.453160  0.297857\n",
       "1     1.511647  0.509422  0.954381\n",
       "2     0.799350  0.383155  0.729373\n",
       "3     0.443201  1.305052  0.719104\n",
       "4     0.514431  0.292456  0.777499\n",
       "...        ...       ...       ...\n",
       "1333  0.767704  0.050269  0.221263\n",
       "1334  1.511647  0.206053  0.914695\n",
       "1335  1.511647  1.014490  0.962287\n",
       "1336  1.297958  0.797524  0.931054\n",
       "1337  1.551231  0.261299  1.310298\n",
       "\n",
       "[1337 rows x 3 columns]"
      ]
     },
     "execution_count": 157,
     "metadata": {},
     "output_type": "execute_result"
    }
   ],
   "source": [
    "# removing outliers using zscore\n",
    "\n",
    "from scipy.stats import zscore\n",
    "    \n",
    "z = np.abs(zscore(col_num))\n",
    "\n",
    "z\n"
   ]
  },
  {
   "cell_type": "code",
   "execution_count": 172,
   "id": "73034289",
   "metadata": {},
   "outputs": [],
   "source": [
    "df2 = df[(z<2.5).all(axis = 1)]"
   ]
  },
  {
   "cell_type": "code",
   "execution_count": 173,
   "id": "67fe0272",
   "metadata": {},
   "outputs": [
    {
     "name": "stdout",
     "output_type": "stream",
     "text": [
      "data lost percentage is:  4.712041884816754\n"
     ]
    }
   ],
   "source": [
    "print('data lost percentage is: ', (col_num.shape[0]-df2.shape[0])/col_num.shape[0]*100)"
   ]
  },
  {
   "cell_type": "code",
   "execution_count": 174,
   "id": "6fc3e18c",
   "metadata": {},
   "outputs": [
    {
     "data": {
      "text/plain": [
       "(1274, 7)"
      ]
     },
     "execution_count": 174,
     "metadata": {},
     "output_type": "execute_result"
    }
   ],
   "source": [
    "df2.shape"
   ]
  },
  {
   "cell_type": "code",
   "execution_count": 176,
   "id": "10967fa9",
   "metadata": {},
   "outputs": [
    {
     "data": {
      "text/html": [
       "<div>\n",
       "<style scoped>\n",
       "    .dataframe tbody tr th:only-of-type {\n",
       "        vertical-align: middle;\n",
       "    }\n",
       "\n",
       "    .dataframe tbody tr th {\n",
       "        vertical-align: top;\n",
       "    }\n",
       "\n",
       "    .dataframe thead th {\n",
       "        text-align: right;\n",
       "    }\n",
       "</style>\n",
       "<table border=\"1\" class=\"dataframe\">\n",
       "  <thead>\n",
       "    <tr style=\"text-align: right;\">\n",
       "      <th></th>\n",
       "      <th>age</th>\n",
       "      <th>bmi</th>\n",
       "      <th>charges</th>\n",
       "    </tr>\n",
       "  </thead>\n",
       "  <tbody>\n",
       "    <tr>\n",
       "      <th>count</th>\n",
       "      <td>1274.000000</td>\n",
       "      <td>1274.000000</td>\n",
       "      <td>1274.000000</td>\n",
       "    </tr>\n",
       "    <tr>\n",
       "      <th>mean</th>\n",
       "      <td>38.700157</td>\n",
       "      <td>30.232814</td>\n",
       "      <td>11946.975892</td>\n",
       "    </tr>\n",
       "    <tr>\n",
       "      <th>std</th>\n",
       "      <td>13.931362</td>\n",
       "      <td>5.768671</td>\n",
       "      <td>10139.284595</td>\n",
       "    </tr>\n",
       "    <tr>\n",
       "      <th>min</th>\n",
       "      <td>18.000000</td>\n",
       "      <td>15.960000</td>\n",
       "      <td>1121.873900</td>\n",
       "    </tr>\n",
       "    <tr>\n",
       "      <th>25%</th>\n",
       "      <td>26.000000</td>\n",
       "      <td>26.030000</td>\n",
       "      <td>4583.079762</td>\n",
       "    </tr>\n",
       "    <tr>\n",
       "      <th>50%</th>\n",
       "      <td>39.000000</td>\n",
       "      <td>30.025000</td>\n",
       "      <td>8964.928150</td>\n",
       "    </tr>\n",
       "    <tr>\n",
       "      <th>75%</th>\n",
       "      <td>50.000000</td>\n",
       "      <td>34.105000</td>\n",
       "      <td>14424.125488</td>\n",
       "    </tr>\n",
       "    <tr>\n",
       "      <th>max</th>\n",
       "      <td>64.000000</td>\n",
       "      <td>45.900000</td>\n",
       "      <td>43254.417950</td>\n",
       "    </tr>\n",
       "  </tbody>\n",
       "</table>\n",
       "</div>"
      ],
      "text/plain": [
       "               age          bmi       charges\n",
       "count  1274.000000  1274.000000   1274.000000\n",
       "mean     38.700157    30.232814  11946.975892\n",
       "std      13.931362     5.768671  10139.284595\n",
       "min      18.000000    15.960000   1121.873900\n",
       "25%      26.000000    26.030000   4583.079762\n",
       "50%      39.000000    30.025000   8964.928150\n",
       "75%      50.000000    34.105000  14424.125488\n",
       "max      64.000000    45.900000  43254.417950"
      ]
     },
     "execution_count": 176,
     "metadata": {},
     "output_type": "execute_result"
    }
   ],
   "source": [
    "df2.describe()"
   ]
  },
  {
   "cell_type": "code",
   "execution_count": 177,
   "id": "59193fd7",
   "metadata": {},
   "outputs": [
    {
     "data": {
      "text/html": [
       "<div>\n",
       "<style scoped>\n",
       "    .dataframe tbody tr th:only-of-type {\n",
       "        vertical-align: middle;\n",
       "    }\n",
       "\n",
       "    .dataframe tbody tr th {\n",
       "        vertical-align: top;\n",
       "    }\n",
       "\n",
       "    .dataframe thead th {\n",
       "        text-align: right;\n",
       "    }\n",
       "</style>\n",
       "<table border=\"1\" class=\"dataframe\">\n",
       "  <thead>\n",
       "    <tr style=\"text-align: right;\">\n",
       "      <th></th>\n",
       "      <th>age</th>\n",
       "      <th>sex</th>\n",
       "      <th>bmi</th>\n",
       "      <th>children</th>\n",
       "      <th>smoker</th>\n",
       "      <th>region</th>\n",
       "      <th>charges</th>\n",
       "    </tr>\n",
       "  </thead>\n",
       "  <tbody>\n",
       "    <tr>\n",
       "      <th>0</th>\n",
       "      <td>19</td>\n",
       "      <td>female</td>\n",
       "      <td>27.900</td>\n",
       "      <td>0</td>\n",
       "      <td>yes</td>\n",
       "      <td>southwest</td>\n",
       "      <td>16884.92400</td>\n",
       "    </tr>\n",
       "    <tr>\n",
       "      <th>1</th>\n",
       "      <td>18</td>\n",
       "      <td>male</td>\n",
       "      <td>33.770</td>\n",
       "      <td>1</td>\n",
       "      <td>no</td>\n",
       "      <td>southeast</td>\n",
       "      <td>1725.55230</td>\n",
       "    </tr>\n",
       "    <tr>\n",
       "      <th>2</th>\n",
       "      <td>28</td>\n",
       "      <td>male</td>\n",
       "      <td>33.000</td>\n",
       "      <td>3</td>\n",
       "      <td>no</td>\n",
       "      <td>southeast</td>\n",
       "      <td>4449.46200</td>\n",
       "    </tr>\n",
       "    <tr>\n",
       "      <th>3</th>\n",
       "      <td>33</td>\n",
       "      <td>male</td>\n",
       "      <td>22.705</td>\n",
       "      <td>0</td>\n",
       "      <td>no</td>\n",
       "      <td>northwest</td>\n",
       "      <td>21984.47061</td>\n",
       "    </tr>\n",
       "    <tr>\n",
       "      <th>4</th>\n",
       "      <td>32</td>\n",
       "      <td>male</td>\n",
       "      <td>28.880</td>\n",
       "      <td>0</td>\n",
       "      <td>no</td>\n",
       "      <td>northwest</td>\n",
       "      <td>3866.85520</td>\n",
       "    </tr>\n",
       "    <tr>\n",
       "      <th>...</th>\n",
       "      <td>...</td>\n",
       "      <td>...</td>\n",
       "      <td>...</td>\n",
       "      <td>...</td>\n",
       "      <td>...</td>\n",
       "      <td>...</td>\n",
       "      <td>...</td>\n",
       "    </tr>\n",
       "    <tr>\n",
       "      <th>1333</th>\n",
       "      <td>50</td>\n",
       "      <td>male</td>\n",
       "      <td>30.970</td>\n",
       "      <td>3</td>\n",
       "      <td>no</td>\n",
       "      <td>northwest</td>\n",
       "      <td>10600.54830</td>\n",
       "    </tr>\n",
       "    <tr>\n",
       "      <th>1334</th>\n",
       "      <td>18</td>\n",
       "      <td>female</td>\n",
       "      <td>31.920</td>\n",
       "      <td>0</td>\n",
       "      <td>no</td>\n",
       "      <td>northeast</td>\n",
       "      <td>2205.98080</td>\n",
       "    </tr>\n",
       "    <tr>\n",
       "      <th>1335</th>\n",
       "      <td>18</td>\n",
       "      <td>female</td>\n",
       "      <td>36.850</td>\n",
       "      <td>0</td>\n",
       "      <td>no</td>\n",
       "      <td>southeast</td>\n",
       "      <td>1629.83350</td>\n",
       "    </tr>\n",
       "    <tr>\n",
       "      <th>1336</th>\n",
       "      <td>21</td>\n",
       "      <td>female</td>\n",
       "      <td>25.800</td>\n",
       "      <td>0</td>\n",
       "      <td>no</td>\n",
       "      <td>southwest</td>\n",
       "      <td>2007.94500</td>\n",
       "    </tr>\n",
       "    <tr>\n",
       "      <th>1337</th>\n",
       "      <td>61</td>\n",
       "      <td>female</td>\n",
       "      <td>29.070</td>\n",
       "      <td>0</td>\n",
       "      <td>yes</td>\n",
       "      <td>northwest</td>\n",
       "      <td>29141.36030</td>\n",
       "    </tr>\n",
       "  </tbody>\n",
       "</table>\n",
       "<p>1274 rows × 7 columns</p>\n",
       "</div>"
      ],
      "text/plain": [
       "      age     sex     bmi children smoker     region      charges\n",
       "0      19  female  27.900        0    yes  southwest  16884.92400\n",
       "1      18    male  33.770        1     no  southeast   1725.55230\n",
       "2      28    male  33.000        3     no  southeast   4449.46200\n",
       "3      33    male  22.705        0     no  northwest  21984.47061\n",
       "4      32    male  28.880        0     no  northwest   3866.85520\n",
       "...   ...     ...     ...      ...    ...        ...          ...\n",
       "1333   50    male  30.970        3     no  northwest  10600.54830\n",
       "1334   18  female  31.920        0     no  northeast   2205.98080\n",
       "1335   18  female  36.850        0     no  southeast   1629.83350\n",
       "1336   21  female  25.800        0     no  southwest   2007.94500\n",
       "1337   61  female  29.070        0    yes  northwest  29141.36030\n",
       "\n",
       "[1274 rows x 7 columns]"
      ]
     },
     "execution_count": 177,
     "metadata": {},
     "output_type": "execute_result"
    }
   ],
   "source": [
    "df2"
   ]
  },
  {
   "cell_type": "code",
   "execution_count": 181,
   "id": "48d7883a",
   "metadata": {},
   "outputs": [
    {
     "data": {
      "image/png": "[encoded data removed]",
      "text/plain": [
       "<Figure size 1500x700 with 3 Axes>"
      ]
     },
     "metadata": {},
     "output_type": "display_data"
    }
   ],
   "source": [
    "c_num = df2[['age', 'bmi', 'charges']]\n",
    "\n",
    "col3 = []\n",
    "for i in c_num.columns:\n",
    "    col3.append(i)\n",
    "\n",
    "\n",
    "box(col3, c_num,7, 2, 4, 20)"
   ]
  },
  {
   "cell_type": "code",
   "execution_count": 180,
   "id": "a6bcee17",
   "metadata": {},
   "outputs": [
    {
     "data": {
      "image/png": "[encoded data removed]",
      "text/plain": [
       "<Figure size 1000x350 with 3 Axes>"
      ]
     },
     "metadata": {},
     "output_type": "display_data"
    }
   ],
   "source": [
    "c_num = df2[['age', 'bmi', 'charges']]\n",
    "\n",
    "col3 = []\n",
    "for i in c_num.columns:\n",
    "    col3.append(i)\n",
    "\n",
    "\n",
    "distplot(col3, c_num, 10, 3.5, 3, 1, 3, 20)"
   ]
  },
  {
   "cell_type": "code",
   "execution_count": 184,
   "id": "4d5efdc2",
   "metadata": {},
   "outputs": [
    {
     "data": {
      "text/plain": [
       "age         0.094934\n",
       "bmi         0.131531\n",
       "children    0.958870\n",
       "charges     1.421599\n",
       "dtype: float64"
      ]
     },
     "execution_count": 184,
     "metadata": {},
     "output_type": "execute_result"
    }
   ],
   "source": [
    "df2.skew()"
   ]
  },
  {
   "cell_type": "markdown",
   "id": "5d88bcae",
   "metadata": {},
   "source": [
    "z score gives a better data lost percentage. So we choose  zscore."
   ]
  },
  {
   "cell_type": "code",
   "execution_count": null,
   "id": "154ca55d",
   "metadata": {},
   "outputs": [],
   "source": []
  },
  {
   "cell_type": "code",
   "execution_count": 188,
   "id": "24894ca0",
   "metadata": {},
   "outputs": [],
   "source": [
    "df = df2"
   ]
  },
  {
   "cell_type": "code",
   "execution_count": 189,
   "id": "f852c0d0",
   "metadata": {},
   "outputs": [
    {
     "data": {
      "text/html": [
       "<div>\n",
       "<style scoped>\n",
       "    .dataframe tbody tr th:only-of-type {\n",
       "        vertical-align: middle;\n",
       "    }\n",
       "\n",
       "    .dataframe tbody tr th {\n",
       "        vertical-align: top;\n",
       "    }\n",
       "\n",
       "    .dataframe thead th {\n",
       "        text-align: right;\n",
       "    }\n",
       "</style>\n",
       "<table border=\"1\" class=\"dataframe\">\n",
       "  <thead>\n",
       "    <tr style=\"text-align: right;\">\n",
       "      <th></th>\n",
       "      <th>age</th>\n",
       "      <th>sex</th>\n",
       "      <th>bmi</th>\n",
       "      <th>children</th>\n",
       "      <th>smoker</th>\n",
       "      <th>region</th>\n",
       "      <th>charges</th>\n",
       "    </tr>\n",
       "  </thead>\n",
       "  <tbody>\n",
       "    <tr>\n",
       "      <th>0</th>\n",
       "      <td>19</td>\n",
       "      <td>female</td>\n",
       "      <td>27.900</td>\n",
       "      <td>0</td>\n",
       "      <td>yes</td>\n",
       "      <td>southwest</td>\n",
       "      <td>16884.92400</td>\n",
       "    </tr>\n",
       "    <tr>\n",
       "      <th>1</th>\n",
       "      <td>18</td>\n",
       "      <td>male</td>\n",
       "      <td>33.770</td>\n",
       "      <td>1</td>\n",
       "      <td>no</td>\n",
       "      <td>southeast</td>\n",
       "      <td>1725.55230</td>\n",
       "    </tr>\n",
       "    <tr>\n",
       "      <th>2</th>\n",
       "      <td>28</td>\n",
       "      <td>male</td>\n",
       "      <td>33.000</td>\n",
       "      <td>3</td>\n",
       "      <td>no</td>\n",
       "      <td>southeast</td>\n",
       "      <td>4449.46200</td>\n",
       "    </tr>\n",
       "    <tr>\n",
       "      <th>3</th>\n",
       "      <td>33</td>\n",
       "      <td>male</td>\n",
       "      <td>22.705</td>\n",
       "      <td>0</td>\n",
       "      <td>no</td>\n",
       "      <td>northwest</td>\n",
       "      <td>21984.47061</td>\n",
       "    </tr>\n",
       "    <tr>\n",
       "      <th>4</th>\n",
       "      <td>32</td>\n",
       "      <td>male</td>\n",
       "      <td>28.880</td>\n",
       "      <td>0</td>\n",
       "      <td>no</td>\n",
       "      <td>northwest</td>\n",
       "      <td>3866.85520</td>\n",
       "    </tr>\n",
       "    <tr>\n",
       "      <th>...</th>\n",
       "      <td>...</td>\n",
       "      <td>...</td>\n",
       "      <td>...</td>\n",
       "      <td>...</td>\n",
       "      <td>...</td>\n",
       "      <td>...</td>\n",
       "      <td>...</td>\n",
       "    </tr>\n",
       "    <tr>\n",
       "      <th>1333</th>\n",
       "      <td>50</td>\n",
       "      <td>male</td>\n",
       "      <td>30.970</td>\n",
       "      <td>3</td>\n",
       "      <td>no</td>\n",
       "      <td>northwest</td>\n",
       "      <td>10600.54830</td>\n",
       "    </tr>\n",
       "    <tr>\n",
       "      <th>1334</th>\n",
       "      <td>18</td>\n",
       "      <td>female</td>\n",
       "      <td>31.920</td>\n",
       "      <td>0</td>\n",
       "      <td>no</td>\n",
       "      <td>northeast</td>\n",
       "      <td>2205.98080</td>\n",
       "    </tr>\n",
       "    <tr>\n",
       "      <th>1335</th>\n",
       "      <td>18</td>\n",
       "      <td>female</td>\n",
       "      <td>36.850</td>\n",
       "      <td>0</td>\n",
       "      <td>no</td>\n",
       "      <td>southeast</td>\n",
       "      <td>1629.83350</td>\n",
       "    </tr>\n",
       "    <tr>\n",
       "      <th>1336</th>\n",
       "      <td>21</td>\n",
       "      <td>female</td>\n",
       "      <td>25.800</td>\n",
       "      <td>0</td>\n",
       "      <td>no</td>\n",
       "      <td>southwest</td>\n",
       "      <td>2007.94500</td>\n",
       "    </tr>\n",
       "    <tr>\n",
       "      <th>1337</th>\n",
       "      <td>61</td>\n",
       "      <td>female</td>\n",
       "      <td>29.070</td>\n",
       "      <td>0</td>\n",
       "      <td>yes</td>\n",
       "      <td>northwest</td>\n",
       "      <td>29141.36030</td>\n",
       "    </tr>\n",
       "  </tbody>\n",
       "</table>\n",
       "<p>1274 rows × 7 columns</p>\n",
       "</div>"
      ],
      "text/plain": [
       "      age     sex     bmi children smoker     region      charges\n",
       "0      19  female  27.900        0    yes  southwest  16884.92400\n",
       "1      18    male  33.770        1     no  southeast   1725.55230\n",
       "2      28    male  33.000        3     no  southeast   4449.46200\n",
       "3      33    male  22.705        0     no  northwest  21984.47061\n",
       "4      32    male  28.880        0     no  northwest   3866.85520\n",
       "...   ...     ...     ...      ...    ...        ...          ...\n",
       "1333   50    male  30.970        3     no  northwest  10600.54830\n",
       "1334   18  female  31.920        0     no  northeast   2205.98080\n",
       "1335   18  female  36.850        0     no  southeast   1629.83350\n",
       "1336   21  female  25.800        0     no  southwest   2007.94500\n",
       "1337   61  female  29.070        0    yes  northwest  29141.36030\n",
       "\n",
       "[1274 rows x 7 columns]"
      ]
     },
     "execution_count": 189,
     "metadata": {},
     "output_type": "execute_result"
    }
   ],
   "source": [
    "df"
   ]
  },
  {
   "cell_type": "code",
   "execution_count": 190,
   "id": "166174fe",
   "metadata": {},
   "outputs": [],
   "source": [
    "# deleting sex column, as it does not influence on charges\n",
    "\n",
    "df.drop('sex', axis = 1, inplace = True)"
   ]
  },
  {
   "cell_type": "code",
   "execution_count": 191,
   "id": "557bd2a5",
   "metadata": {},
   "outputs": [
    {
     "data": {
      "text/html": [
       "<div>\n",
       "<style scoped>\n",
       "    .dataframe tbody tr th:only-of-type {\n",
       "        vertical-align: middle;\n",
       "    }\n",
       "\n",
       "    .dataframe tbody tr th {\n",
       "        vertical-align: top;\n",
       "    }\n",
       "\n",
       "    .dataframe thead th {\n",
       "        text-align: right;\n",
       "    }\n",
       "</style>\n",
       "<table border=\"1\" class=\"dataframe\">\n",
       "  <thead>\n",
       "    <tr style=\"text-align: right;\">\n",
       "      <th></th>\n",
       "      <th>age</th>\n",
       "      <th>bmi</th>\n",
       "      <th>children</th>\n",
       "      <th>smoker</th>\n",
       "      <th>region</th>\n",
       "      <th>charges</th>\n",
       "    </tr>\n",
       "  </thead>\n",
       "  <tbody>\n",
       "    <tr>\n",
       "      <th>0</th>\n",
       "      <td>19</td>\n",
       "      <td>27.900</td>\n",
       "      <td>0</td>\n",
       "      <td>yes</td>\n",
       "      <td>southwest</td>\n",
       "      <td>16884.92400</td>\n",
       "    </tr>\n",
       "    <tr>\n",
       "      <th>1</th>\n",
       "      <td>18</td>\n",
       "      <td>33.770</td>\n",
       "      <td>1</td>\n",
       "      <td>no</td>\n",
       "      <td>southeast</td>\n",
       "      <td>1725.55230</td>\n",
       "    </tr>\n",
       "    <tr>\n",
       "      <th>2</th>\n",
       "      <td>28</td>\n",
       "      <td>33.000</td>\n",
       "      <td>3</td>\n",
       "      <td>no</td>\n",
       "      <td>southeast</td>\n",
       "      <td>4449.46200</td>\n",
       "    </tr>\n",
       "    <tr>\n",
       "      <th>3</th>\n",
       "      <td>33</td>\n",
       "      <td>22.705</td>\n",
       "      <td>0</td>\n",
       "      <td>no</td>\n",
       "      <td>northwest</td>\n",
       "      <td>21984.47061</td>\n",
       "    </tr>\n",
       "    <tr>\n",
       "      <th>4</th>\n",
       "      <td>32</td>\n",
       "      <td>28.880</td>\n",
       "      <td>0</td>\n",
       "      <td>no</td>\n",
       "      <td>northwest</td>\n",
       "      <td>3866.85520</td>\n",
       "    </tr>\n",
       "    <tr>\n",
       "      <th>...</th>\n",
       "      <td>...</td>\n",
       "      <td>...</td>\n",
       "      <td>...</td>\n",
       "      <td>...</td>\n",
       "      <td>...</td>\n",
       "      <td>...</td>\n",
       "    </tr>\n",
       "    <tr>\n",
       "      <th>1333</th>\n",
       "      <td>50</td>\n",
       "      <td>30.970</td>\n",
       "      <td>3</td>\n",
       "      <td>no</td>\n",
       "      <td>northwest</td>\n",
       "      <td>10600.54830</td>\n",
       "    </tr>\n",
       "    <tr>\n",
       "      <th>1334</th>\n",
       "      <td>18</td>\n",
       "      <td>31.920</td>\n",
       "      <td>0</td>\n",
       "      <td>no</td>\n",
       "      <td>northeast</td>\n",
       "      <td>2205.98080</td>\n",
       "    </tr>\n",
       "    <tr>\n",
       "      <th>1335</th>\n",
       "      <td>18</td>\n",
       "      <td>36.850</td>\n",
       "      <td>0</td>\n",
       "      <td>no</td>\n",
       "      <td>southeast</td>\n",
       "      <td>1629.83350</td>\n",
       "    </tr>\n",
       "    <tr>\n",
       "      <th>1336</th>\n",
       "      <td>21</td>\n",
       "      <td>25.800</td>\n",
       "      <td>0</td>\n",
       "      <td>no</td>\n",
       "      <td>southwest</td>\n",
       "      <td>2007.94500</td>\n",
       "    </tr>\n",
       "    <tr>\n",
       "      <th>1337</th>\n",
       "      <td>61</td>\n",
       "      <td>29.070</td>\n",
       "      <td>0</td>\n",
       "      <td>yes</td>\n",
       "      <td>northwest</td>\n",
       "      <td>29141.36030</td>\n",
       "    </tr>\n",
       "  </tbody>\n",
       "</table>\n",
       "<p>1274 rows × 6 columns</p>\n",
       "</div>"
      ],
      "text/plain": [
       "      age     bmi children smoker     region      charges\n",
       "0      19  27.900        0    yes  southwest  16884.92400\n",
       "1      18  33.770        1     no  southeast   1725.55230\n",
       "2      28  33.000        3     no  southeast   4449.46200\n",
       "3      33  22.705        0     no  northwest  21984.47061\n",
       "4      32  28.880        0     no  northwest   3866.85520\n",
       "...   ...     ...      ...    ...        ...          ...\n",
       "1333   50  30.970        3     no  northwest  10600.54830\n",
       "1334   18  31.920        0     no  northeast   2205.98080\n",
       "1335   18  36.850        0     no  southeast   1629.83350\n",
       "1336   21  25.800        0     no  southwest   2007.94500\n",
       "1337   61  29.070        0    yes  northwest  29141.36030\n",
       "\n",
       "[1274 rows x 6 columns]"
      ]
     },
     "execution_count": 191,
     "metadata": {},
     "output_type": "execute_result"
    }
   ],
   "source": [
    "df"
   ]
  },
  {
   "cell_type": "markdown",
   "id": "7c82e427",
   "metadata": {},
   "source": [
    "Removing skewness"
   ]
  },
  {
   "cell_type": "code",
   "execution_count": 192,
   "id": "a8c64fb6",
   "metadata": {},
   "outputs": [
    {
     "data": {
      "text/plain": [
       "age         0.094934\n",
       "bmi         0.131531\n",
       "children    0.958870\n",
       "charges     1.421599\n",
       "dtype: float64"
      ]
     },
     "execution_count": 192,
     "metadata": {},
     "output_type": "execute_result"
    }
   ],
   "source": [
    "df.skew()"
   ]
  },
  {
   "cell_type": "code",
   "execution_count": 193,
   "id": "8cd2afcc",
   "metadata": {},
   "outputs": [],
   "source": [
    "# using boxcox method\n",
    "from scipy import stats\n",
    "\n",
    "df['charges'] = stats.boxcox(df['charges'])[0]"
   ]
  },
  {
   "cell_type": "code",
   "execution_count": 194,
   "id": "4b67e121",
   "metadata": {},
   "outputs": [
    {
     "data": {
      "text/plain": [
       "age         0.094934\n",
       "bmi         0.131531\n",
       "children    0.958870\n",
       "charges    -0.015632\n",
       "dtype: float64"
      ]
     },
     "execution_count": 194,
     "metadata": {},
     "output_type": "execute_result"
    }
   ],
   "source": [
    "df.skew()"
   ]
  },
  {
   "cell_type": "code",
   "execution_count": 195,
   "id": "467b5fc6",
   "metadata": {},
   "outputs": [
    {
     "data": {
      "image/png": "[encoded data removed]",
      "text/plain": [
       "<Figure size 1000x350 with 3 Axes>"
      ]
     },
     "metadata": {},
     "output_type": "display_data"
    }
   ],
   "source": [
    "c_num = df[['age', 'bmi', 'charges']]\n",
    "\n",
    "col3 = []\n",
    "for i in c_num.columns:\n",
    "    col3.append(i)\n",
    "\n",
    "\n",
    "distplot(col3, c_num, 10, 3.5, 3, 1, 3, 20)"
   ]
  },
  {
   "cell_type": "markdown",
   "id": "747833a4",
   "metadata": {},
   "source": [
    "We can confirm that skewness has been removed from charges"
   ]
  },
  {
   "cell_type": "code",
   "execution_count": null,
   "id": "b9ecab25",
   "metadata": {},
   "outputs": [],
   "source": []
  },
  {
   "cell_type": "code",
   "execution_count": 196,
   "id": "b84ecc93",
   "metadata": {},
   "outputs": [
    {
     "data": {
      "text/html": [
       "<div>\n",
       "<style scoped>\n",
       "    .dataframe tbody tr th:only-of-type {\n",
       "        vertical-align: middle;\n",
       "    }\n",
       "\n",
       "    .dataframe tbody tr th {\n",
       "        vertical-align: top;\n",
       "    }\n",
       "\n",
       "    .dataframe thead th {\n",
       "        text-align: right;\n",
       "    }\n",
       "</style>\n",
       "<table border=\"1\" class=\"dataframe\">\n",
       "  <thead>\n",
       "    <tr style=\"text-align: right;\">\n",
       "      <th></th>\n",
       "      <th>age</th>\n",
       "      <th>bmi</th>\n",
       "      <th>charges</th>\n",
       "    </tr>\n",
       "  </thead>\n",
       "  <tbody>\n",
       "    <tr>\n",
       "      <th>count</th>\n",
       "      <td>1274.000000</td>\n",
       "      <td>1274.000000</td>\n",
       "      <td>1274.000000</td>\n",
       "    </tr>\n",
       "    <tr>\n",
       "      <th>mean</th>\n",
       "      <td>38.700157</td>\n",
       "      <td>30.232814</td>\n",
       "      <td>13.460987</td>\n",
       "    </tr>\n",
       "    <tr>\n",
       "      <th>std</th>\n",
       "      <td>13.931362</td>\n",
       "      <td>5.768671</td>\n",
       "      <td>1.828662</td>\n",
       "    </tr>\n",
       "    <tr>\n",
       "      <th>min</th>\n",
       "      <td>18.000000</td>\n",
       "      <td>15.960000</td>\n",
       "      <td>9.498701</td>\n",
       "    </tr>\n",
       "    <tr>\n",
       "      <th>25%</th>\n",
       "      <td>26.000000</td>\n",
       "      <td>26.030000</td>\n",
       "      <td>12.153627</td>\n",
       "    </tr>\n",
       "    <tr>\n",
       "      <th>50%</th>\n",
       "      <td>39.000000</td>\n",
       "      <td>30.025000</td>\n",
       "      <td>13.531457</td>\n",
       "    </tr>\n",
       "    <tr>\n",
       "      <th>75%</th>\n",
       "      <td>50.000000</td>\n",
       "      <td>34.105000</td>\n",
       "      <td>14.555062</td>\n",
       "    </tr>\n",
       "    <tr>\n",
       "      <th>max</th>\n",
       "      <td>64.000000</td>\n",
       "      <td>45.900000</td>\n",
       "      <td>17.077120</td>\n",
       "    </tr>\n",
       "  </tbody>\n",
       "</table>\n",
       "</div>"
      ],
      "text/plain": [
       "               age          bmi      charges\n",
       "count  1274.000000  1274.000000  1274.000000\n",
       "mean     38.700157    30.232814    13.460987\n",
       "std      13.931362     5.768671     1.828662\n",
       "min      18.000000    15.960000     9.498701\n",
       "25%      26.000000    26.030000    12.153627\n",
       "50%      39.000000    30.025000    13.531457\n",
       "75%      50.000000    34.105000    14.555062\n",
       "max      64.000000    45.900000    17.077120"
      ]
     },
     "execution_count": 196,
     "metadata": {},
     "output_type": "execute_result"
    }
   ],
   "source": [
    "df.describe()"
   ]
  },
  {
   "cell_type": "code",
   "execution_count": null,
   "id": "f1cd89e9",
   "metadata": {},
   "outputs": [],
   "source": []
  },
  {
   "cell_type": "code",
   "execution_count": 199,
   "id": "db01ac3c",
   "metadata": {},
   "outputs": [
    {
     "data": {
      "text/plain": [
       "1274"
      ]
     },
     "execution_count": 199,
     "metadata": {},
     "output_type": "execute_result"
    }
   ],
   "source": [
    "X.shape[0]"
   ]
  },
  {
   "cell_type": "code",
   "execution_count": 200,
   "id": "973942a7",
   "metadata": {},
   "outputs": [
    {
     "data": {
      "text/plain": [
       "1274"
      ]
     },
     "execution_count": 200,
     "metadata": {},
     "output_type": "execute_result"
    }
   ],
   "source": [
    "Y.shape[0]"
   ]
  },
  {
   "cell_type": "code",
   "execution_count": null,
   "id": "51e54f9d",
   "metadata": {},
   "outputs": [],
   "source": []
  },
  {
   "cell_type": "markdown",
   "id": "bea1b2b1",
   "metadata": {},
   "source": [
    "Encoding categorical columns\n",
    "\n"
   ]
  },
  {
   "cell_type": "code",
   "execution_count": null,
   "id": "866b4f57",
   "metadata": {},
   "outputs": [],
   "source": []
  },
  {
   "cell_type": "code",
   "execution_count": null,
   "id": "08ac42b8",
   "metadata": {},
   "outputs": [],
   "source": []
  },
  {
   "cell_type": "code",
   "execution_count": 202,
   "id": "15dbebf7",
   "metadata": {},
   "outputs": [],
   "source": [
    "from sklearn.preprocessing import OrdinalEncoder\n",
    "enc = OrdinalEncoder()\n",
    "for i in df.columns:\n",
    "    if df[i].dtypes == 'object':\n",
    "        df[i]= enc.fit_transform(df[i].values.reshape(-1,1))"
   ]
  },
  {
   "cell_type": "code",
   "execution_count": 203,
   "id": "3ea7e8d2",
   "metadata": {},
   "outputs": [
    {
     "data": {
      "text/html": [
       "<div>\n",
       "<style scoped>\n",
       "    .dataframe tbody tr th:only-of-type {\n",
       "        vertical-align: middle;\n",
       "    }\n",
       "\n",
       "    .dataframe tbody tr th {\n",
       "        vertical-align: top;\n",
       "    }\n",
       "\n",
       "    .dataframe thead th {\n",
       "        text-align: right;\n",
       "    }\n",
       "</style>\n",
       "<table border=\"1\" class=\"dataframe\">\n",
       "  <thead>\n",
       "    <tr style=\"text-align: right;\">\n",
       "      <th></th>\n",
       "      <th>age</th>\n",
       "      <th>bmi</th>\n",
       "      <th>children</th>\n",
       "      <th>smoker</th>\n",
       "      <th>region</th>\n",
       "      <th>charges</th>\n",
       "    </tr>\n",
       "  </thead>\n",
       "  <tbody>\n",
       "    <tr>\n",
       "      <th>0</th>\n",
       "      <td>19</td>\n",
       "      <td>27.900</td>\n",
       "      <td>0.0</td>\n",
       "      <td>1.0</td>\n",
       "      <td>3.0</td>\n",
       "      <td>14.902998</td>\n",
       "    </tr>\n",
       "    <tr>\n",
       "      <th>1</th>\n",
       "      <td>18</td>\n",
       "      <td>33.770</td>\n",
       "      <td>1.0</td>\n",
       "      <td>0.0</td>\n",
       "      <td>2.0</td>\n",
       "      <td>10.278601</td>\n",
       "    </tr>\n",
       "    <tr>\n",
       "      <th>2</th>\n",
       "      <td>28</td>\n",
       "      <td>33.000</td>\n",
       "      <td>3.0</td>\n",
       "      <td>0.0</td>\n",
       "      <td>2.0</td>\n",
       "      <td>12.094614</td>\n",
       "    </tr>\n",
       "    <tr>\n",
       "      <th>3</th>\n",
       "      <td>33</td>\n",
       "      <td>22.705</td>\n",
       "      <td>0.0</td>\n",
       "      <td>0.0</td>\n",
       "      <td>1.0</td>\n",
       "      <td>15.496123</td>\n",
       "    </tr>\n",
       "    <tr>\n",
       "      <th>4</th>\n",
       "      <td>32</td>\n",
       "      <td>28.880</td>\n",
       "      <td>0.0</td>\n",
       "      <td>0.0</td>\n",
       "      <td>1.0</td>\n",
       "      <td>11.816565</td>\n",
       "    </tr>\n",
       "    <tr>\n",
       "      <th>...</th>\n",
       "      <td>...</td>\n",
       "      <td>...</td>\n",
       "      <td>...</td>\n",
       "      <td>...</td>\n",
       "      <td>...</td>\n",
       "      <td>...</td>\n",
       "    </tr>\n",
       "    <tr>\n",
       "      <th>1333</th>\n",
       "      <td>50</td>\n",
       "      <td>30.970</td>\n",
       "      <td>3.0</td>\n",
       "      <td>0.0</td>\n",
       "      <td>1.0</td>\n",
       "      <td>13.887605</td>\n",
       "    </tr>\n",
       "    <tr>\n",
       "      <th>1334</th>\n",
       "      <td>18</td>\n",
       "      <td>31.920</td>\n",
       "      <td>0.0</td>\n",
       "      <td>0.0</td>\n",
       "      <td>0.0</td>\n",
       "      <td>10.736034</td>\n",
       "    </tr>\n",
       "    <tr>\n",
       "      <th>1335</th>\n",
       "      <td>18</td>\n",
       "      <td>36.850</td>\n",
       "      <td>0.0</td>\n",
       "      <td>0.0</td>\n",
       "      <td>2.0</td>\n",
       "      <td>10.173634</td>\n",
       "    </tr>\n",
       "    <tr>\n",
       "      <th>1336</th>\n",
       "      <td>21</td>\n",
       "      <td>25.800</td>\n",
       "      <td>0.0</td>\n",
       "      <td>0.0</td>\n",
       "      <td>3.0</td>\n",
       "      <td>10.559773</td>\n",
       "    </tr>\n",
       "    <tr>\n",
       "      <th>1337</th>\n",
       "      <td>61</td>\n",
       "      <td>29.070</td>\n",
       "      <td>0.0</td>\n",
       "      <td>1.0</td>\n",
       "      <td>1.0</td>\n",
       "      <td>16.143839</td>\n",
       "    </tr>\n",
       "  </tbody>\n",
       "</table>\n",
       "<p>1274 rows × 6 columns</p>\n",
       "</div>"
      ],
      "text/plain": [
       "      age     bmi  children  smoker  region    charges\n",
       "0      19  27.900       0.0     1.0     3.0  14.902998\n",
       "1      18  33.770       1.0     0.0     2.0  10.278601\n",
       "2      28  33.000       3.0     0.0     2.0  12.094614\n",
       "3      33  22.705       0.0     0.0     1.0  15.496123\n",
       "4      32  28.880       0.0     0.0     1.0  11.816565\n",
       "...   ...     ...       ...     ...     ...        ...\n",
       "1333   50  30.970       3.0     0.0     1.0  13.887605\n",
       "1334   18  31.920       0.0     0.0     0.0  10.736034\n",
       "1335   18  36.850       0.0     0.0     2.0  10.173634\n",
       "1336   21  25.800       0.0     0.0     3.0  10.559773\n",
       "1337   61  29.070       0.0     1.0     1.0  16.143839\n",
       "\n",
       "[1274 rows x 6 columns]"
      ]
     },
     "execution_count": 203,
     "metadata": {},
     "output_type": "execute_result"
    }
   ],
   "source": [
    "df"
   ]
  },
  {
   "cell_type": "code",
   "execution_count": null,
   "id": "956afab7",
   "metadata": {},
   "outputs": [],
   "source": []
  },
  {
   "cell_type": "code",
   "execution_count": 204,
   "id": "aae5ecf5",
   "metadata": {},
   "outputs": [],
   "source": [
    "# Separating features and target\n",
    "\n",
    "X = df.drop('charges', axis = 1)\n",
    "\n",
    "Y = df['charges']\n"
   ]
  },
  {
   "cell_type": "code",
   "execution_count": 205,
   "id": "43f7cd3e",
   "metadata": {},
   "outputs": [
    {
     "data": {
      "text/plain": [
       "1274"
      ]
     },
     "execution_count": 205,
     "metadata": {},
     "output_type": "execute_result"
    }
   ],
   "source": [
    "X.shape[0]"
   ]
  },
  {
   "cell_type": "code",
   "execution_count": 206,
   "id": "8e9818f9",
   "metadata": {},
   "outputs": [
    {
     "data": {
      "text/plain": [
       "1274"
      ]
     },
     "execution_count": 206,
     "metadata": {},
     "output_type": "execute_result"
    }
   ],
   "source": [
    "Y.shape[0]"
   ]
  },
  {
   "cell_type": "code",
   "execution_count": null,
   "id": "8ce2173f",
   "metadata": {},
   "outputs": [],
   "source": []
  },
  {
   "cell_type": "code",
   "execution_count": null,
   "id": "b75aae76",
   "metadata": {},
   "outputs": [],
   "source": []
  },
  {
   "cell_type": "code",
   "execution_count": null,
   "id": "e4e0b770",
   "metadata": {},
   "outputs": [],
   "source": []
  },
  {
   "cell_type": "code",
   "execution_count": 207,
   "id": "7b3cd84b",
   "metadata": {},
   "outputs": [
    {
     "data": {
      "text/html": [
       "<div>\n",
       "<style scoped>\n",
       "    .dataframe tbody tr th:only-of-type {\n",
       "        vertical-align: middle;\n",
       "    }\n",
       "\n",
       "    .dataframe tbody tr th {\n",
       "        vertical-align: top;\n",
       "    }\n",
       "\n",
       "    .dataframe thead th {\n",
       "        text-align: right;\n",
       "    }\n",
       "</style>\n",
       "<table border=\"1\" class=\"dataframe\">\n",
       "  <thead>\n",
       "    <tr style=\"text-align: right;\">\n",
       "      <th></th>\n",
       "      <th>age</th>\n",
       "      <th>bmi</th>\n",
       "      <th>children</th>\n",
       "      <th>smoker</th>\n",
       "      <th>region</th>\n",
       "    </tr>\n",
       "  </thead>\n",
       "  <tbody>\n",
       "    <tr>\n",
       "      <th>0</th>\n",
       "      <td>-1.414642</td>\n",
       "      <td>-0.404552</td>\n",
       "      <td>-0.899020</td>\n",
       "      <td>2.170946</td>\n",
       "      <td>1.343509</td>\n",
       "    </tr>\n",
       "    <tr>\n",
       "      <th>1</th>\n",
       "      <td>-1.486451</td>\n",
       "      <td>0.613413</td>\n",
       "      <td>-0.070256</td>\n",
       "      <td>-0.460629</td>\n",
       "      <td>0.444543</td>\n",
       "    </tr>\n",
       "    <tr>\n",
       "      <th>2</th>\n",
       "      <td>-0.768364</td>\n",
       "      <td>0.479880</td>\n",
       "      <td>1.587272</td>\n",
       "      <td>-0.460629</td>\n",
       "      <td>0.444543</td>\n",
       "    </tr>\n",
       "    <tr>\n",
       "      <th>3</th>\n",
       "      <td>-0.409321</td>\n",
       "      <td>-1.305460</td>\n",
       "      <td>-0.899020</td>\n",
       "      <td>-0.460629</td>\n",
       "      <td>-0.454422</td>\n",
       "    </tr>\n",
       "    <tr>\n",
       "      <th>4</th>\n",
       "      <td>-0.481129</td>\n",
       "      <td>-0.234603</td>\n",
       "      <td>-0.899020</td>\n",
       "      <td>-0.460629</td>\n",
       "      <td>-0.454422</td>\n",
       "    </tr>\n",
       "    <tr>\n",
       "      <th>...</th>\n",
       "      <td>...</td>\n",
       "      <td>...</td>\n",
       "      <td>...</td>\n",
       "      <td>...</td>\n",
       "      <td>...</td>\n",
       "    </tr>\n",
       "    <tr>\n",
       "      <th>1269</th>\n",
       "      <td>0.811427</td>\n",
       "      <td>0.127841</td>\n",
       "      <td>1.587272</td>\n",
       "      <td>-0.460629</td>\n",
       "      <td>-0.454422</td>\n",
       "    </tr>\n",
       "    <tr>\n",
       "      <th>1270</th>\n",
       "      <td>-1.486451</td>\n",
       "      <td>0.292589</td>\n",
       "      <td>-0.899020</td>\n",
       "      <td>-0.460629</td>\n",
       "      <td>-1.353388</td>\n",
       "    </tr>\n",
       "    <tr>\n",
       "      <th>1271</th>\n",
       "      <td>-1.486451</td>\n",
       "      <td>1.147541</td>\n",
       "      <td>-0.899020</td>\n",
       "      <td>-0.460629</td>\n",
       "      <td>0.444543</td>\n",
       "    </tr>\n",
       "    <tr>\n",
       "      <th>1272</th>\n",
       "      <td>-1.271025</td>\n",
       "      <td>-0.768731</td>\n",
       "      <td>-0.899020</td>\n",
       "      <td>-0.460629</td>\n",
       "      <td>1.343509</td>\n",
       "    </tr>\n",
       "    <tr>\n",
       "      <th>1273</th>\n",
       "      <td>1.601322</td>\n",
       "      <td>-0.201653</td>\n",
       "      <td>-0.899020</td>\n",
       "      <td>2.170946</td>\n",
       "      <td>-0.454422</td>\n",
       "    </tr>\n",
       "  </tbody>\n",
       "</table>\n",
       "<p>1274 rows × 5 columns</p>\n",
       "</div>"
      ],
      "text/plain": [
       "           age       bmi  children    smoker    region\n",
       "0    -1.414642 -0.404552 -0.899020  2.170946  1.343509\n",
       "1    -1.486451  0.613413 -0.070256 -0.460629  0.444543\n",
       "2    -0.768364  0.479880  1.587272 -0.460629  0.444543\n",
       "3    -0.409321 -1.305460 -0.899020 -0.460629 -0.454422\n",
       "4    -0.481129 -0.234603 -0.899020 -0.460629 -0.454422\n",
       "...        ...       ...       ...       ...       ...\n",
       "1269  0.811427  0.127841  1.587272 -0.460629 -0.454422\n",
       "1270 -1.486451  0.292589 -0.899020 -0.460629 -1.353388\n",
       "1271 -1.486451  1.147541 -0.899020 -0.460629  0.444543\n",
       "1272 -1.271025 -0.768731 -0.899020 -0.460629  1.343509\n",
       "1273  1.601322 -0.201653 -0.899020  2.170946 -0.454422\n",
       "\n",
       "[1274 rows x 5 columns]"
      ]
     },
     "execution_count": 207,
     "metadata": {},
     "output_type": "execute_result"
    }
   ],
   "source": [
    "# standardise X\n",
    "from sklearn.preprocessing import StandardScaler \n",
    "scaler = StandardScaler()\n",
    "X = pd.DataFrame(scaler.fit_transform(X), columns = X.columns)\n",
    "X"
   ]
  },
  {
   "cell_type": "code",
   "execution_count": 208,
   "id": "9566327f",
   "metadata": {},
   "outputs": [
    {
     "data": {
      "text/html": [
       "<div>\n",
       "<style scoped>\n",
       "    .dataframe tbody tr th:only-of-type {\n",
       "        vertical-align: middle;\n",
       "    }\n",
       "\n",
       "    .dataframe tbody tr th {\n",
       "        vertical-align: top;\n",
       "    }\n",
       "\n",
       "    .dataframe thead th {\n",
       "        text-align: right;\n",
       "    }\n",
       "</style>\n",
       "<table border=\"1\" class=\"dataframe\">\n",
       "  <thead>\n",
       "    <tr style=\"text-align: right;\">\n",
       "      <th></th>\n",
       "      <th>age</th>\n",
       "      <th>bmi</th>\n",
       "      <th>children</th>\n",
       "      <th>smoker</th>\n",
       "      <th>region</th>\n",
       "      <th>charges</th>\n",
       "    </tr>\n",
       "  </thead>\n",
       "  <tbody>\n",
       "    <tr>\n",
       "      <th>age</th>\n",
       "      <td>1.000000</td>\n",
       "      <td>0.085934</td>\n",
       "      <td>0.039490</td>\n",
       "      <td>-0.106520</td>\n",
       "      <td>-0.006582</td>\n",
       "      <td>0.489190</td>\n",
       "    </tr>\n",
       "    <tr>\n",
       "      <th>bmi</th>\n",
       "      <td>0.085934</td>\n",
       "      <td>1.000000</td>\n",
       "      <td>-0.004360</td>\n",
       "      <td>-0.083536</td>\n",
       "      <td>0.152938</td>\n",
       "      <td>0.077005</td>\n",
       "    </tr>\n",
       "    <tr>\n",
       "      <th>children</th>\n",
       "      <td>0.039490</td>\n",
       "      <td>-0.004360</td>\n",
       "      <td>1.000000</td>\n",
       "      <td>-0.001548</td>\n",
       "      <td>0.023045</td>\n",
       "      <td>0.155349</td>\n",
       "    </tr>\n",
       "    <tr>\n",
       "      <th>smoker</th>\n",
       "      <td>-0.106520</td>\n",
       "      <td>-0.083536</td>\n",
       "      <td>-0.001548</td>\n",
       "      <td>1.000000</td>\n",
       "      <td>-0.014345</td>\n",
       "      <td>0.630414</td>\n",
       "    </tr>\n",
       "    <tr>\n",
       "      <th>region</th>\n",
       "      <td>-0.006582</td>\n",
       "      <td>0.152938</td>\n",
       "      <td>0.023045</td>\n",
       "      <td>-0.014345</td>\n",
       "      <td>1.000000</td>\n",
       "      <td>-0.055991</td>\n",
       "    </tr>\n",
       "    <tr>\n",
       "      <th>charges</th>\n",
       "      <td>0.489190</td>\n",
       "      <td>0.077005</td>\n",
       "      <td>0.155349</td>\n",
       "      <td>0.630414</td>\n",
       "      <td>-0.055991</td>\n",
       "      <td>1.000000</td>\n",
       "    </tr>\n",
       "  </tbody>\n",
       "</table>\n",
       "</div>"
      ],
      "text/plain": [
       "               age       bmi  children    smoker    region   charges\n",
       "age       1.000000  0.085934  0.039490 -0.106520 -0.006582  0.489190\n",
       "bmi       0.085934  1.000000 -0.004360 -0.083536  0.152938  0.077005\n",
       "children  0.039490 -0.004360  1.000000 -0.001548  0.023045  0.155349\n",
       "smoker   -0.106520 -0.083536 -0.001548  1.000000 -0.014345  0.630414\n",
       "region   -0.006582  0.152938  0.023045 -0.014345  1.000000 -0.055991\n",
       "charges   0.489190  0.077005  0.155349  0.630414 -0.055991  1.000000"
      ]
     },
     "execution_count": 208,
     "metadata": {},
     "output_type": "execute_result"
    }
   ],
   "source": [
    "# correlation\n",
    "\n",
    "df.corr()"
   ]
  },
  {
   "cell_type": "code",
   "execution_count": 211,
   "id": "6c9ec308",
   "metadata": {},
   "outputs": [
    {
     "data": {
      "text/plain": [
       "<AxesSubplot:>"
      ]
     },
     "execution_count": 211,
     "metadata": {},
     "output_type": "execute_result"
    },
    {
     "data": {
      "image/png": "[encoded data removed]",
      "text/plain": [
       "<Figure size 640x480 with 2 Axes>"
      ]
     },
     "metadata": {},
     "output_type": "display_data"
    }
   ],
   "source": [
    "sns.heatmap(df.corr())"
   ]
  },
  {
   "cell_type": "markdown",
   "id": "72662e03",
   "metadata": {},
   "source": [
    "There is no multicolinearity issue"
   ]
  },
  {
   "cell_type": "code",
   "execution_count": 212,
   "id": "d3d446a9",
   "metadata": {},
   "outputs": [
    {
     "data": {
      "text/plain": [
       "charges     1.000000\n",
       "smoker      0.630414\n",
       "age         0.489190\n",
       "children    0.155349\n",
       "bmi         0.077005\n",
       "region     -0.055991\n",
       "Name: charges, dtype: float64"
      ]
     },
     "execution_count": 212,
     "metadata": {},
     "output_type": "execute_result"
    }
   ],
   "source": [
    "df.corr()['charges'].sort_values(ascending = False)"
   ]
  },
  {
   "cell_type": "code",
   "execution_count": 217,
   "id": "dd84d101",
   "metadata": {},
   "outputs": [],
   "source": [
    "# finding variance inflation in each column\n",
    "from statsmodels.stats.outliers_influence import variance_inflation_factor\n",
    "\n",
    "z = []\n",
    "\n",
    "for i in range(len(X.columns)):\n",
    "    z.append(variance_inflation_factor(X.values, i))\n",
    "Vif = pd.DataFrame(z)\n",
    "Vif['Features'] = X.columns\n",
    "\n",
    "Vif.rename({Vif.columns[0]: 'VIF Values'}, axis = 'columns', inplace = True)\n",
    "\n"
   ]
  },
  {
   "cell_type": "code",
   "execution_count": 218,
   "id": "d1d0c1f4",
   "metadata": {},
   "outputs": [
    {
     "data": {
      "text/html": [
       "<div>\n",
       "<style scoped>\n",
       "    .dataframe tbody tr th:only-of-type {\n",
       "        vertical-align: middle;\n",
       "    }\n",
       "\n",
       "    .dataframe tbody tr th {\n",
       "        vertical-align: top;\n",
       "    }\n",
       "\n",
       "    .dataframe thead th {\n",
       "        text-align: right;\n",
       "    }\n",
       "</style>\n",
       "<table border=\"1\" class=\"dataframe\">\n",
       "  <thead>\n",
       "    <tr style=\"text-align: right;\">\n",
       "      <th></th>\n",
       "      <th>VIF Values</th>\n",
       "      <th>Features</th>\n",
       "    </tr>\n",
       "  </thead>\n",
       "  <tbody>\n",
       "    <tr>\n",
       "      <th>0</th>\n",
       "      <td>1.019722</td>\n",
       "      <td>age</td>\n",
       "    </tr>\n",
       "    <tr>\n",
       "      <th>1</th>\n",
       "      <td>1.037698</td>\n",
       "      <td>bmi</td>\n",
       "    </tr>\n",
       "    <tr>\n",
       "      <th>2</th>\n",
       "      <td>1.002245</td>\n",
       "      <td>children</td>\n",
       "    </tr>\n",
       "    <tr>\n",
       "      <th>3</th>\n",
       "      <td>1.017230</td>\n",
       "      <td>smoker</td>\n",
       "    </tr>\n",
       "    <tr>\n",
       "      <th>4</th>\n",
       "      <td>1.025007</td>\n",
       "      <td>region</td>\n",
       "    </tr>\n",
       "  </tbody>\n",
       "</table>\n",
       "</div>"
      ],
      "text/plain": [
       "   VIF Values  Features\n",
       "0    1.019722       age\n",
       "1    1.037698       bmi\n",
       "2    1.002245  children\n",
       "3    1.017230    smoker\n",
       "4    1.025007    region"
      ]
     },
     "execution_count": 218,
     "metadata": {},
     "output_type": "execute_result"
    }
   ],
   "source": [
    "Vif"
   ]
  },
  {
   "cell_type": "markdown",
   "id": "5497d67c",
   "metadata": {},
   "source": [
    "All the Vif are 1, so no column to drop"
   ]
  },
  {
   "cell_type": "code",
   "execution_count": null,
   "id": "c79b587e",
   "metadata": {},
   "outputs": [],
   "source": []
  },
  {
   "cell_type": "markdown",
   "id": "7c79de9d",
   "metadata": {},
   "source": [
    "# Modelling"
   ]
  },
  {
   "cell_type": "code",
   "execution_count": 224,
   "id": "aaf89076",
   "metadata": {},
   "outputs": [],
   "source": [
    "# import necessary libraries\n",
    "from sklearn.model_selection import train_test_split\n",
    "from sklearn.metrics import mean_absolute_error\n",
    "from sklearn .metrics import mean_squared_error\n",
    "from sklearn.metrics import r2_score\n",
    "from sklearn.ensemble import GradientBoostingRegressor\n",
    "from sklearn.linear_model import LinearRegression\n",
    "from sklearn.ensemble import RandomForestRegressor\n",
    "from sklearn.tree import DecisionTreeRegressor\n",
    "from sklearn.neighbors import KNeighborsRegressor as KNN\n",
    "from sklearn.linear_model import Lasso, Ridge\n",
    "from sklearn.model_selection import cross_val_score"
   ]
  },
  {
   "cell_type": "code",
   "execution_count": null,
   "id": "a907b728",
   "metadata": {},
   "outputs": [],
   "source": []
  },
  {
   "cell_type": "code",
   "execution_count": 225,
   "id": "92333f48",
   "metadata": {},
   "outputs": [],
   "source": [
    "X_train, X_test, Y_train, Y_test = train_test_split(X, Y, test_size = 0.25, random_state = 100)"
   ]
  },
  {
   "cell_type": "code",
   "execution_count": null,
   "id": "f4c0045b",
   "metadata": {},
   "outputs": [],
   "source": []
  },
  {
   "cell_type": "code",
   "execution_count": null,
   "id": "857cbd51",
   "metadata": {},
   "outputs": [],
   "source": []
  },
  {
   "cell_type": "code",
   "execution_count": null,
   "id": "9f939455",
   "metadata": {},
   "outputs": [],
   "source": []
  },
  {
   "cell_type": "code",
   "execution_count": 232,
   "id": "30b7401c",
   "metadata": {},
   "outputs": [
    {
     "name": "stdout",
     "output_type": "stream",
     "text": [
      "R2_score:  0.7551024908548188\n",
      "Mean absolute error:  0.6093491152568006\n",
      "Mean squared error:  0.8960347570372296\n",
      "Root mean squared error:  0.9465911245290807\n",
      "[0.7735372  0.65613984 0.81341838 0.73783402 0.70076931]\n",
      "0.7363397496147456\n",
      "The difference between R2 score and cross validation score for  LinearRegression() is:  1.8762741240073266\n",
      "\n",
      "\n",
      "R2_score:  0.7604657761120905\n",
      "Mean absolute error:  0.49627817853604483\n",
      "Mean squared error:  0.8764114867998344\n",
      "Root mean squared error:  0.9361685141040764\n",
      "[0.80223326 0.64676224 0.82807883 0.80247286 0.75307094]\n",
      "0.7665236250698633\n",
      "The difference between R2 score and cross validation score for  RandomForestRegressor() is:  -0.6057848957772727\n",
      "\n",
      "\n",
      "R2_score:  0.8018039941771873\n",
      "Mean absolute error:  0.44969962485452136\n",
      "Mean squared error:  0.7251625814532617\n",
      "Root mean squared error:  0.8515647840612374\n",
      "[0.84982775 0.69348758 0.88011119 0.81236115 0.78322015]\n",
      "0.8038015649954643\n",
      "The difference between R2 score and cross validation score for  GradientBoostingRegressor() is:  -0.19975708182770058\n",
      "\n",
      "\n",
      "R2_score:  0.6549567134035862\n",
      "Mean absolute error:  0.5311900699755814\n",
      "Mean squared error:  1.262449661296722\n",
      "Root mean squared error:  1.1235878520599634\n",
      "[0.54804826 0.50664785 0.54521671 0.61667875 0.53208816]\n",
      "0.5497359436633132\n",
      "The difference between R2 score and cross validation score for  DecisionTreeRegressor() is:  10.522076974027295\n",
      "\n",
      "\n",
      "R2_score:  0.7833495099668001\n",
      "Mean absolute error:  0.5182057345283057\n",
      "Mean squared error:  0.7926841309105035\n",
      "Root mean squared error:  0.890328102954469\n",
      "[0.78970412 0.68794831 0.84296178 0.7843324  0.7757856 ]\n",
      "0.7761464405556897\n",
      "The difference between R2 score and cross validation score for  KNeighborsRegressor() is:  0.7203069411110374\n",
      "\n",
      "\n",
      "R2_score:  0.07096045935045525\n",
      "Mean absolute error:  1.5156541226385298\n",
      "Mean squared error:  3.3991840994609577\n",
      "Root mean squared error:  1.8436876360872407\n",
      "[0.07979127 0.09907686 0.10475932 0.09579569 0.09748329]\n",
      "0.09538128587315461\n",
      "The difference between R2 score and cross validation score for  Lasso() is:  -2.4420826522699364\n",
      "\n",
      "\n"
     ]
    }
   ],
   "source": [
    "# training the data on each algorithm and CV\n",
    "\n",
    "L = LinearRegression()\n",
    "R = RandomForestRegressor()\n",
    "G = GradientBoostingRegressor()\n",
    "D = DecisionTreeRegressor()\n",
    "K = KNN()\n",
    "l = Lasso()\n",
    "\n",
    "\n",
    "Mod = [L,R,G,D,K,l]\n",
    "\n",
    "for model in Mod:\n",
    "    model.fit(X_train,Y_train)\n",
    "    pred_model = model.predict(X_test)\n",
    "    score = cross_val_score(model,X,Y, cv = 5, scoring = 'r2')\n",
    "    print('R2_score: ', r2_score(Y_test, pred_model))\n",
    "    print('Mean absolute error: ', mean_absolute_error(Y_test, pred_model))\n",
    "    print('Mean squared error: ', mean_squared_error(Y_test, pred_model))\n",
    "    print('Root mean squared error: ', np.sqrt(mean_squared_error(Y_test, pred_model)))\n",
    "    print(score)\n",
    "    print(score.mean())\n",
    "    print('The difference between R2 score and cross validation score for ', model, 'is: ', (r2_score(Y_test, pred_model) - score.mean())*100)\n",
    "    print('\\n')\n",
    "    \n",
    "\n"
   ]
  },
  {
   "cell_type": "code",
   "execution_count": null,
   "id": "2b403ec7",
   "metadata": {},
   "outputs": [],
   "source": [
    "Lasso has the least difference and the highest MAE. Because MAE is not too high, we select Lasso as our best model"
   ]
  },
  {
   "cell_type": "code",
   "execution_count": null,
   "id": "eac1cc77",
   "metadata": {},
   "outputs": [],
   "source": []
  },
  {
   "cell_type": "code",
   "execution_count": 245,
   "id": "7cf9b98d",
   "metadata": {},
   "outputs": [
    {
     "name": "stdout",
     "output_type": "stream",
     "text": [
      "R2_score:  7.096045935045526\n",
      "Mean absolute error:  1.5156541226385298\n",
      "Mean squared error:  3.3991840994609577\n",
      "Root mean squared error:  1.8436876360872407\n"
     ]
    }
   ],
   "source": [
    "# hypertune Lasso\n",
    "\n",
    "my_model = Lasso(alpha = 0.01, fit_intercept = True, positive = False, random_state = 3)\n",
    "my_model.fit(X_train, Y_train)\n",
    "pred = my_model.predict(X_test)\n",
    "print('R2_score: ', r2_score(Y_test, pred_model)*100)\n",
    "print('Mean absolute error: ', mean_absolute_error(Y_test, pred_model))\n",
    "print('Mean squared error: ', mean_squared_error(Y_test, pred_model))\n",
    "print('Root mean squared error: ', np.sqrt(mean_squared_error(Y_test, pred_model)))"
   ]
  },
  {
   "cell_type": "code",
   "execution_count": null,
   "id": "4a555eb6",
   "metadata": {},
   "outputs": [],
   "source": []
  },
  {
   "cell_type": "code",
   "execution_count": 246,
   "id": "755f1ece",
   "metadata": {},
   "outputs": [],
   "source": [
    "import pickle\n",
    "\n",
    "pickle.dump(my_model, open('Insurance_Romuald.pkl', 'wb'))"
   ]
  },
  {
   "cell_type": "code",
   "execution_count": 250,
   "id": "dd7d0a37",
   "metadata": {},
   "outputs": [],
   "source": [
    "saved_model = pickle.load(open('Insurance_Romuald.pkl', 'rb'))"
   ]
  },
  {
   "cell_type": "code",
   "execution_count": 251,
   "id": "49bc79c0",
   "metadata": {},
   "outputs": [
    {
     "data": {
      "text/plain": [
       "array([11.88479454, 14.17251902, 12.45840285, 14.49467263, 15.8416779 ,\n",
       "       12.74636599, 14.43950872, 11.48506776, 11.20597631, 15.45403146,\n",
       "       12.06991944, 14.75854925, 11.45948327, 16.497618  , 12.57554865,\n",
       "       16.07362892, 13.70632159, 15.42530307, 13.90113089, 13.35725225,\n",
       "       11.19217049, 17.1775062 , 13.47469201, 12.76941988, 11.81921128,\n",
       "       13.47975154, 12.75369505, 17.18910845, 13.82059821, 15.85591901,\n",
       "       11.09434347, 12.84677795, 13.89670445, 12.09860061, 12.78709336,\n",
       "       12.56656044, 12.85601884, 14.10993513, 12.87456222, 16.69674336,\n",
       "       12.37184235, 14.54044499, 15.39967785, 11.41270882, 15.35518673,\n",
       "       13.72389995, 11.75931788, 13.82643478, 13.89471567, 12.70485599,\n",
       "       12.02863429, 13.89033917, 12.72830777, 11.85128082, 12.40274192,\n",
       "       11.31835819, 13.42807802, 15.01258155, 12.35392433, 14.1207235 ,\n",
       "       11.37639139, 13.63001311, 12.49780752, 12.99830899, 12.52057458,\n",
       "       12.35096841, 12.25438227, 12.57240968, 12.97279866, 14.14739446,\n",
       "       13.4283286 , 14.42532812, 13.86932126, 11.4232939 , 15.24062376,\n",
       "       12.65490085, 13.94960449, 16.71797723, 13.33895666, 11.54432921,\n",
       "       17.52492529, 14.40321935, 13.30263649, 14.4487804 , 11.4117631 ,\n",
       "       11.60708898, 12.15144295, 14.73111285, 12.84641801, 13.98973678,\n",
       "       16.60169591, 15.92607929, 14.14539524, 13.13037446, 13.9580047 ,\n",
       "       14.30055759, 12.44691275, 13.45513255, 11.32752053, 13.7525124 ,\n",
       "       11.73494342, 15.00043581, 11.31172647, 12.46504947, 12.77985271,\n",
       "       13.56589603, 14.19043876, 13.99778851, 14.51964684, 11.4011929 ,\n",
       "       11.3925388 , 14.52186423, 13.09779325, 15.99583951, 11.67690139,\n",
       "       13.73512577, 14.65790507, 15.11088087, 13.44758249, 15.11238602,\n",
       "       17.22028109, 13.26435953, 13.43944997, 11.42474571, 13.81709772,\n",
       "       14.67377579, 14.71781631, 14.66236179, 13.44422542, 10.85489629,\n",
       "       13.52422394, 12.63564696, 11.3075923 , 11.34699697, 11.83505536,\n",
       "       11.31835819, 12.96147329, 12.95066843, 11.46939519, 11.62953237,\n",
       "       11.33076493, 12.0731469 , 14.93926861, 14.17718563, 11.85799938,\n",
       "       12.71089869, 12.27405217, 13.70966274, 14.07747158, 11.94957388,\n",
       "       11.13536434, 12.19250889, 14.09026522, 11.90584324, 16.7551415 ,\n",
       "       11.7323744 , 12.47927679, 14.21781685, 16.12358182, 12.99325713,\n",
       "       12.51787144, 11.65620279, 14.50490731, 16.7250552 , 16.87247627,\n",
       "       11.43313267, 12.13951318, 11.40855436, 14.11649488, 14.08173869,\n",
       "       13.22115479, 12.59713088, 11.35496406, 14.13815526, 16.46908029,\n",
       "       14.68796382, 12.97963368, 16.21688066, 11.29869319, 12.31297055,\n",
       "       11.81503489, 16.92359809, 14.83818452, 12.79254582, 11.25297549,\n",
       "       13.93720486, 13.603368  , 13.79264023, 11.28432184, 11.79526493,\n",
       "       11.76867915, 11.37286669, 15.57428808, 16.46833952, 13.61841085,\n",
       "       13.93392199, 14.15904015, 13.77796611, 12.57113534, 12.78921127,\n",
       "       13.84978654, 12.49474829, 13.96288937, 15.870337  , 12.69163044,\n",
       "       13.99942882, 13.29298513, 14.03526705, 12.13028493, 13.49463775,\n",
       "       14.68795808, 11.14339241, 17.59477009, 12.19825757, 16.48346924,\n",
       "       12.06000596, 12.658957  , 14.6269676 , 11.50169605, 18.15707622,\n",
       "       12.31543298, 17.55430433, 16.35476134, 13.03246122, 14.38163489,\n",
       "       13.56085353, 17.20105746, 14.18991444, 11.23418812, 13.70730192,\n",
       "       16.17623791, 13.44818537, 12.31831691, 14.49286   , 14.02492596,\n",
       "       14.42575813, 16.97423957, 13.66902377, 14.98569628, 15.25891848,\n",
       "       16.19481208, 12.91130719, 13.44142611, 14.58995802, 12.45191506,\n",
       "       11.9475631 , 11.18587775, 12.53371552, 16.6160321 , 14.66052134,\n",
       "       16.18959043, 13.09582762, 13.70460263, 11.81807596, 16.52382737,\n",
       "       14.23513371, 11.49099503, 17.16776627, 11.42117048, 14.12627825,\n",
       "       17.58825378, 12.60606463, 14.15035485, 15.87653459, 13.43282927,\n",
       "       10.92822241, 11.73357895, 13.28803988, 14.09917369, 12.2586241 ,\n",
       "       13.31351505, 12.93681697, 12.48166891, 12.39328557, 13.28413655,\n",
       "       13.31744092, 17.08870198, 13.07684626, 13.09681292, 11.35496406,\n",
       "       13.49819436, 12.84042754, 13.59057328, 11.61291622, 13.21924738,\n",
       "       16.32770022, 12.98065741, 13.2929351 , 13.46816193, 16.83978745,\n",
       "       13.8991658 , 11.4769562 , 13.15577104, 12.41006827, 12.17054577,\n",
       "       13.40486419, 16.49852859, 11.47037218, 14.50622729, 13.52065925,\n",
       "       10.92565391, 11.91696738, 11.5900535 , 11.53405079, 13.92325389,\n",
       "       13.02877605, 11.43044217, 12.628408  , 12.94552868, 11.5293303 ,\n",
       "       14.08018625, 12.17367372, 14.38550415, 13.62350615, 11.08776228,\n",
       "       13.87926945, 13.164796  , 16.30399787, 12.88236945])"
      ]
     },
     "execution_count": 251,
     "metadata": {},
     "output_type": "execute_result"
    }
   ],
   "source": [
    "saved_model.predict(X_test)"
   ]
  },
  {
   "cell_type": "code",
   "execution_count": 252,
   "id": "0d31ddaf",
   "metadata": {},
   "outputs": [
    {
     "data": {
      "text/plain": [
       "108     11.234495\n",
       "839     14.263798\n",
       "1005    12.087403\n",
       "1223    15.890992\n",
       "1100    14.888654\n",
       "          ...    \n",
       "1212    10.253771\n",
       "371     14.159569\n",
       "967     13.162629\n",
       "524     16.783041\n",
       "1290    13.053761\n",
       "Name: charges, Length: 319, dtype: float64"
      ]
     },
     "execution_count": 252,
     "metadata": {},
     "output_type": "execute_result"
    }
   ],
   "source": [
    "Y_test"
   ]
  },
  {
   "cell_type": "code",
   "execution_count": null,
   "id": "f93bd9e0",
   "metadata": {},
   "outputs": [],
   "source": []
  }
 ],
 "metadata": {
  "kernelspec": {
   "display_name": "Python 3 (ipykernel)",
   "language": "python",
   "name": "python3"
  },
  "language_info": {
   "codemirror_mode": {
    "name": "ipython",
    "version": 3
   },
   "file_extension": ".py",
   "mimetype": "text/x-python",
   "name": "python",
   "nbconvert_exporter": "python",
   "pygments_lexer": "ipython3",
   "version": "3.9.13"
  }
 },
 "nbformat": 4,
 "nbformat_minor": 5
}
