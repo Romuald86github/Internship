{
 "cells": [
  {
   "cell_type": "code",
   "execution_count": 3,
   "id": "7d85834f",
   "metadata": {},
   "outputs": [],
   "source": [
    "import re"
   ]
  },
  {
   "cell_type": "code",
   "execution_count": 8,
   "id": "8a26d102",
   "metadata": {},
   "outputs": [
    {
     "name": "stdout",
     "output_type": "stream",
     "text": [
      "Python:Exercises:PHP:exercises:\n"
     ]
    }
   ],
   "source": [
    "# Question 1- Write a Python program to replace all occurrences of a space, comma, or dot with a colon.\n",
    "\n",
    "Sample_text = 'Python Exercises, PHP exercises.'\n",
    "\n",
    "\n",
    "Output = re.sub('\\W+', ':', Sample_text)\n",
    "print(Output)"
   ]
  },
  {
   "cell_type": "code",
   "execution_count": 116,
   "id": "5fc1a9b1",
   "metadata": {},
   "outputs": [
    {
     "name": "stdout",
     "output_type": "stream",
     "text": [
      "['ello', 'ay', 'at', 'eric', 'and', 'elisa', 'at', 'about', 'am']\n"
     ]
    }
   ],
   "source": [
    "# Question 2-  Write a Python program to find all words starting with 'a' or 'e' in a given string.\n",
    "\n",
    "string = \"Hello today is 7 August 2023. Good to known that eric and elisa woke up at about 10 am.\"\n",
    "pattern = \"[ae]\\w+\"\n",
    "\n",
    "result = re.findall(pattern, string)\n",
    "\n",
    "print(result)"
   ]
  },
  {
   "cell_type": "code",
   "execution_count": 121,
   "id": "04879dc0",
   "metadata": {},
   "outputs": [
    {
     "name": "stdout",
     "output_type": "stream",
     "text": [
      "['Hello', 'today', 'August', '2023', 'Good', 'known', 'that', 'eric', 'elisa', 'woke', 'about']\n"
     ]
    }
   ],
   "source": [
    "# Question 3- Create a function in python to find all words that are at least 4 characters long in a string. The use of the re.compile() method is mandatory.\n",
    "\n",
    "pattern = r\"\\b\\w{4,}\\b\"\n",
    "\n",
    "regex = re.compile(pattern)\n",
    "\n",
    "text = \"Hello today is 7 August 2023. Good to known that eric and elisa woke up at about 10 am.\"\n",
    "\n",
    "output = regex.findall(text)\n",
    "print(output)"
   ]
  },
  {
   "cell_type": "code",
   "execution_count": 122,
   "id": "062529c5",
   "metadata": {},
   "outputs": [
    {
     "name": "stdout",
     "output_type": "stream",
     "text": [
      "['Hello', 'today', '2023', 'Good', 'known', 'that', 'eric', 'and', 'elisa', 'woke', 'about']\n"
     ]
    }
   ],
   "source": [
    "# Question 4- Create a function in python to find all three, four, and five character words in a string. The use of the re.compile() method is mandatory.\n",
    "pattern = r\"\\b\\w{3,5}\\b\"\n",
    "\n",
    "regex = re.compile(pattern)\n",
    "\n",
    "text = \"Hello today is 7 August 2023. Good to known that eric and elisa woke up at about 10 am.\"\n",
    "\n",
    "output = regex.findall(text)\n",
    "print(output)\n"
   ]
  },
  {
   "cell_type": "code",
   "execution_count": 142,
   "id": "89689075",
   "metadata": {},
   "outputs": [
    {
     "name": "stdout",
     "output_type": "stream",
     "text": [
      "example .com\n",
      "hr@fliprobo .com\n",
      "github .com\n",
      "Hello Data Science World\n",
      "Data Scientist\n"
     ]
    }
   ],
   "source": [
    "# Question 5- Create a function in Python to remove the parenthesis in a list of strings. The use of the re.compile() method is mandatory.\n",
    "\n",
    "pattern = r\"[()]+\"\n",
    "\n",
    "regex = re.compile(pattern)\n",
    "\n",
    "text = [\"example (.com)\", \"hr@fliprobo (.com)\", \"github (.com)\", \"Hello (Data Science World)\", \"Data (Scientist)\"]\n",
    "\n",
    "for string in text:\n",
    "    print(re.sub(pattern, '', string))\n"
   ]
  },
  {
   "cell_type": "code",
   "execution_count": 216,
   "id": "10fcda3d",
   "metadata": {},
   "outputs": [
    {
     "name": "stdout",
     "output_type": "stream",
     "text": [
      "example \n",
      "hr@fliprobo \n",
      "github \n",
      "Hello \n",
      "Data \n"
     ]
    }
   ],
   "source": [
    "# Question 6- Write a python program to remove the parenthesis area from the text stored in the text file using Regular Expression.\n",
    "\n",
    "pattern = r'\\([^()]*\\)'\n",
    "\n",
    "regex = re.compile(pattern)\n",
    "\n",
    "text = [\"example (.com)\", \"hr@fliprobo (.com)\", \"github (.com)\", \"Hello (Data Science World)\", \"Data (Scientist)\"]\n",
    "\n",
    "for string in text:\n",
    "    print(re.sub(pattern, '', string))\n"
   ]
  },
  {
   "cell_type": "code",
   "execution_count": 173,
   "id": "09cad7a9",
   "metadata": {},
   "outputs": [
    {
     "name": "stdout",
     "output_type": "stream",
     "text": [
      "['Importance', 'Of', 'Regular', 'Expressions', 'In', 'Python']\n"
     ]
    }
   ],
   "source": [
    "# Question 7- Write a regular expression in Python to split a string into uppercase letters.\n",
    "pattern = '[A-Z][^A-Z]*'\n",
    "\n",
    "regex = re.compile(pattern)\n",
    "\n",
    "text = \"ImportanceOfRegularExpressionsInPython\"\n",
    "\n",
    "\n",
    "Result = regex.findall(text)\n",
    "\n",
    "print(Result)\n",
    "\n"
   ]
  },
  {
   "cell_type": "code",
   "execution_count": 221,
   "id": "f750e3fb",
   "metadata": {},
   "outputs": [
    {
     "name": "stdout",
     "output_type": "stream",
     "text": [
      "RegularExpression\u0001IsAn\u0001ImportantTopic\u0001InPython\n"
     ]
    }
   ],
   "source": [
    "# Question 8- Create a function in python to insert spaces between words starting with numbers.\n",
    "\n",
    "Text = \"RegularExpression1IsAn2ImportantTopic3InPython\"\n",
    "\n",
    "pattern = '([0-9])'\n",
    "\n",
    "space_inserted = re.sub(pattern, \"\\1\", Text)\n",
    "\n",
    "print(space_inserted)\n",
    "\n",
    "\n",
    "\n",
    "\n"
   ]
  },
  {
   "cell_type": "code",
   "execution_count": 517,
   "id": "55e94093",
   "metadata": {},
   "outputs": [
    {
     "name": "stdout",
     "output_type": "stream",
     "text": [
      "['1IsAn', '2ImportantTopic', '3InPython']\n"
     ]
    }
   ],
   "source": [
    "# Question 9- Create a function in python to insert spaces between words starting with capital letters or with numbers.\n",
    "\n",
    "Text = \"RegularExpression1IsAn2ImportantTopic3InPython\"\n",
    "\n",
    "pattern = r\"[0-9][A-Za-z]+\"\n",
    "\n",
    "output = re.findall(pattern, Text)\n",
    "\n",
    "\n",
    "print(output)\n",
    "\n",
    "\n"
   ]
  },
  {
   "cell_type": "code",
   "execution_count": 508,
   "id": "16346e97",
   "metadata": {},
   "outputs": [
    {
     "name": "stdout",
     "output_type": "stream",
     "text": [
      "['xyz@domain.com', 'xyz.abc@sdomain.domain.com', 'hr@fliprobo.com']\n"
     ]
    }
   ],
   "source": [
    "# Question 10- Write a python program to extract email address from the text stored in the text file using Regular Expression.\n",
    "\n",
    "pattern = r\"[a-z0-9\\.\\-+_]+@[a-z0-9\\.\\-+_]+\\.[a-z]+\"\n",
    "\n",
    "text = \"Hello my name is Data Science and my email address is xyz@domain.com and alternate email address is xyz.abc@sdomain.domain.com. Please contact us at hr@fliprobo.com for further information.\" \n",
    "\n",
    "AD_emails = re.findall(pattern, text)\n",
    "\n",
    "print(AD_emails)\n"
   ]
  },
  {
   "cell_type": "code",
   "execution_count": 507,
   "id": "e75064e9",
   "metadata": {},
   "outputs": [
    {
     "data": {
      "text/plain": [
       "'this is a match'"
      ]
     },
     "execution_count": 507,
     "metadata": {},
     "output_type": "execute_result"
    }
   ],
   "source": [
    "# Question 11- Write a Python program to match a string that contains only upper and lowercase letters, numbers, and underscores.\n",
    "def text_match(text):\n",
    "        patterns = '^[a-zA-Z0-9_]*$'\n",
    "        if re.search(patterns,  text):\n",
    "                return 'this is a match'\n",
    "        else:\n",
    "                return('Not a match')\n",
    "            \n",
    "example = 'Maths_1'\n",
    "\n",
    "text_match(example)\n"
   ]
  },
  {
   "cell_type": "code",
   "execution_count": 503,
   "id": "c0a955bc",
   "metadata": {},
   "outputs": [
    {
     "name": "stdout",
     "output_type": "stream",
     "text": [
      "['86']\n"
     ]
    }
   ],
   "source": [
    "# Question 12- Write a Python program where a string will start with a specific number\n",
    "\n",
    "pattern = '^[0-9]+'\n",
    "\n",
    "string = \"86Hello! today is 7 August 2023. Geood to known that eric and elisa woke up at about 10 am\"\n",
    "\n",
    "print(re.findall(pattern, string))"
   ]
  },
  {
   "cell_type": "code",
   "execution_count": 498,
   "id": "4325dda6",
   "metadata": {},
   "outputs": [
    {
     "name": "stdout",
     "output_type": "stream",
     "text": [
      "0001.34.29.1103506\n"
     ]
    }
   ],
   "source": [
    "# Question 13- Write a Python program to remove leading zeros from an IP address\n",
    "\n",
    "IP = \"0001.34.029.01103506\"\n",
    "text = re.sub('\\.[0]*', '.', IP)\n",
    "print(text)"
   ]
  },
  {
   "cell_type": "code",
   "execution_count": 484,
   "id": "6fe96d10",
   "metadata": {},
   "outputs": [
    {
     "name": "stdout",
     "output_type": "stream",
     "text": [
      "15th August 1947\n"
     ]
    }
   ],
   "source": [
    "# Question 14- Write a regular expression in python to match a date string in the form of Month name followed by day number and year stored in a text file.\n",
    "\n",
    "text = \"On 15th August 1947 that India was declared independent from British colonialism, and the reins of control were handed over to the leaders of the Country.\"\n",
    "\n",
    "\n",
    "pattern = r\"[\\d]{1,2}th [ADFJMNOS]\\w* [\\d]{4}\"\n",
    "REsult= re.findall(pattern, text) \n",
    "\n",
    "for date in REsult:\n",
    "    print(date)\n",
    "\n",
    "\n",
    "\n"
   ]
  },
  {
   "cell_type": "code",
   "execution_count": 491,
   "id": "d24634fb",
   "metadata": {},
   "outputs": [],
   "source": [
    "# Question 14- Write a regular expression in python to match a date string in the form of Month name followed by day number and year stored in a text file.\n",
    "\n",
    "text = \"On  August 15th 1947 that India was declared independent from British colonialism, and the reins of control were handed over to the leaders of the Country.\"\n",
    "\n",
    "\n",
    "pattern = r\"[ADFJMNOS]\\w* [\\d]{1,2}th  [\\d]{4}\"\n",
    "REsult= re.findall(pattern, text) \n",
    "\n",
    "for date in REsult:\n",
    "    print(date)"
   ]
  },
  {
   "cell_type": "code",
   "execution_count": 447,
   "id": "ef026ed4",
   "metadata": {},
   "outputs": [
    {
     "name": "stdout",
     "output_type": "stream",
     "text": [
      "Matched!\n",
      "Matched!\n",
      "Not Matched!\n"
     ]
    }
   ],
   "source": [
    "# Question 15- Write a Python program to search some literals strings in a string. \n",
    "\n",
    "patterns = [ 'fox', 'dog', 'horse' ]\n",
    "text = 'The quick brown fox jumps over the lazy dog.'\n",
    "for pattern in patterns:\n",
    "    if re.search(pattern,  text):\n",
    "        print('Matched!')\n",
    "    else:\n",
    "        print('Not Matched!')"
   ]
  },
  {
   "cell_type": "code",
   "execution_count": 441,
   "id": "57c01241",
   "metadata": {},
   "outputs": [
    {
     "name": "stdout",
     "output_type": "stream",
     "text": [
      "<re.Match object; span=(16, 19), match='fox'>\n",
      "Index position: 16\n"
     ]
    }
   ],
   "source": [
    "# Question 16- Write a Python program to search a literals string in a string and also find the location within the original string where the pattern occurs\n",
    "\n",
    "\n",
    "pattern = 'fox'\n",
    "text = 'The quick brown fox jumps over the lazy dog.'\n",
    "output = re.search(pattern, text)\n",
    "print(output)\n",
    "print(\"Index position:\", output.start())\n",
    "\n"
   ]
  },
  {
   "cell_type": "code",
   "execution_count": 434,
   "id": "1419b732",
   "metadata": {},
   "outputs": [
    {
     "name": "stdout",
     "output_type": "stream",
     "text": [
      "['Python', 'exercises', 'PHP', 'exercises', 'C', 'exercises']\n"
     ]
    }
   ],
   "source": [
    "# Question 17- Write a Python program to find the substrings within a string.\n",
    "\n",
    "text = \"Python exercises, PHP exercises, C# exercises\"\n",
    "pattern = \"\\w+\"\n",
    "\n",
    "print(re.findall(pattern, text))"
   ]
  },
  {
   "cell_type": "code",
   "execution_count": 432,
   "id": "b87e2454",
   "metadata": {},
   "outputs": [
    {
     "name": "stdout",
     "output_type": "stream",
     "text": [
      "Hello\n",
      "Index position: 0\n",
      "today\n",
      "Index position: 7\n",
      "is\n",
      "Index position: 13\n",
      "7\n",
      "Index position: 16\n",
      "August\n",
      "Index position: 18\n",
      "2023\n",
      "Index position: 25\n",
      "Good\n",
      "Index position: 31\n",
      "to\n",
      "Index position: 36\n",
      "known\n",
      "Index position: 39\n",
      "that\n",
      "Index position: 45\n",
      "eric\n",
      "Index position: 50\n",
      "and\n",
      "Index position: 55\n",
      "elisa\n",
      "Index position: 59\n",
      "woke\n",
      "Index position: 65\n",
      "up\n",
      "Index position: 70\n",
      "at\n",
      "Index position: 73\n",
      "about\n",
      "Index position: 76\n",
      "10\n",
      "Index position: 82\n",
      "am\n",
      "Index position: 85\n"
     ]
    }
   ],
   "source": [
    "# Question 18- Write a Python program to find the occurrence and position of the substrings within a string.\n",
    "\n",
    "string = \"Hello! today is 7 August 2023. Good to known that eric and elisa woke up at about 10 am\"\n",
    "\n",
    "for item in re.finditer(\"\\w+\", string):\n",
    "    print(item.group(0))\n",
    "    print(\"Index position:\", item.start())\n"
   ]
  },
  {
   "cell_type": "code",
   "execution_count": 430,
   "id": "d9e798c0",
   "metadata": {},
   "outputs": [
    {
     "name": "stdout",
     "output_type": "stream",
     "text": [
      "YYYY-MM-DD date Format:  2023-08-07\n",
      "DD-MM-YYYY date Format:  07-08-2023\n"
     ]
    }
   ],
   "source": [
    "# Question 19- Write a Python program to convert a date of yyyy-mm-dd format to dd-mm-yyyy format.\n",
    "\n",
    "def change_date_format(dt):\n",
    "        return re.sub(r'(\\d{4})-(\\d{1,2})-(\\d{1,2})', '\\\\3-\\\\2-\\\\1', dt)\n",
    "date_today = \"2023-08-07\"\n",
    "print(\"YYYY-MM-DD date Format: \",date_today)\n",
    "print(\"DD-MM-YYYY date Format: \",change_date_format(date_today))\n"
   ]
  },
  {
   "cell_type": "code",
   "execution_count": 425,
   "id": "1e546a18",
   "metadata": {},
   "outputs": [
    {
     "name": "stdout",
     "output_type": "stream",
     "text": [
      "['18.56', '543.06', '54.6', '10.54']\n"
     ]
    }
   ],
   "source": [
    "# Question 20- Create a function in python to find all decimal numbers with a precision of 1 or 2 in a string. The use of the re.compile() method is mandatory.\n",
    "\n",
    "pattern = \"\\d+\\.\\d{1,2}\"\n",
    "\n",
    "string = \"Hello! 18.56543 today is 7 August 2023. Good 543.06 to known 54.6 that eric and elisa woke up at about 10.54 am\"\n",
    "regex = re.compile(pattern)\n",
    "\n",
    "output = regex.findall(string)\n",
    "\n",
    "\n",
    "print(output)\n",
    "\n",
    "\n",
    "\n"
   ]
  },
  {
   "cell_type": "code",
   "execution_count": 399,
   "id": "dbbdc1fa",
   "metadata": {},
   "outputs": [
    {
     "name": "stdout",
     "output_type": "stream",
     "text": [
      "7\n",
      "Index position: 16\n",
      "2023\n",
      "Index position: 25\n",
      "10\n",
      "Index position: 83\n"
     ]
    }
   ],
   "source": [
    "# Question 21- Write a Python program to separate and print the numbers and their position of a given string.\n",
    "\n",
    "string = \"Hello! today is 7 August 2023. Geood to known that eric and elisa woke up at about 10 am\"\n",
    "\n",
    "for item in re.finditer(\"\\d+\", string):\n",
    "    print(item.group(0))\n",
    "    print(\"Index position:\", item.start())"
   ]
  },
  {
   "cell_type": "code",
   "execution_count": 398,
   "id": "cd804ac7",
   "metadata": {},
   "outputs": [
    {
     "name": "stdout",
     "output_type": "stream",
     "text": [
      "Max_value: 950\n"
     ]
    }
   ],
   "source": [
    "# Question 22- Write a regular expression in python program to extract maximum/largest numeric value from a string.\n",
    "\n",
    "text = 'My marks in each semester are: 947, 896, 926, 524, 734, 950, 642'\n",
    "\n",
    "#seperate number from string\n",
    "number = re.findall('\\d+', text)\n",
    "#convert it into integer\n",
    "number = map(int, number)\n",
    "print(\"Max_value:\",max(number))"
   ]
  },
  {
   "cell_type": "code",
   "execution_count": 397,
   "id": "bbf3d29e",
   "metadata": {},
   "outputs": [
    {
     "name": "stdout",
     "output_type": "stream",
     "text": [
      "['Regular', 'Expression', 'Is', 'An', 'Important', 'Topic', 'In', 'Python']\n"
     ]
    }
   ],
   "source": [
    "# Question 23- Create a function in python to insert spaces between words starting with capital letters.\n",
    "\n",
    "pattern = '[A-Z][^A-Z]*'\n",
    "\n",
    "regex = re.compile(pattern)\n",
    "\n",
    "text = \"RegularExpressionIsAnImportantTopicInPython\"\n",
    "\n",
    "output = regex.findall(text)\n",
    "\n",
    "print(output)\n"
   ]
  },
  {
   "cell_type": "code",
   "execution_count": 394,
   "id": "9bfd3f74",
   "metadata": {},
   "outputs": [
    {
     "name": "stdout",
     "output_type": "stream",
     "text": [
      "<re.Match object; span=(0, 23), match='Howwellareyoudoingtoday'>\n"
     ]
    }
   ],
   "source": [
    "# Question 24- Python regex to find sequences of one upper case letter followed by lower case letters\n",
    "string = \"Howwellareyoudoingtoday\"\n",
    "pattern = '[A-Z]+[a-z]+$'\n",
    "\n",
    "output = re.search(pattern, string)\n",
    "\n",
    "print(output)\n",
    "\n",
    "\n",
    "\n",
    "\n",
    "\n",
    "\n",
    "\n",
    "\n",
    "def check_string(string):\n",
    "    if re.search(pattern, string):\n",
    "        return(\"correct\")\n",
    "    else:\n",
    "        return(\"not correct\")\n",
    "    \n",
    "    \n",
    "  \n",
    "    \n",
    "    \n",
    "\n",
    "   "
   ]
  },
  {
   "cell_type": "code",
   "execution_count": 361,
   "id": "67ab61ae",
   "metadata": {},
   "outputs": [
    {
     "name": "stdout",
     "output_type": "stream",
     "text": [
      "Hello hello world\n"
     ]
    }
   ],
   "source": [
    "# Question 25- Write a Python program to remove continuous duplicate words from Sentence using Regular Expression.\n",
    "\n",
    "text = \"Hello hello world world\"\n",
    "\n",
    "l=text.split()\n",
    "e=[]\n",
    "for i in l:\n",
    "    if (text.count(i)>=1 and (i not in e)):\n",
    "        e.append(i)\n",
    "print(' '.join(e))"
   ]
  },
  {
   "cell_type": "code",
   "execution_count": 372,
   "id": "3320b13f",
   "metadata": {},
   "outputs": [
    {
     "name": "stdout",
     "output_type": "stream",
     "text": [
      "Discard\n"
     ]
    }
   ],
   "source": [
    "# Question 26-  Write a python program using RegEx to accept string ending with alphanumeric character.\n",
    "\n",
    "pattern = '[a-zA-z0-9]$'\n",
    "\n",
    "def check_string(string):\n",
    "    if(re.search(pattern, string)):\n",
    "        print(\"Accept\")\n",
    "    else:\n",
    "        print(\"Discard\")\n",
    "    \n",
    "    \n",
    "string = 'Hello@'\n",
    "\n",
    "check_string(string)\n",
    "        \n",
    "\n",
    "        \n"
   ]
  },
  {
   "cell_type": "code",
   "execution_count": 329,
   "id": "39bd5d58",
   "metadata": {},
   "outputs": [
    {
     "name": "stdout",
     "output_type": "stream",
     "text": [
      "['#Doltiwal', '#xyzabc', '#Demonetization']\n"
     ]
    }
   ],
   "source": [
    "# Question 27-Write a python program using RegEx to extract the hashtags.\n",
    "\n",
    "pattern =  '[#]\\w+'\n",
    "\n",
    "Sample_text =  \"RT @kapil_kausik: #Doltiwal I mean #xyzabc is hurt by #Demonetization as the same has rendered USELESS <ed><U+00A0><U+00BD><ed><U+00B1><U+0089> acquired funds No wo\"\n",
    "\n",
    "print(re.findall(pattern, Sample_text))\n",
    "    \n"
   ]
  },
  {
   "cell_type": "code",
   "execution_count": 300,
   "id": "7e21a39c",
   "metadata": {},
   "outputs": [
    {
     "name": "stdout",
     "output_type": "stream",
     "text": [
      "@Jags123456 Bharat band on 28??<ed><ed>Those who  are protesting #demonetization  are all different party leaders\n"
     ]
    }
   ],
   "source": [
    "# Question 28- Write a python program using RegEx to remove <U+..> like symbols\n",
    "\n",
    "Text = \"@Jags123456 Bharat band on 28??<ed><U+00A0><U+00BD><ed><U+00B8><U+0082>Those who  are protesting #demonetization  are all different party leaders\"\n",
    "\n",
    "pattern = '<U\\+.{4}>'\n",
    "\n",
    "reSult = re.sub(pattern, '', Text)\n",
    "\n",
    "print(reSult)\n",
    "\n"
   ]
  },
  {
   "cell_type": "code",
   "execution_count": 283,
   "id": "054b1e58",
   "metadata": {},
   "outputs": [
    {
     "name": "stdout",
     "output_type": "stream",
     "text": [
      "['12-09-1992', '15-12-1999']\n"
     ]
    }
   ],
   "source": [
    "# Question 29- Write a python program to extract dates from the text stored in the text file.\n",
    "\n",
    "import datetime\n",
    "\n",
    "pattern = \"\\d{2}[-]\\d{2}[-]\\d{4}\"\n",
    "\n",
    "Text = \"Ron was born on 12-09-1992 and he was admitted to school 15-12-1999.\"\n",
    "\n",
    "date = re.findall(pattern, Text)\n",
    "\n",
    "print(date)"
   ]
  },
  {
   "cell_type": "code",
   "execution_count": 261,
   "id": "f968f28b",
   "metadata": {},
   "outputs": [
    {
     "name": "stdout",
     "output_type": "stream",
     "text": [
      " following example creates  ArrayList  a capacity   elements. 4 elements   added   ArrayList   ArrayList  trimmed accordingly.\n"
     ]
    }
   ],
   "source": [
    "# Question 30- Create a function in python to remove all words from a string of length between 2 and 4.\n",
    "\n",
    "pattern = r'\\b\\w{2,4}\\b'\n",
    "\n",
    "key = re.compile(pattern)\n",
    "\n",
    "Text = \"The following example creates an ArrayList with a capacity of 50 elements. 4 elements are then added to the ArrayList and the ArrayList is trimmed accordingly.\"\n",
    "\n",
    "new_words = key.sub('', Text)\n",
    "\n",
    "print(new_words)"
   ]
  },
  {
   "cell_type": "code",
   "execution_count": null,
   "id": "52e8cf66",
   "metadata": {},
   "outputs": [],
   "source": []
  }
 ],
 "metadata": {
  "kernelspec": {
   "display_name": "Python 3 (ipykernel)",
   "language": "python",
   "name": "python3"
  },
  "language_info": {
   "codemirror_mode": {
    "name": "ipython",
    "version": 3
   },
   "file_extension": ".py",
   "mimetype": "text/x-python",
   "name": "python",
   "nbconvert_exporter": "python",
   "pygments_lexer": "ipython3",
   "version": "3.9.13"
  }
 },
 "nbformat": 4,
 "nbformat_minor": 5
}
