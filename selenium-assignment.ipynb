{
 "cells": [
  {
   "cell_type": "code",
   "execution_count": 1,
   "id": "6fcf8f0a",
   "metadata": {},
   "outputs": [
    {
     "name": "stdout",
     "output_type": "stream",
     "text": [
      "Requirement already satisfied: selenium in ./opt/anaconda3/lib/python3.9/site-packages (4.11.2)\r\n",
      "Requirement already satisfied: trio-websocket~=0.9 in ./opt/anaconda3/lib/python3.9/site-packages (from selenium) (0.10.3)\r\n",
      "Requirement already satisfied: urllib3[socks]<3,>=1.26 in ./opt/anaconda3/lib/python3.9/site-packages (from selenium) (1.26.11)\r\n",
      "Requirement already satisfied: certifi>=2021.10.8 in ./opt/anaconda3/lib/python3.9/site-packages (from selenium) (2022.9.24)\r\n",
      "Requirement already satisfied: trio~=0.17 in ./opt/anaconda3/lib/python3.9/site-packages (from selenium) (0.22.2)\r\n",
      "Requirement already satisfied: sortedcontainers in ./opt/anaconda3/lib/python3.9/site-packages (from trio~=0.17->selenium) (2.4.0)\r\n",
      "Requirement already satisfied: outcome in ./opt/anaconda3/lib/python3.9/site-packages (from trio~=0.17->selenium) (1.2.0)\r\n",
      "Requirement already satisfied: attrs>=20.1.0 in ./opt/anaconda3/lib/python3.9/site-packages (from trio~=0.17->selenium) (21.4.0)\r\n",
      "Requirement already satisfied: idna in ./opt/anaconda3/lib/python3.9/site-packages (from trio~=0.17->selenium) (3.3)\r\n",
      "Requirement already satisfied: exceptiongroup>=1.0.0rc9 in ./opt/anaconda3/lib/python3.9/site-packages (from trio~=0.17->selenium) (1.1.3)\r\n",
      "Requirement already satisfied: sniffio in ./opt/anaconda3/lib/python3.9/site-packages (from trio~=0.17->selenium) (1.2.0)\r\n",
      "Requirement already satisfied: wsproto>=0.14 in ./opt/anaconda3/lib/python3.9/site-packages (from trio-websocket~=0.9->selenium) (1.2.0)\r\n",
      "Requirement already satisfied: PySocks!=1.5.7,<2.0,>=1.5.6 in ./opt/anaconda3/lib/python3.9/site-packages (from urllib3[socks]<3,>=1.26->selenium) (1.7.1)\r\n",
      "Requirement already satisfied: h11<1,>=0.9.0 in ./opt/anaconda3/lib/python3.9/site-packages (from wsproto>=0.14->trio-websocket~=0.9->selenium) (0.14.0)\r\n"
     ]
    }
   ],
   "source": [
    "!pip install selenium"
   ]
  },
  {
   "cell_type": "code",
   "execution_count": 54,
   "id": "c0808a08",
   "metadata": {},
   "outputs": [],
   "source": [
    "# let's import all the necessary libraries\n",
    "\n",
    "import selenium\n",
    "from selenium import webdriver\n",
    "import pandas as pd\n",
    "from selenium.webdriver.common.by import By\n",
    "import warnings\n",
    "warnings.filterwarnings('ignore')\n",
    "import time"
   ]
  },
  {
   "cell_type": "code",
   "execution_count": 55,
   "id": "101810d4",
   "metadata": {},
   "outputs": [],
   "source": [
    "driver = webdriver.Chrome()"
   ]
  },
  {
   "cell_type": "code",
   "execution_count": 56,
   "id": "b2eb308c",
   "metadata": {},
   "outputs": [],
   "source": [
    "# opening the shine page on automated \n",
    "driver.get('https://www.shine.com/')"
   ]
  },
  {
   "cell_type": "code",
   "execution_count": 27,
   "id": "6bcdcb55",
   "metadata": {},
   "outputs": [],
   "source": [
    "# entering designation and location as required in the question-\n",
    "\n",
    "title_skills = driver.find_element(By.CLASS_NAME, \"form-control \")\n",
    "title_skills.send_keys('Data Analyst')"
   ]
  },
  {
   "cell_type": "code",
   "execution_count": 28,
   "id": "4808bff2",
   "metadata": {},
   "outputs": [],
   "source": [
    "location = driver.find_element(By.XPATH, \"/html/body/div[1]/div[4]/div/div[2]/div[2]/div/form/div/div[1]/ul/li[2]/div/input\")\n",
    "location.send_keys('Bangalore')"
   ]
  },
  {
   "cell_type": "code",
   "execution_count": 29,
   "id": "0b3d49d5",
   "metadata": {},
   "outputs": [],
   "source": [
    "search = driver.find_element(By.XPATH, '/html/body/div[1]/div[4]/div/div[2]/div[2]/div/form/div/div[2]/div/button')\n",
    "search.click()"
   ]
  },
  {
   "cell_type": "code",
   "execution_count": 8,
   "id": "95aab621",
   "metadata": {},
   "outputs": [],
   "source": [
    "job_title = []\n",
    "job_location = []\n",
    "company_name = []\n",
    "experience_required = []"
   ]
  },
  {
   "cell_type": "code",
   "execution_count": 9,
   "id": "f1baff9e",
   "metadata": {},
   "outputs": [],
   "source": [
    "# scraping job titles\n",
    "\n",
    "title_class = driver.find_elements(By.XPATH, '//div[@class=\"jobCard_jobCard_features__wJid6\"]')\n",
    "for i in title_class[0:10]:\n",
    "    title = i.text\n",
    "    job_title.append(title)"
   ]
  },
  {
   "cell_type": "code",
   "execution_count": 10,
   "id": "2c97279e",
   "metadata": {},
   "outputs": [],
   "source": [
    "# scraping job locations\n",
    "\n",
    "location_class = driver.find_elements(By.XPATH, '//div[@class=\" jobCard_jobCard_lists_item__YxRkV jobCard_locationIcon__zrWt2\"]')\n",
    "for i in location_class[0:10]:\n",
    "    location = i.text\n",
    "    job_location.append(location)"
   ]
  },
  {
   "cell_type": "code",
   "execution_count": 11,
   "id": "84c59fee",
   "metadata": {},
   "outputs": [],
   "source": [
    "# scraping company names\n",
    "\n",
    "c_name_class = driver.find_elements(By.XPATH, '//div[@class=\"jobCard_jobCard_cName__mYnow\"]')\n",
    "for i in c_name_class[0:10]:\n",
    "    c_name = i.text\n",
    "    company_name.append(c_name)"
   ]
  },
  {
   "cell_type": "code",
   "execution_count": 12,
   "id": "0b3125a0",
   "metadata": {},
   "outputs": [],
   "source": [
    "# scraping experience required\n",
    "\n",
    "exp_class = driver.find_elements(By.XPATH, '//div[@class=\" jobCard_jobCard_lists_item__YxRkV jobCard_jobIcon__3FB1t\"]')\n",
    "for i in exp_class[0:10]:\n",
    "    experience = i.text\n",
    "    experience_required.append(experience)"
   ]
  },
  {
   "cell_type": "code",
   "execution_count": 13,
   "id": "59b84f65",
   "metadata": {},
   "outputs": [
    {
     "name": "stdout",
     "output_type": "stream",
     "text": [
      "10 10 10 10\n"
     ]
    }
   ],
   "source": [
    "print(len(job_title), len(job_location), len(company_name), len(experience_required))"
   ]
  },
  {
   "cell_type": "code",
   "execution_count": 14,
   "id": "2d07bdae",
   "metadata": {},
   "outputs": [
    {
     "data": {
      "text/html": [
       "<div>\n",
       "<style scoped>\n",
       "    .dataframe tbody tr th:only-of-type {\n",
       "        vertical-align: middle;\n",
       "    }\n",
       "\n",
       "    .dataframe tbody tr th {\n",
       "        vertical-align: top;\n",
       "    }\n",
       "\n",
       "    .dataframe thead th {\n",
       "        text-align: right;\n",
       "    }\n",
       "</style>\n",
       "<table border=\"1\" class=\"dataframe\">\n",
       "  <thead>\n",
       "    <tr style=\"text-align: right;\">\n",
       "      <th></th>\n",
       "      <th>job_title</th>\n",
       "      <th>location</th>\n",
       "      <th>company_name</th>\n",
       "      <th>experience_required</th>\n",
       "    </tr>\n",
       "  </thead>\n",
       "  <tbody>\n",
       "    <tr>\n",
       "      <th>0</th>\n",
       "      <td>Hot\\n2 days ago</td>\n",
       "      <td>Bangalore</td>\n",
       "      <td>futures and careers</td>\n",
       "      <td>2 to 4 Yrs</td>\n",
       "    </tr>\n",
       "    <tr>\n",
       "      <th>1</th>\n",
       "      <td>6 days ago</td>\n",
       "      <td>Bangalore</td>\n",
       "      <td>boyen haddin consulting and technol...</td>\n",
       "      <td>3 to 6 Yrs</td>\n",
       "    </tr>\n",
       "    <tr>\n",
       "      <th>2</th>\n",
       "      <td></td>\n",
       "      <td>Bangalore</td>\n",
       "      <td></td>\n",
       "      <td></td>\n",
       "    </tr>\n",
       "    <tr>\n",
       "      <th>3</th>\n",
       "      <td></td>\n",
       "      <td></td>\n",
       "      <td></td>\n",
       "      <td></td>\n",
       "    </tr>\n",
       "    <tr>\n",
       "      <th>4</th>\n",
       "      <td></td>\n",
       "      <td>Bangalore</td>\n",
       "      <td></td>\n",
       "      <td></td>\n",
       "    </tr>\n",
       "    <tr>\n",
       "      <th>5</th>\n",
       "      <td></td>\n",
       "      <td>Bangalore</td>\n",
       "      <td></td>\n",
       "      <td></td>\n",
       "    </tr>\n",
       "    <tr>\n",
       "      <th>6</th>\n",
       "      <td></td>\n",
       "      <td></td>\n",
       "      <td></td>\n",
       "      <td></td>\n",
       "    </tr>\n",
       "    <tr>\n",
       "      <th>7</th>\n",
       "      <td></td>\n",
       "      <td></td>\n",
       "      <td></td>\n",
       "      <td></td>\n",
       "    </tr>\n",
       "    <tr>\n",
       "      <th>8</th>\n",
       "      <td></td>\n",
       "      <td></td>\n",
       "      <td></td>\n",
       "      <td></td>\n",
       "    </tr>\n",
       "    <tr>\n",
       "      <th>9</th>\n",
       "      <td></td>\n",
       "      <td></td>\n",
       "      <td></td>\n",
       "      <td></td>\n",
       "    </tr>\n",
       "  </tbody>\n",
       "</table>\n",
       "</div>"
      ],
      "text/plain": [
       "         job_title   location                            company_name  \\\n",
       "0  Hot\\n2 days ago  Bangalore                     futures and careers   \n",
       "1       6 days ago  Bangalore  boyen haddin consulting and technol...   \n",
       "2                   Bangalore                                           \n",
       "3                                                                       \n",
       "4                   Bangalore                                           \n",
       "5                   Bangalore                                           \n",
       "6                                                                       \n",
       "7                                                                       \n",
       "8                                                                       \n",
       "9                                                                       \n",
       "\n",
       "  experience_required  \n",
       "0          2 to 4 Yrs  \n",
       "1          3 to 6 Yrs  \n",
       "2                      \n",
       "3                      \n",
       "4                      \n",
       "5                      \n",
       "6                      \n",
       "7                      \n",
       "8                      \n",
       "9                      "
      ]
     },
     "execution_count": 14,
     "metadata": {},
     "output_type": "execute_result"
    }
   ],
   "source": [
    "import pandas as pd\n",
    "\n",
    "d_a_banglore = pd.DataFrame({'job_title' : job_title, 'location' : job_location, 'company_name' : company_name, 'experience_required' : experience_required})\n",
    "d_a_banglore"
   ]
  },
  {
   "cell_type": "code",
   "execution_count": null,
   "id": "8377493d",
   "metadata": {},
   "outputs": [],
   "source": []
  },
  {
   "cell_type": "code",
   "execution_count": null,
   "id": "ee31e918",
   "metadata": {},
   "outputs": [],
   "source": []
  },
  {
   "cell_type": "code",
   "execution_count": null,
   "id": "4fbddf21",
   "metadata": {},
   "outputs": [],
   "source": [
    "# Question 2"
   ]
  },
  {
   "cell_type": "code",
   "execution_count": 32,
   "id": "49b67100",
   "metadata": {},
   "outputs": [],
   "source": [
    "# entering designation and location as required in the question-\n",
    "\n",
    "title = driver.find_element(By.CLASS_NAME, \"form-control \")\n",
    "title.send_keys('Data Scientist')"
   ]
  },
  {
   "cell_type": "code",
   "execution_count": 33,
   "id": "aaf197de",
   "metadata": {},
   "outputs": [],
   "source": [
    "location1 = driver.find_element(By.XPATH, \"/html/body/div[1]/div[4]/div/div[2]/div[2]/div/form/div/div[1]/ul/li[2]/div/input\")\n",
    "location1.send_keys('Bangalore')"
   ]
  },
  {
   "cell_type": "code",
   "execution_count": 34,
   "id": "733b0039",
   "metadata": {},
   "outputs": [],
   "source": [
    "search1 = driver.find_element(By.XPATH, '/html/body/div[1]/div[4]/div/div[2]/div[2]/div/form/div/div[2]/div/button')\n",
    "search1.click()"
   ]
  },
  {
   "cell_type": "code",
   "execution_count": 35,
   "id": "43a36069",
   "metadata": {},
   "outputs": [],
   "source": [
    "job_title1 = []\n",
    "job_location1 = []\n",
    "company_name1 = []"
   ]
  },
  {
   "cell_type": "code",
   "execution_count": 45,
   "id": "d113793b",
   "metadata": {},
   "outputs": [],
   "source": [
    "# scraping job titles\n",
    "\n",
    "title_class1 = driver.find_elements(By.XPATH, '//a[@class=\"jobCard_jobCard_features__wJid6\"]')\n",
    "for i in title_class1[0:10]:\n",
    "    title = i.text\n",
    "    job_title1.append(title)"
   ]
  },
  {
   "cell_type": "code",
   "execution_count": 42,
   "id": "78d99f03",
   "metadata": {},
   "outputs": [],
   "source": [
    "# scraping job locations\n",
    "\n",
    "location_class1 = driver.find_elements(By.XPATH, '//div[@class=\" jobCard_jobCard_lists_item__YxRkV jobCard_locationIcon__zrWt2\"]')\n",
    "for i in location_class1[0:10]:\n",
    "    location = i.text\n",
    "    job_location1.append(location)"
   ]
  },
  {
   "cell_type": "code",
   "execution_count": 40,
   "id": "cbf31da7",
   "metadata": {},
   "outputs": [],
   "source": [
    "# scraping company names\n",
    "\n",
    "c_name_class1 = driver.find_elements(By.XPATH, '//div[@class=\"jobCard_jobCard_cName__mYnow\"]')\n",
    "for i in c_name_class1[0:10]:\n",
    "    c_name = i.text\n",
    "    company_name1.append(c_name)"
   ]
  },
  {
   "cell_type": "code",
   "execution_count": 46,
   "id": "08449146",
   "metadata": {},
   "outputs": [
    {
     "name": "stdout",
     "output_type": "stream",
     "text": [
      "20 20 20\n"
     ]
    }
   ],
   "source": [
    "print(len(job_title1), len(job_location1), len(company_name1))"
   ]
  },
  {
   "cell_type": "code",
   "execution_count": 130,
   "id": "4ca7eca0",
   "metadata": {},
   "outputs": [
    {
     "data": {
      "text/html": [
       "<div>\n",
       "<style scoped>\n",
       "    .dataframe tbody tr th:only-of-type {\n",
       "        vertical-align: middle;\n",
       "    }\n",
       "\n",
       "    .dataframe tbody tr th {\n",
       "        vertical-align: top;\n",
       "    }\n",
       "\n",
       "    .dataframe thead th {\n",
       "        text-align: right;\n",
       "    }\n",
       "</style>\n",
       "<table border=\"1\" class=\"dataframe\">\n",
       "  <thead>\n",
       "    <tr style=\"text-align: right;\">\n",
       "      <th></th>\n",
       "      <th>job_title</th>\n",
       "      <th>location</th>\n",
       "      <th>company_name</th>\n",
       "    </tr>\n",
       "  </thead>\n",
       "  <tbody>\n",
       "    <tr>\n",
       "      <th>0</th>\n",
       "      <td>Hot\\n0 days ago</td>\n",
       "      <td>Bangalore\\n+17</td>\n",
       "      <td>kavya staffing solutions</td>\n",
       "    </tr>\n",
       "    <tr>\n",
       "      <th>1</th>\n",
       "      <td>Hot\\n1 day ago</td>\n",
       "      <td>Bangalore\\n+17</td>\n",
       "      <td>kavya staffing solutions</td>\n",
       "    </tr>\n",
       "    <tr>\n",
       "      <th>2</th>\n",
       "      <td>5 days ago</td>\n",
       "      <td>Bangalore</td>\n",
       "      <td>skyleaf consultants</td>\n",
       "    </tr>\n",
       "    <tr>\n",
       "      <th>3</th>\n",
       "      <td>2 weeks ago</td>\n",
       "      <td>Bangalore\\n+14</td>\n",
       "      <td>divya interprises</td>\n",
       "    </tr>\n",
       "    <tr>\n",
       "      <th>4</th>\n",
       "      <td>1 week ago</td>\n",
       "      <td>Bangalore</td>\n",
       "      <td>deuglo infosystem private limited</td>\n",
       "    </tr>\n",
       "    <tr>\n",
       "      <th>5</th>\n",
       "      <td>1 week ago</td>\n",
       "      <td>Bangalore\\n+8</td>\n",
       "      <td>deuglo infosystem private limited</td>\n",
       "    </tr>\n",
       "    <tr>\n",
       "      <th>6</th>\n",
       "      <td>2 weeks ago</td>\n",
       "      <td>Bangalore</td>\n",
       "      <td>seven geomax consulting private lim...</td>\n",
       "    </tr>\n",
       "    <tr>\n",
       "      <th>7</th>\n",
       "      <td>2 weeks ago</td>\n",
       "      <td>Bangalore</td>\n",
       "      <td>employberry consultants hiring for ...</td>\n",
       "    </tr>\n",
       "    <tr>\n",
       "      <th>8</th>\n",
       "      <td>3 weeks ago</td>\n",
       "      <td>Bangalore\\n+15</td>\n",
       "      <td>niharika enterprises</td>\n",
       "    </tr>\n",
       "    <tr>\n",
       "      <th>9</th>\n",
       "      <td>1 week ago</td>\n",
       "      <td>Bangalore\\n+8</td>\n",
       "      <td>deuglo infosystem private limited</td>\n",
       "    </tr>\n",
       "    <tr>\n",
       "      <th>10</th>\n",
       "      <td>Hot\\n0 days ago</td>\n",
       "      <td>Bangalore\\n+17</td>\n",
       "      <td>kavya staffing solutions</td>\n",
       "    </tr>\n",
       "    <tr>\n",
       "      <th>11</th>\n",
       "      <td>Hot\\n1 day ago</td>\n",
       "      <td>Bangalore\\n+17</td>\n",
       "      <td>kavya staffing solutions</td>\n",
       "    </tr>\n",
       "    <tr>\n",
       "      <th>12</th>\n",
       "      <td>5 days ago</td>\n",
       "      <td>Bangalore</td>\n",
       "      <td>skyleaf consultants</td>\n",
       "    </tr>\n",
       "    <tr>\n",
       "      <th>13</th>\n",
       "      <td>2 weeks ago</td>\n",
       "      <td>Bangalore\\n+14</td>\n",
       "      <td>divya interprises</td>\n",
       "    </tr>\n",
       "    <tr>\n",
       "      <th>14</th>\n",
       "      <td>1 week ago</td>\n",
       "      <td>Bangalore</td>\n",
       "      <td>deuglo infosystem private limited</td>\n",
       "    </tr>\n",
       "    <tr>\n",
       "      <th>15</th>\n",
       "      <td>1 week ago</td>\n",
       "      <td>Bangalore\\n+8</td>\n",
       "      <td>deuglo infosystem private limited</td>\n",
       "    </tr>\n",
       "    <tr>\n",
       "      <th>16</th>\n",
       "      <td>2 weeks ago</td>\n",
       "      <td>Bangalore</td>\n",
       "      <td>seven geomax consulting private lim...</td>\n",
       "    </tr>\n",
       "    <tr>\n",
       "      <th>17</th>\n",
       "      <td>2 weeks ago</td>\n",
       "      <td>Bangalore</td>\n",
       "      <td>employberry consultants hiring for ...</td>\n",
       "    </tr>\n",
       "    <tr>\n",
       "      <th>18</th>\n",
       "      <td>3 weeks ago</td>\n",
       "      <td>Bangalore\\n+15</td>\n",
       "      <td>niharika enterprises</td>\n",
       "    </tr>\n",
       "    <tr>\n",
       "      <th>19</th>\n",
       "      <td>1 week ago</td>\n",
       "      <td>Bangalore\\n+8</td>\n",
       "      <td>deuglo infosystem private limited</td>\n",
       "    </tr>\n",
       "  </tbody>\n",
       "</table>\n",
       "</div>"
      ],
      "text/plain": [
       "          job_title        location                            company_name\n",
       "0   Hot\\n0 days ago  Bangalore\\n+17                kavya staffing solutions\n",
       "1    Hot\\n1 day ago  Bangalore\\n+17                kavya staffing solutions\n",
       "2        5 days ago       Bangalore                     skyleaf consultants\n",
       "3       2 weeks ago  Bangalore\\n+14                       divya interprises\n",
       "4        1 week ago       Bangalore       deuglo infosystem private limited\n",
       "5        1 week ago   Bangalore\\n+8       deuglo infosystem private limited\n",
       "6       2 weeks ago       Bangalore  seven geomax consulting private lim...\n",
       "7       2 weeks ago       Bangalore  employberry consultants hiring for ...\n",
       "8       3 weeks ago  Bangalore\\n+15                    niharika enterprises\n",
       "9        1 week ago   Bangalore\\n+8       deuglo infosystem private limited\n",
       "10  Hot\\n0 days ago  Bangalore\\n+17                kavya staffing solutions\n",
       "11   Hot\\n1 day ago  Bangalore\\n+17                kavya staffing solutions\n",
       "12       5 days ago       Bangalore                     skyleaf consultants\n",
       "13      2 weeks ago  Bangalore\\n+14                       divya interprises\n",
       "14       1 week ago       Bangalore       deuglo infosystem private limited\n",
       "15       1 week ago   Bangalore\\n+8       deuglo infosystem private limited\n",
       "16      2 weeks ago       Bangalore  seven geomax consulting private lim...\n",
       "17      2 weeks ago       Bangalore  employberry consultants hiring for ...\n",
       "18      3 weeks ago  Bangalore\\n+15                    niharika enterprises\n",
       "19       1 week ago   Bangalore\\n+8       deuglo infosystem private limited"
      ]
     },
     "execution_count": 130,
     "metadata": {},
     "output_type": "execute_result"
    }
   ],
   "source": [
    "import pandas as pd\n",
    "\n",
    "d_a_banglore = pd.DataFrame({'job_title' : job_title1, 'location' : job_location1, 'company_name' : company_name1})\n",
    "d_a_banglore"
   ]
  },
  {
   "cell_type": "code",
   "execution_count": 48,
   "id": "e62e1772",
   "metadata": {},
   "outputs": [
    {
     "data": {
      "text/html": [
       "<div>\n",
       "<style scoped>\n",
       "    .dataframe tbody tr th:only-of-type {\n",
       "        vertical-align: middle;\n",
       "    }\n",
       "\n",
       "    .dataframe tbody tr th {\n",
       "        vertical-align: top;\n",
       "    }\n",
       "\n",
       "    .dataframe thead th {\n",
       "        text-align: right;\n",
       "    }\n",
       "</style>\n",
       "<table border=\"1\" class=\"dataframe\">\n",
       "  <thead>\n",
       "    <tr style=\"text-align: right;\">\n",
       "      <th></th>\n",
       "      <th>job_title</th>\n",
       "      <th>location</th>\n",
       "      <th>company_name</th>\n",
       "    </tr>\n",
       "  </thead>\n",
       "  <tbody>\n",
       "    <tr>\n",
       "      <th>0</th>\n",
       "      <td>Hot\\n0 days ago</td>\n",
       "      <td>Bangalore\\n+17</td>\n",
       "      <td>kavya staffing solutions</td>\n",
       "    </tr>\n",
       "    <tr>\n",
       "      <th>1</th>\n",
       "      <td>Hot\\n1 day ago</td>\n",
       "      <td>Bangalore\\n+17</td>\n",
       "      <td>kavya staffing solutions</td>\n",
       "    </tr>\n",
       "    <tr>\n",
       "      <th>2</th>\n",
       "      <td>5 days ago</td>\n",
       "      <td>Bangalore</td>\n",
       "      <td>skyleaf consultants</td>\n",
       "    </tr>\n",
       "    <tr>\n",
       "      <th>3</th>\n",
       "      <td>2 weeks ago</td>\n",
       "      <td>Bangalore\\n+14</td>\n",
       "      <td>divya interprises</td>\n",
       "    </tr>\n",
       "    <tr>\n",
       "      <th>4</th>\n",
       "      <td>1 week ago</td>\n",
       "      <td>Bangalore</td>\n",
       "      <td>deuglo infosystem private limited</td>\n",
       "    </tr>\n",
       "    <tr>\n",
       "      <th>5</th>\n",
       "      <td>1 week ago</td>\n",
       "      <td>Bangalore\\n+8</td>\n",
       "      <td>deuglo infosystem private limited</td>\n",
       "    </tr>\n",
       "    <tr>\n",
       "      <th>6</th>\n",
       "      <td>2 weeks ago</td>\n",
       "      <td>Bangalore</td>\n",
       "      <td>seven geomax consulting private lim...</td>\n",
       "    </tr>\n",
       "    <tr>\n",
       "      <th>7</th>\n",
       "      <td>2 weeks ago</td>\n",
       "      <td>Bangalore</td>\n",
       "      <td>employberry consultants hiring for ...</td>\n",
       "    </tr>\n",
       "    <tr>\n",
       "      <th>8</th>\n",
       "      <td>3 weeks ago</td>\n",
       "      <td>Bangalore\\n+15</td>\n",
       "      <td>niharika enterprises</td>\n",
       "    </tr>\n",
       "    <tr>\n",
       "      <th>9</th>\n",
       "      <td>1 week ago</td>\n",
       "      <td>Bangalore\\n+8</td>\n",
       "      <td>deuglo infosystem private limited</td>\n",
       "    </tr>\n",
       "  </tbody>\n",
       "</table>\n",
       "</div>"
      ],
      "text/plain": [
       "         job_title        location                            company_name\n",
       "0  Hot\\n0 days ago  Bangalore\\n+17                kavya staffing solutions\n",
       "1   Hot\\n1 day ago  Bangalore\\n+17                kavya staffing solutions\n",
       "2       5 days ago       Bangalore                     skyleaf consultants\n",
       "3      2 weeks ago  Bangalore\\n+14                       divya interprises\n",
       "4       1 week ago       Bangalore       deuglo infosystem private limited\n",
       "5       1 week ago   Bangalore\\n+8       deuglo infosystem private limited\n",
       "6      2 weeks ago       Bangalore  seven geomax consulting private lim...\n",
       "7      2 weeks ago       Bangalore  employberry consultants hiring for ...\n",
       "8      3 weeks ago  Bangalore\\n+15                    niharika enterprises\n",
       "9       1 week ago   Bangalore\\n+8       deuglo infosystem private limited"
      ]
     },
     "execution_count": 48,
     "metadata": {},
     "output_type": "execute_result"
    }
   ],
   "source": [
    "d_a_banglore[0:10]"
   ]
  },
  {
   "cell_type": "code",
   "execution_count": null,
   "id": "c94a7d7b",
   "metadata": {},
   "outputs": [],
   "source": []
  },
  {
   "cell_type": "code",
   "execution_count": null,
   "id": "ea2814f2",
   "metadata": {},
   "outputs": [],
   "source": []
  },
  {
   "cell_type": "code",
   "execution_count": null,
   "id": "edacf3a7",
   "metadata": {},
   "outputs": [],
   "source": [
    "# Question3"
   ]
  },
  {
   "cell_type": "code",
   "execution_count": 51,
   "id": "99cbe660",
   "metadata": {},
   "outputs": [],
   "source": [
    "# entering title as required in the question-\n",
    "\n",
    "title1 = driver.find_element(By.CLASS_NAME, \" \")\n",
    "title1.send_keys('Data Scientist')"
   ]
  },
  {
   "cell_type": "code",
   "execution_count": 53,
   "id": "ae668333",
   "metadata": {},
   "outputs": [],
   "source": [
    "search2 = driver.find_element(By.XPATH, '')\n",
    "search2.click()"
   ]
  },
  {
   "cell_type": "code",
   "execution_count": null,
   "id": "3f1e260b",
   "metadata": {},
   "outputs": [],
   "source": [
    "# for the question above, I am unable to see “Skill, Designations, and Companies” field"
   ]
  },
  {
   "cell_type": "code",
   "execution_count": null,
   "id": "3bc23c34",
   "metadata": {},
   "outputs": [],
   "source": []
  },
  {
   "cell_type": "code",
   "execution_count": null,
   "id": "3459ee00",
   "metadata": {},
   "outputs": [],
   "source": []
  },
  {
   "cell_type": "code",
   "execution_count": null,
   "id": "93846aab",
   "metadata": {},
   "outputs": [],
   "source": [
    "# Question 4"
   ]
  },
  {
   "cell_type": "code",
   "execution_count": 114,
   "id": "0239a1a4",
   "metadata": {},
   "outputs": [],
   "source": [
    "driver = webdriver.Chrome()"
   ]
  },
  {
   "cell_type": "code",
   "execution_count": 73,
   "id": "29bb1947",
   "metadata": {},
   "outputs": [],
   "source": [
    "# opening the shine page on automated  \n",
    "driver.get('http://www.flipkart.com/')"
   ]
  },
  {
   "cell_type": "code",
   "execution_count": 74,
   "id": "9c566357",
   "metadata": {},
   "outputs": [],
   "source": [
    "# entering sunglasses as required in the question-\n",
    "\n",
    "sunglass = driver.find_element(By.CLASS_NAME, \"Pke_EE\")\n",
    "sunglass.send_keys('sunglasses')"
   ]
  },
  {
   "cell_type": "code",
   "execution_count": 75,
   "id": "a7d665f1",
   "metadata": {},
   "outputs": [],
   "source": [
    "search3 = driver.find_element(By.XPATH, '/html/body/div[1]/div/div[1]/div/div/div/div/div[1]/div/div[1]/div/div[1]/header/div[1]/div[2]/form/div/button')\n",
    "search3.click()"
   ]
  },
  {
   "cell_type": "code",
   "execution_count": 96,
   "id": "473598f6",
   "metadata": {},
   "outputs": [],
   "source": [
    "# scrapping the 100 first brands\n",
    "\n",
    "brands = []\n",
    "\n",
    "start = 0\n",
    "end = 4\n",
    "\n",
    "for page in range(start, end):\n",
    "    brand = driver.find_elements(By.XPATH, '//a[@class=\"IRpwTa\"]')\n",
    "    for i in brand:\n",
    "        brands.append(i.text)\n",
    "    next_button = driver.find_element(By.XPATH, '//a[@class=\"_1LKTO3\"]')\n",
    "    next_button.click()\n",
    "    time.sleep(3)\n",
    "    if len(brands)==100:\n",
    "        break\n",
    "    \n"
   ]
  },
  {
   "cell_type": "code",
   "execution_count": null,
   "id": "bf8eef77",
   "metadata": {},
   "outputs": [],
   "source": []
  },
  {
   "cell_type": "code",
   "execution_count": 97,
   "id": "195eeaa6",
   "metadata": {},
   "outputs": [],
   "source": [
    "# scrapping the 100 first product descriptions\n",
    "\n",
    "describe = []\n",
    "\n",
    "start = 0\n",
    "end = 4\n",
    "\n",
    "for page in range(start, end):\n",
    "    describ = driver.find_elements(By.XPATH, '//div[@class=\"_2WkVRV\"]')\n",
    "    for i in describ:\n",
    "        describe.append(i.text)\n",
    "    next_button = driver.find_element(By.XPATH, '//a[@class=\"_1LKTO3\"]')\n",
    "    next_button.click()\n",
    "    time.sleep(3)\n",
    "    if len(describe)==100:\n",
    "        break"
   ]
  },
  {
   "cell_type": "code",
   "execution_count": null,
   "id": "cde49b29",
   "metadata": {},
   "outputs": [],
   "source": []
  },
  {
   "cell_type": "code",
   "execution_count": null,
   "id": "ec52a998",
   "metadata": {},
   "outputs": [],
   "source": []
  },
  {
   "cell_type": "code",
   "execution_count": 98,
   "id": "936db128",
   "metadata": {},
   "outputs": [],
   "source": [
    "# scraping the 100 first prices\n",
    "\n",
    "prices = []\n",
    "\n",
    "start = 0\n",
    "end = 4\n",
    "\n",
    "for page in range(start, end):\n",
    "    price = driver.find_elements(By.XPATH, '//div[@class=\"_30jeq3\"]')\n",
    "    for i in price:\n",
    "        prices.append(i.text)\n",
    "    next_button = driver.find_element(By.XPATH, '//a[@class=\"_1LKTO3\"]')\n",
    "    next_button.click()\n",
    "    time.sleep(3)\n",
    "    if len(prices)==100:\n",
    "        break"
   ]
  },
  {
   "cell_type": "code",
   "execution_count": 99,
   "id": "c4ef6643",
   "metadata": {},
   "outputs": [
    {
     "name": "stdout",
     "output_type": "stream",
     "text": [
      "146 160 160\n"
     ]
    }
   ],
   "source": [
    "print(len(brands), len(describe), len(prices))"
   ]
  },
  {
   "cell_type": "code",
   "execution_count": 100,
   "id": "44990ea3",
   "metadata": {},
   "outputs": [],
   "source": [
    "new_brands = brands[0:100]\n"
   ]
  },
  {
   "cell_type": "code",
   "execution_count": 101,
   "id": "61cce3fe",
   "metadata": {},
   "outputs": [],
   "source": [
    "new_describe = describe[0:100]"
   ]
  },
  {
   "cell_type": "code",
   "execution_count": 102,
   "id": "0f26424a",
   "metadata": {},
   "outputs": [],
   "source": [
    "new_prices = prices[0:100]"
   ]
  },
  {
   "cell_type": "code",
   "execution_count": 103,
   "id": "c727cb20",
   "metadata": {},
   "outputs": [
    {
     "name": "stdout",
     "output_type": "stream",
     "text": [
      "100 100 100\n"
     ]
    }
   ],
   "source": [
    "print(len(new_brands), len(new_describe), len(new_prices))"
   ]
  },
  {
   "cell_type": "code",
   "execution_count": 111,
   "id": "bbb1391d",
   "metadata": {
    "scrolled": false
   },
   "outputs": [
    {
     "data": {
      "text/html": [
       "<div>\n",
       "<style scoped>\n",
       "    .dataframe tbody tr th:only-of-type {\n",
       "        vertical-align: middle;\n",
       "    }\n",
       "\n",
       "    .dataframe tbody tr th {\n",
       "        vertical-align: top;\n",
       "    }\n",
       "\n",
       "    .dataframe thead th {\n",
       "        text-align: right;\n",
       "    }\n",
       "</style>\n",
       "<table border=\"1\" class=\"dataframe\">\n",
       "  <thead>\n",
       "    <tr style=\"text-align: right;\">\n",
       "      <th></th>\n",
       "      <th>description</th>\n",
       "      <th>brand</th>\n",
       "      <th>price</th>\n",
       "    </tr>\n",
       "  </thead>\n",
       "  <tbody>\n",
       "    <tr>\n",
       "      <th>0</th>\n",
       "      <td>UV Protection Rectangular, Retro Square Sungla...</td>\n",
       "      <td>ROYAL SON</td>\n",
       "      <td>₹497</td>\n",
       "    </tr>\n",
       "    <tr>\n",
       "      <th>1</th>\n",
       "      <td>UV Protection Aviator Sunglasses (58)</td>\n",
       "      <td>OCHILA</td>\n",
       "      <td>₹206</td>\n",
       "    </tr>\n",
       "    <tr>\n",
       "      <th>2</th>\n",
       "      <td>UV Protection Retro Square Sunglasses (Free Size)</td>\n",
       "      <td>iCopertina</td>\n",
       "      <td>₹219</td>\n",
       "    </tr>\n",
       "    <tr>\n",
       "      <th>3</th>\n",
       "      <td>Gradient, UV Protection Wayfarer Sunglasses (F...</td>\n",
       "      <td>Fastrack</td>\n",
       "      <td>₹699</td>\n",
       "    </tr>\n",
       "    <tr>\n",
       "      <th>4</th>\n",
       "      <td>Polarized, Riding Glasses Sports, Wrap-around ...</td>\n",
       "      <td>ROZZETTA CRAFT</td>\n",
       "      <td>₹497</td>\n",
       "    </tr>\n",
       "    <tr>\n",
       "      <th>...</th>\n",
       "      <td>...</td>\n",
       "      <td>...</td>\n",
       "      <td>...</td>\n",
       "    </tr>\n",
       "    <tr>\n",
       "      <th>95</th>\n",
       "      <td>UV Protection Butterfly Sunglasses (65)</td>\n",
       "      <td>Fastrack</td>\n",
       "      <td>₹749</td>\n",
       "    </tr>\n",
       "    <tr>\n",
       "      <th>96</th>\n",
       "      <td>UV Protection Wayfarer Sunglasses (Free Size)</td>\n",
       "      <td>ROYAL SON</td>\n",
       "      <td>₹1,799</td>\n",
       "    </tr>\n",
       "    <tr>\n",
       "      <th>97</th>\n",
       "      <td>Riding Glasses, UV Protection Aviator Sunglass...</td>\n",
       "      <td>ROYAL SON</td>\n",
       "      <td>₹551</td>\n",
       "    </tr>\n",
       "    <tr>\n",
       "      <th>98</th>\n",
       "      <td>Polarized, Riding Glasses, UV Protection Wrap-...</td>\n",
       "      <td>aferelle</td>\n",
       "      <td>₹499</td>\n",
       "    </tr>\n",
       "    <tr>\n",
       "      <th>99</th>\n",
       "      <td>UV Protection Aviator Sunglasses (58)</td>\n",
       "      <td>BABYMOON</td>\n",
       "      <td>₹183</td>\n",
       "    </tr>\n",
       "  </tbody>\n",
       "</table>\n",
       "<p>100 rows × 3 columns</p>\n",
       "</div>"
      ],
      "text/plain": [
       "                                          description           brand   price\n",
       "0   UV Protection Rectangular, Retro Square Sungla...       ROYAL SON    ₹497\n",
       "1               UV Protection Aviator Sunglasses (58)          OCHILA    ₹206\n",
       "2   UV Protection Retro Square Sunglasses (Free Size)      iCopertina    ₹219\n",
       "3   Gradient, UV Protection Wayfarer Sunglasses (F...        Fastrack    ₹699\n",
       "4   Polarized, Riding Glasses Sports, Wrap-around ...  ROZZETTA CRAFT    ₹497\n",
       "..                                                ...             ...     ...\n",
       "95            UV Protection Butterfly Sunglasses (65)        Fastrack    ₹749\n",
       "96      UV Protection Wayfarer Sunglasses (Free Size)       ROYAL SON  ₹1,799\n",
       "97  Riding Glasses, UV Protection Aviator Sunglass...       ROYAL SON    ₹551\n",
       "98  Polarized, Riding Glasses, UV Protection Wrap-...        aferelle    ₹499\n",
       "99              UV Protection Aviator Sunglasses (58)        BABYMOON    ₹183\n",
       "\n",
       "[100 rows x 3 columns]"
      ]
     },
     "execution_count": 111,
     "metadata": {},
     "output_type": "execute_result"
    }
   ],
   "source": [
    "# the first 100 sunglasses dataframe\n",
    "sunglas_100 = pd.DataFrame({'description' : new_brands, 'brand' : new_describe, 'price' : new_prices})\n",
    "sunglas_100"
   ]
  },
  {
   "cell_type": "code",
   "execution_count": null,
   "id": "9e08e3cd",
   "metadata": {},
   "outputs": [],
   "source": []
  },
  {
   "cell_type": "code",
   "execution_count": null,
   "id": "c1eaf6e0",
   "metadata": {},
   "outputs": [],
   "source": []
  },
  {
   "cell_type": "code",
   "execution_count": null,
   "id": "ebbfafc5",
   "metadata": {},
   "outputs": [],
   "source": [
    "# Question 5"
   ]
  },
  {
   "cell_type": "code",
   "execution_count": 115,
   "id": "801b3d01",
   "metadata": {},
   "outputs": [],
   "source": [
    "# opening the shine page on automated  \n",
    "driver.get('https://www.flipkart.com/apple-iphone-11-black-64-gb/product- reviews/itm4e5041ba101fd?pid=MOBFWQ6BXGJCEYNY&lid=LSTMOBFWQ6BXGJCEYNYZXSHRJ&market place=FLIPKART')"
   ]
  },
  {
   "cell_type": "code",
   "execution_count": null,
   "id": "2c4008b7",
   "metadata": {},
   "outputs": [],
   "source": [
    "# opening the shine page on automated  \n",
    "driver.get('https://www.flipkart.com/apple-iphone-11-black-64-gb/product-')"
   ]
  },
  {
   "cell_type": "code",
   "execution_count": null,
   "id": "8ac2655c",
   "metadata": {},
   "outputs": [],
   "source": [
    "# I have tried the two links above but none is working"
   ]
  },
  {
   "cell_type": "code",
   "execution_count": null,
   "id": "608b0707",
   "metadata": {},
   "outputs": [],
   "source": []
  },
  {
   "cell_type": "code",
   "execution_count": null,
   "id": "98f3511b",
   "metadata": {},
   "outputs": [],
   "source": []
  },
  {
   "cell_type": "code",
   "execution_count": null,
   "id": "1e87483c",
   "metadata": {},
   "outputs": [],
   "source": [
    "# Question 6"
   ]
  },
  {
   "cell_type": "code",
   "execution_count": 116,
   "id": "027f3dea",
   "metadata": {},
   "outputs": [],
   "source": [
    "driver = webdriver.Chrome()"
   ]
  },
  {
   "cell_type": "code",
   "execution_count": 117,
   "id": "bf79c1e4",
   "metadata": {},
   "outputs": [],
   "source": [
    "#  \n",
    "driver.get('http://www.flipkart.com/')"
   ]
  },
  {
   "cell_type": "code",
   "execution_count": 118,
   "id": "ebe65a82",
   "metadata": {},
   "outputs": [],
   "source": [
    "# entering sunglasses as required in the question-\n",
    "\n",
    "sunglass = driver.find_element(By.CLASS_NAME, \"_3704LK\")\n",
    "sunglass.send_keys('sneakers')"
   ]
  },
  {
   "cell_type": "code",
   "execution_count": 119,
   "id": "ce865d84",
   "metadata": {},
   "outputs": [],
   "source": [
    "search3 = driver.find_element(By.XPATH, '/html/body/div/div/div[1]/div[1]/div[2]/div[2]/form/div/button')\n",
    "search3.click()"
   ]
  },
  {
   "cell_type": "code",
   "execution_count": 120,
   "id": "823231b8",
   "metadata": {},
   "outputs": [],
   "source": [
    "brand1 = []\n",
    "describe1 = []\n",
    "price1 = []"
   ]
  },
  {
   "cell_type": "code",
   "execution_count": 121,
   "id": "088993c0",
   "metadata": {},
   "outputs": [],
   "source": [
    "# scrapping the 100 first brands\n",
    "\n",
    "brand1 = []\n",
    "\n",
    "start = 0\n",
    "end = 4\n",
    "\n",
    "for page in range(start, end):\n",
    "    brand = driver.find_elements(By.XPATH, '//div[@class=\"_2WkVRV\"]')\n",
    "    for i in brand:\n",
    "        brand1.append(i.text)\n",
    "    next_button = driver.find_element(By.XPATH, '//a[@class=\"_1LKTO3\"]')\n",
    "    next_button.click()\n",
    "    time.sleep(5)\n",
    "    if len(brand1)==100:\n",
    "        break\n",
    "    "
   ]
  },
  {
   "cell_type": "code",
   "execution_count": 122,
   "id": "6803d33b",
   "metadata": {},
   "outputs": [],
   "source": [
    "describe1 = []\n",
    "\n",
    "start = 0\n",
    "end = 4\n",
    "\n",
    "for page in range(start, end):\n",
    "    describ = driver.find_elements(By.XPATH, '//a[@class=\"IRpwTa\"]')\n",
    "    for i in describ:\n",
    "        describe1.append(i.text)\n",
    "    next_button = driver.find_element(By.XPATH, '//a[@class=\"_1LKTO3\"]')\n",
    "    next_button.click()\n",
    "    time.sleep(5)\n",
    "    if len(describe1)==100:\n",
    "        break"
   ]
  },
  {
   "cell_type": "code",
   "execution_count": 124,
   "id": "743e2d14",
   "metadata": {},
   "outputs": [],
   "source": [
    "# scraping the 100 first prices\n",
    "\n",
    "price1 = []\n",
    "\n",
    "start = 0\n",
    "end = 4\n",
    "\n",
    "for page in range(start, end):\n",
    "    price = driver.find_elements(By.XPATH, '//div[@class=\"_30jeq3\"]')\n",
    "    for i in price:\n",
    "        price1.append(i.text)\n",
    "    next_button = driver.find_element(By.XPATH, '//a[@class=\"_1LKTO3\"]')\n",
    "    next_button.click()\n",
    "    time.sleep(5)\n",
    "    if len(price1)==100:\n",
    "        break"
   ]
  },
  {
   "cell_type": "code",
   "execution_count": 125,
   "id": "33f0a617",
   "metadata": {},
   "outputs": [
    {
     "name": "stdout",
     "output_type": "stream",
     "text": [
      "160 139 160\n"
     ]
    }
   ],
   "source": [
    "print(len(brand1), len(describe1), len(price1))"
   ]
  },
  {
   "cell_type": "code",
   "execution_count": 126,
   "id": "4fb1737d",
   "metadata": {},
   "outputs": [],
   "source": [
    "new_brand1 = brand1[0:100]"
   ]
  },
  {
   "cell_type": "code",
   "execution_count": 127,
   "id": "82f21c1b",
   "metadata": {},
   "outputs": [],
   "source": [
    "new_describe1 = describe1[0:100]"
   ]
  },
  {
   "cell_type": "code",
   "execution_count": 128,
   "id": "c7666053",
   "metadata": {},
   "outputs": [],
   "source": [
    "new_price1 = price1[0:100]"
   ]
  },
  {
   "cell_type": "code",
   "execution_count": 129,
   "id": "21bd24d1",
   "metadata": {},
   "outputs": [
    {
     "name": "stdout",
     "output_type": "stream",
     "text": [
      "100 100 100\n"
     ]
    }
   ],
   "source": [
    "print(len(new_brand1), len(new_describe1), len(new_price1))"
   ]
  },
  {
   "cell_type": "code",
   "execution_count": 132,
   "id": "59c9eb1f",
   "metadata": {},
   "outputs": [
    {
     "data": {
      "text/html": [
       "<div>\n",
       "<style scoped>\n",
       "    .dataframe tbody tr th:only-of-type {\n",
       "        vertical-align: middle;\n",
       "    }\n",
       "\n",
       "    .dataframe tbody tr th {\n",
       "        vertical-align: top;\n",
       "    }\n",
       "\n",
       "    .dataframe thead th {\n",
       "        text-align: right;\n",
       "    }\n",
       "</style>\n",
       "<table border=\"1\" class=\"dataframe\">\n",
       "  <thead>\n",
       "    <tr style=\"text-align: right;\">\n",
       "      <th></th>\n",
       "      <th>brand</th>\n",
       "      <th>description</th>\n",
       "      <th>price</th>\n",
       "    </tr>\n",
       "  </thead>\n",
       "  <tbody>\n",
       "    <tr>\n",
       "      <th>0</th>\n",
       "      <td>Airson</td>\n",
       "      <td>Men's Shoes | Casual Shoes | Sports Shoes Snea...</td>\n",
       "      <td>₹833</td>\n",
       "    </tr>\n",
       "    <tr>\n",
       "      <th>1</th>\n",
       "      <td>K- FOOTLANCE</td>\n",
       "      <td>Modern Trendy Shoes Sneakers For Men</td>\n",
       "      <td>₹4,679</td>\n",
       "    </tr>\n",
       "    <tr>\n",
       "      <th>2</th>\n",
       "      <td>BRUTON</td>\n",
       "      <td>Sneakers For Men</td>\n",
       "      <td>₹379</td>\n",
       "    </tr>\n",
       "    <tr>\n",
       "      <th>3</th>\n",
       "      <td>Nobelite</td>\n",
       "      <td>Buzz Sneakers For Men</td>\n",
       "      <td>₹299</td>\n",
       "    </tr>\n",
       "    <tr>\n",
       "      <th>4</th>\n",
       "      <td>PUMA</td>\n",
       "      <td>Rebound LayUp SL Sneakers For Men</td>\n",
       "      <td>₹3,599</td>\n",
       "    </tr>\n",
       "    <tr>\n",
       "      <th>...</th>\n",
       "      <td>...</td>\n",
       "      <td>...</td>\n",
       "      <td>...</td>\n",
       "    </tr>\n",
       "    <tr>\n",
       "      <th>95</th>\n",
       "      <td>Sparx</td>\n",
       "      <td>Sneakers For Men</td>\n",
       "      <td>₹562</td>\n",
       "    </tr>\n",
       "    <tr>\n",
       "      <th>96</th>\n",
       "      <td>El Paso</td>\n",
       "      <td>Sneakers For Men</td>\n",
       "      <td>₹379</td>\n",
       "    </tr>\n",
       "    <tr>\n",
       "      <th>97</th>\n",
       "      <td>Zixer</td>\n",
       "      <td>Hustle V2 Women Sneakers For Men</td>\n",
       "      <td>₹1,485</td>\n",
       "    </tr>\n",
       "    <tr>\n",
       "      <th>98</th>\n",
       "      <td>Free Kicks</td>\n",
       "      <td>CLUB CULTURE Sneakers For Men</td>\n",
       "      <td>₹599</td>\n",
       "    </tr>\n",
       "    <tr>\n",
       "      <th>99</th>\n",
       "      <td>PUMA</td>\n",
       "      <td>Sneakers For Men</td>\n",
       "      <td>₹1,508</td>\n",
       "    </tr>\n",
       "  </tbody>\n",
       "</table>\n",
       "<p>100 rows × 3 columns</p>\n",
       "</div>"
      ],
      "text/plain": [
       "           brand                                        description   price\n",
       "0         Airson  Men's Shoes | Casual Shoes | Sports Shoes Snea...    ₹833\n",
       "1   K- FOOTLANCE               Modern Trendy Shoes Sneakers For Men  ₹4,679\n",
       "2         BRUTON                                   Sneakers For Men    ₹379\n",
       "3       Nobelite                              Buzz Sneakers For Men    ₹299\n",
       "4           PUMA                  Rebound LayUp SL Sneakers For Men  ₹3,599\n",
       "..           ...                                                ...     ...\n",
       "95         Sparx                                   Sneakers For Men    ₹562\n",
       "96       El Paso                                   Sneakers For Men    ₹379\n",
       "97         Zixer                   Hustle V2 Women Sneakers For Men  ₹1,485\n",
       "98    Free Kicks                      CLUB CULTURE Sneakers For Men    ₹599\n",
       "99          PUMA                                   Sneakers For Men  ₹1,508\n",
       "\n",
       "[100 rows x 3 columns]"
      ]
     },
     "execution_count": 132,
     "metadata": {},
     "output_type": "execute_result"
    }
   ],
   "source": [
    "# the first 100 sneaks dataframe\n",
    "sneak_100 = pd.DataFrame({'brand' : new_brand1, 'description' : new_describe1, 'price' : new_price1})\n",
    "sneak_100"
   ]
  },
  {
   "cell_type": "code",
   "execution_count": null,
   "id": "42f22c01",
   "metadata": {},
   "outputs": [],
   "source": []
  },
  {
   "cell_type": "code",
   "execution_count": null,
   "id": "4a968b27",
   "metadata": {},
   "outputs": [],
   "source": []
  },
  {
   "cell_type": "code",
   "execution_count": 133,
   "id": "4efabf55",
   "metadata": {},
   "outputs": [],
   "source": [
    "driver = webdriver.Chrome()"
   ]
  },
  {
   "cell_type": "code",
   "execution_count": null,
   "id": "611b56f3",
   "metadata": {},
   "outputs": [],
   "source": [
    "# Question 7"
   ]
  },
  {
   "cell_type": "code",
   "execution_count": 134,
   "id": "6d9b549f",
   "metadata": {},
   "outputs": [],
   "source": [
    "#  \n",
    "driver.get('http://www.amazon.in/')"
   ]
  },
  {
   "cell_type": "code",
   "execution_count": null,
   "id": "45710a31",
   "metadata": {},
   "outputs": [],
   "source": [
    "# entering CPU as required in the question-\n",
    "\n",
    "cpu = driver.find_element(By.XPATH, '/html/body/div[1]/header/div/div[1]/div[2]/div/form/div[2]/div[1]/input')\n",
    "cpu.send_keys('Intel Core i7')"
   ]
  },
  {
   "cell_type": "code",
   "execution_count": 140,
   "id": "3ec2048b",
   "metadata": {},
   "outputs": [],
   "source": [
    "search4 = driver.find_element(By.XPATH, '/html/body/div[1]/header/div/div[1]/div[2]/div/form/div[3]/div/span/input')\n",
    "search4.click()"
   ]
  },
  {
   "cell_type": "code",
   "execution_count": 142,
   "id": "5d7cf394",
   "metadata": {},
   "outputs": [],
   "source": [
    "# scrapping the 10 first titles\n",
    "\n",
    "titles = []\n",
    "title = driver.find_elements(By.XPATH, '//h2[@class=\"a-size-mini a-spacing-none a-color-base s-line-clamp-2\"]')\n",
    "for i in title[0:10]:\n",
    "    title = i.text\n",
    "    titles.append(title)"
   ]
  },
  {
   "cell_type": "code",
   "execution_count": 143,
   "id": "4c30d7e0",
   "metadata": {},
   "outputs": [],
   "source": [
    "# scrapping the 10 first ratings\n",
    "ratings = []\n",
    "rating = driver.find_elements(By.XPATH, '//span[@class=\"a-size-base puis-normal-weight-text\"]')\n",
    "for i in rating[0:10]:\n",
    "    rate = i.text\n",
    "    ratings.append(rate)"
   ]
  },
  {
   "cell_type": "code",
   "execution_count": 165,
   "id": "11debb89",
   "metadata": {},
   "outputs": [],
   "source": [
    "# scrapping the 10 first prices\n",
    "price_1 = []\n",
    "pric = driver.find_elements(By.XPATH, '//span[@class=\"a-price\"]')\n",
    "for i in pric[0:10]:\n",
    "    pric_ = i.text\n",
    "    price_1.append(pric_)"
   ]
  },
  {
   "cell_type": "code",
   "execution_count": 166,
   "id": "ff65b778",
   "metadata": {},
   "outputs": [
    {
     "name": "stdout",
     "output_type": "stream",
     "text": [
      "10 10 10\n"
     ]
    }
   ],
   "source": [
    "print(len(titles), len(ratings), len(price_1))"
   ]
  },
  {
   "cell_type": "code",
   "execution_count": 167,
   "id": "a395ee55",
   "metadata": {},
   "outputs": [
    {
     "data": {
      "text/html": [
       "<div>\n",
       "<style scoped>\n",
       "    .dataframe tbody tr th:only-of-type {\n",
       "        vertical-align: middle;\n",
       "    }\n",
       "\n",
       "    .dataframe tbody tr th {\n",
       "        vertical-align: top;\n",
       "    }\n",
       "\n",
       "    .dataframe thead th {\n",
       "        text-align: right;\n",
       "    }\n",
       "</style>\n",
       "<table border=\"1\" class=\"dataframe\">\n",
       "  <thead>\n",
       "    <tr style=\"text-align: right;\">\n",
       "      <th></th>\n",
       "      <th>title</th>\n",
       "      <th>rating</th>\n",
       "      <th>price</th>\n",
       "    </tr>\n",
       "  </thead>\n",
       "  <tbody>\n",
       "    <tr>\n",
       "      <th>0</th>\n",
       "      <td>Intel Core i7 12700 12th Gen Generation Deskto...</td>\n",
       "      <td>4.6</td>\n",
       "      <td>₹30,499</td>\n",
       "    </tr>\n",
       "    <tr>\n",
       "      <th>1</th>\n",
       "      <td>Intel Core i7-13700K Desktop Processor 16 core...</td>\n",
       "      <td>4.8</td>\n",
       "      <td>₹39,999</td>\n",
       "    </tr>\n",
       "    <tr>\n",
       "      <th>2</th>\n",
       "      <td>Intel Core i7 12700 12th Gen Generation Deskto...</td>\n",
       "      <td>4.6</td>\n",
       "      <td>₹30,499</td>\n",
       "    </tr>\n",
       "    <tr>\n",
       "      <th>3</th>\n",
       "      <td>Intel Core i7-12700K Desktop Processor 12 (8P+...</td>\n",
       "      <td>4.8</td>\n",
       "      <td>₹32,600</td>\n",
       "    </tr>\n",
       "    <tr>\n",
       "      <th>4</th>\n",
       "      <td>Intel Core i7-11700F 11th Gen Generation Deskt...</td>\n",
       "      <td>4.6</td>\n",
       "      <td>₹22,700</td>\n",
       "    </tr>\n",
       "    <tr>\n",
       "      <th>5</th>\n",
       "      <td>Intel - Core i7 3770 Processor TRAY</td>\n",
       "      <td>4.2</td>\n",
       "      <td>₹5,999</td>\n",
       "    </tr>\n",
       "    <tr>\n",
       "      <th>6</th>\n",
       "      <td>Intel Core i7-10700K Desktop Processor 8 Cores...</td>\n",
       "      <td>4.8</td>\n",
       "      <td>₹39,999</td>\n",
       "    </tr>\n",
       "    <tr>\n",
       "      <th>7</th>\n",
       "      <td>Intel® Core™ i7-10700F Desktop Processor 16M C...</td>\n",
       "      <td>4.7</td>\n",
       "      <td>₹20,995</td>\n",
       "    </tr>\n",
       "    <tr>\n",
       "      <th>8</th>\n",
       "      <td>Intel® Core™ i7-13700F Processor 30M Cache, up...</td>\n",
       "      <td>4.4</td>\n",
       "      <td>₹39,000</td>\n",
       "    </tr>\n",
       "    <tr>\n",
       "      <th>9</th>\n",
       "      <td>Intel® Core™ i7-9700F Processor (12M Cache, up...</td>\n",
       "      <td>4.7</td>\n",
       "      <td>₹32,999</td>\n",
       "    </tr>\n",
       "  </tbody>\n",
       "</table>\n",
       "</div>"
      ],
      "text/plain": [
       "                                               title rating    price\n",
       "0  Intel Core i7 12700 12th Gen Generation Deskto...    4.6  ₹30,499\n",
       "1  Intel Core i7-13700K Desktop Processor 16 core...    4.8  ₹39,999\n",
       "2  Intel Core i7 12700 12th Gen Generation Deskto...    4.6  ₹30,499\n",
       "3  Intel Core i7-12700K Desktop Processor 12 (8P+...    4.8  ₹32,600\n",
       "4  Intel Core i7-11700F 11th Gen Generation Deskt...    4.6  ₹22,700\n",
       "5                Intel - Core i7 3770 Processor TRAY    4.2   ₹5,999\n",
       "6  Intel Core i7-10700K Desktop Processor 8 Cores...    4.8  ₹39,999\n",
       "7  Intel® Core™ i7-10700F Desktop Processor 16M C...    4.7  ₹20,995\n",
       "8  Intel® Core™ i7-13700F Processor 30M Cache, up...    4.4  ₹39,000\n",
       "9  Intel® Core™ i7-9700F Processor (12M Cache, up...    4.7  ₹32,999"
      ]
     },
     "execution_count": 167,
     "metadata": {},
     "output_type": "execute_result"
    }
   ],
   "source": [
    "# 10 first laptops, dataframe\n",
    "\n",
    "df = pd.DataFrame({'title' : titles, 'rating' : ratings, 'price' : price_1})\n",
    "df"
   ]
  },
  {
   "cell_type": "code",
   "execution_count": null,
   "id": "93c80837",
   "metadata": {},
   "outputs": [],
   "source": []
  },
  {
   "cell_type": "code",
   "execution_count": null,
   "id": "28604a30",
   "metadata": {},
   "outputs": [],
   "source": []
  },
  {
   "cell_type": "code",
   "execution_count": null,
   "id": "e98ad2fa",
   "metadata": {},
   "outputs": [],
   "source": [
    "# Question 10"
   ]
  },
  {
   "cell_type": "code",
   "execution_count": 186,
   "id": "94e300bc",
   "metadata": {},
   "outputs": [],
   "source": [
    "driver = webdriver.Chrome()"
   ]
  },
  {
   "cell_type": "code",
   "execution_count": 187,
   "id": "758cb1ad",
   "metadata": {},
   "outputs": [],
   "source": [
    "driver.get('https://www.motor1.com/')"
   ]
  },
  {
   "cell_type": "code",
   "execution_count": 190,
   "id": "e2a3af36",
   "metadata": {},
   "outputs": [
    {
     "ename": "NoSuchElementException",
     "evalue": "Message: no such element: Unable to locate element: {\"method\":\"css selector\",\"selector\":\".m1-search-panel-input m1-search-form-text\"}\n  (Session info: chrome=116.0.5845.110); For documentation on this error, please visit: https://www.selenium.dev/documentation/webdriver/troubleshooting/errors#no-such-element-exception\nStacktrace:\n0   chromedriver                        0x00000001030da65c chromedriver + 4318812\n1   chromedriver                        0x00000001030d2d00 chromedriver + 4287744\n2   chromedriver                        0x0000000102d047ec chromedriver + 296940\n3   chromedriver                        0x0000000102d42048 chromedriver + 548936\n4   chromedriver                        0x0000000102d7ad28 chromedriver + 781608\n5   chromedriver                        0x0000000102d36178 chromedriver + 500088\n6   chromedriver                        0x0000000102d36fc0 chromedriver + 503744\n7   chromedriver                        0x000000010309ac40 chromedriver + 4058176\n8   chromedriver                        0x000000010309f160 chromedriver + 4075872\n9   chromedriver                        0x0000000103062e68 chromedriver + 3829352\n10  chromedriver                        0x000000010309fc4c chromedriver + 4078668\n11  chromedriver                        0x0000000103077f08 chromedriver + 3915528\n12  chromedriver                        0x00000001030bc140 chromedriver + 4194624\n13  chromedriver                        0x00000001030bc2c4 chromedriver + 4195012\n14  chromedriver                        0x00000001030cc4d0 chromedriver + 4261072\n15  libsystem_pthread.dylib             0x000000019857bfa8 _pthread_start + 148\n16  libsystem_pthread.dylib             0x0000000198576da0 thread_start + 8\n",
     "output_type": "error",
     "traceback": [
      "\u001b[0;31m---------------------------------------------------------------------------\u001b[0m",
      "\u001b[0;31mNoSuchElementException\u001b[0m                    Traceback (most recent call last)",
      "\u001b[0;32m/var/folders/cv/b_mzld9j3zg4h2cz0vp5jh7h0000gn/T/ipykernel_28525/1182321418.py\u001b[0m in \u001b[0;36m<module>\u001b[0;34m\u001b[0m\n\u001b[1;32m      1\u001b[0m \u001b[0;31m# entering 50 expensive cars as required in the question-\u001b[0m\u001b[0;34m\u001b[0m\u001b[0;34m\u001b[0m\u001b[0m\n\u001b[1;32m      2\u001b[0m \u001b[0;34m\u001b[0m\u001b[0m\n\u001b[0;32m----> 3\u001b[0;31m \u001b[0mcars\u001b[0m \u001b[0;34m=\u001b[0m \u001b[0mdriver\u001b[0m\u001b[0;34m.\u001b[0m\u001b[0mfind_element\u001b[0m\u001b[0;34m(\u001b[0m\u001b[0mBy\u001b[0m\u001b[0;34m.\u001b[0m\u001b[0mCLASS_NAME\u001b[0m\u001b[0;34m,\u001b[0m \u001b[0;34m'm1-search-panel-input m1-search-form-text'\u001b[0m\u001b[0;34m)\u001b[0m\u001b[0;34m\u001b[0m\u001b[0;34m\u001b[0m\u001b[0m\n\u001b[0m\u001b[1;32m      4\u001b[0m \u001b[0mquote\u001b[0m\u001b[0;34m.\u001b[0m\u001b[0msend_keys\u001b[0m\u001b[0;34m(\u001b[0m\u001b[0;34m'50 most expensive cars'\u001b[0m\u001b[0;34m)\u001b[0m\u001b[0;34m\u001b[0m\u001b[0;34m\u001b[0m\u001b[0m\n",
      "\u001b[0;32m~/opt/anaconda3/lib/python3.9/site-packages/selenium/webdriver/remote/webdriver.py\u001b[0m in \u001b[0;36mfind_element\u001b[0;34m(self, by, value)\u001b[0m\n\u001b[1;32m    737\u001b[0m             \u001b[0mvalue\u001b[0m \u001b[0;34m=\u001b[0m \u001b[0;34mf'[name=\"{value}\"]'\u001b[0m\u001b[0;34m\u001b[0m\u001b[0;34m\u001b[0m\u001b[0m\n\u001b[1;32m    738\u001b[0m \u001b[0;34m\u001b[0m\u001b[0m\n\u001b[0;32m--> 739\u001b[0;31m         \u001b[0;32mreturn\u001b[0m \u001b[0mself\u001b[0m\u001b[0;34m.\u001b[0m\u001b[0mexecute\u001b[0m\u001b[0;34m(\u001b[0m\u001b[0mCommand\u001b[0m\u001b[0;34m.\u001b[0m\u001b[0mFIND_ELEMENT\u001b[0m\u001b[0;34m,\u001b[0m \u001b[0;34m{\u001b[0m\u001b[0;34m\"using\"\u001b[0m\u001b[0;34m:\u001b[0m \u001b[0mby\u001b[0m\u001b[0;34m,\u001b[0m \u001b[0;34m\"value\"\u001b[0m\u001b[0;34m:\u001b[0m \u001b[0mvalue\u001b[0m\u001b[0;34m}\u001b[0m\u001b[0;34m)\u001b[0m\u001b[0;34m[\u001b[0m\u001b[0;34m\"value\"\u001b[0m\u001b[0;34m]\u001b[0m\u001b[0;34m\u001b[0m\u001b[0;34m\u001b[0m\u001b[0m\n\u001b[0m\u001b[1;32m    740\u001b[0m \u001b[0;34m\u001b[0m\u001b[0m\n\u001b[1;32m    741\u001b[0m     \u001b[0;32mdef\u001b[0m \u001b[0mfind_elements\u001b[0m\u001b[0;34m(\u001b[0m\u001b[0mself\u001b[0m\u001b[0;34m,\u001b[0m \u001b[0mby\u001b[0m\u001b[0;34m=\u001b[0m\u001b[0mBy\u001b[0m\u001b[0;34m.\u001b[0m\u001b[0mID\u001b[0m\u001b[0;34m,\u001b[0m \u001b[0mvalue\u001b[0m\u001b[0;34m:\u001b[0m \u001b[0mOptional\u001b[0m\u001b[0;34m[\u001b[0m\u001b[0mstr\u001b[0m\u001b[0;34m]\u001b[0m \u001b[0;34m=\u001b[0m \u001b[0;32mNone\u001b[0m\u001b[0;34m)\u001b[0m \u001b[0;34m->\u001b[0m \u001b[0mList\u001b[0m\u001b[0;34m[\u001b[0m\u001b[0mWebElement\u001b[0m\u001b[0;34m]\u001b[0m\u001b[0;34m:\u001b[0m\u001b[0;34m\u001b[0m\u001b[0;34m\u001b[0m\u001b[0m\n",
      "\u001b[0;32m~/opt/anaconda3/lib/python3.9/site-packages/selenium/webdriver/remote/webdriver.py\u001b[0m in \u001b[0;36mexecute\u001b[0;34m(self, driver_command, params)\u001b[0m\n\u001b[1;32m    343\u001b[0m         \u001b[0mresponse\u001b[0m \u001b[0;34m=\u001b[0m \u001b[0mself\u001b[0m\u001b[0;34m.\u001b[0m\u001b[0mcommand_executor\u001b[0m\u001b[0;34m.\u001b[0m\u001b[0mexecute\u001b[0m\u001b[0;34m(\u001b[0m\u001b[0mdriver_command\u001b[0m\u001b[0;34m,\u001b[0m \u001b[0mparams\u001b[0m\u001b[0;34m)\u001b[0m\u001b[0;34m\u001b[0m\u001b[0;34m\u001b[0m\u001b[0m\n\u001b[1;32m    344\u001b[0m         \u001b[0;32mif\u001b[0m \u001b[0mresponse\u001b[0m\u001b[0;34m:\u001b[0m\u001b[0;34m\u001b[0m\u001b[0;34m\u001b[0m\u001b[0m\n\u001b[0;32m--> 345\u001b[0;31m             \u001b[0mself\u001b[0m\u001b[0;34m.\u001b[0m\u001b[0merror_handler\u001b[0m\u001b[0;34m.\u001b[0m\u001b[0mcheck_response\u001b[0m\u001b[0;34m(\u001b[0m\u001b[0mresponse\u001b[0m\u001b[0;34m)\u001b[0m\u001b[0;34m\u001b[0m\u001b[0;34m\u001b[0m\u001b[0m\n\u001b[0m\u001b[1;32m    346\u001b[0m             \u001b[0mresponse\u001b[0m\u001b[0;34m[\u001b[0m\u001b[0;34m\"value\"\u001b[0m\u001b[0;34m]\u001b[0m \u001b[0;34m=\u001b[0m \u001b[0mself\u001b[0m\u001b[0;34m.\u001b[0m\u001b[0m_unwrap_value\u001b[0m\u001b[0;34m(\u001b[0m\u001b[0mresponse\u001b[0m\u001b[0;34m.\u001b[0m\u001b[0mget\u001b[0m\u001b[0;34m(\u001b[0m\u001b[0;34m\"value\"\u001b[0m\u001b[0;34m,\u001b[0m \u001b[0;32mNone\u001b[0m\u001b[0;34m)\u001b[0m\u001b[0;34m)\u001b[0m\u001b[0;34m\u001b[0m\u001b[0;34m\u001b[0m\u001b[0m\n\u001b[1;32m    347\u001b[0m             \u001b[0;32mreturn\u001b[0m \u001b[0mresponse\u001b[0m\u001b[0;34m\u001b[0m\u001b[0;34m\u001b[0m\u001b[0m\n",
      "\u001b[0;32m~/opt/anaconda3/lib/python3.9/site-packages/selenium/webdriver/remote/errorhandler.py\u001b[0m in \u001b[0;36mcheck_response\u001b[0;34m(self, response)\u001b[0m\n\u001b[1;32m    227\u001b[0m                 \u001b[0malert_text\u001b[0m \u001b[0;34m=\u001b[0m \u001b[0mvalue\u001b[0m\u001b[0;34m[\u001b[0m\u001b[0;34m\"alert\"\u001b[0m\u001b[0;34m]\u001b[0m\u001b[0;34m.\u001b[0m\u001b[0mget\u001b[0m\u001b[0;34m(\u001b[0m\u001b[0;34m\"text\"\u001b[0m\u001b[0;34m)\u001b[0m\u001b[0;34m\u001b[0m\u001b[0;34m\u001b[0m\u001b[0m\n\u001b[1;32m    228\u001b[0m             \u001b[0;32mraise\u001b[0m \u001b[0mexception_class\u001b[0m\u001b[0;34m(\u001b[0m\u001b[0mmessage\u001b[0m\u001b[0;34m,\u001b[0m \u001b[0mscreen\u001b[0m\u001b[0;34m,\u001b[0m \u001b[0mstacktrace\u001b[0m\u001b[0;34m,\u001b[0m \u001b[0malert_text\u001b[0m\u001b[0;34m)\u001b[0m  \u001b[0;31m# type: ignore[call-arg]  # mypy is not smart enough here\u001b[0m\u001b[0;34m\u001b[0m\u001b[0;34m\u001b[0m\u001b[0m\n\u001b[0;32m--> 229\u001b[0;31m         \u001b[0;32mraise\u001b[0m \u001b[0mexception_class\u001b[0m\u001b[0;34m(\u001b[0m\u001b[0mmessage\u001b[0m\u001b[0;34m,\u001b[0m \u001b[0mscreen\u001b[0m\u001b[0;34m,\u001b[0m \u001b[0mstacktrace\u001b[0m\u001b[0;34m)\u001b[0m\u001b[0;34m\u001b[0m\u001b[0;34m\u001b[0m\u001b[0m\n\u001b[0m",
      "\u001b[0;31mNoSuchElementException\u001b[0m: Message: no such element: Unable to locate element: {\"method\":\"css selector\",\"selector\":\".m1-search-panel-input m1-search-form-text\"}\n  (Session info: chrome=116.0.5845.110); For documentation on this error, please visit: https://www.selenium.dev/documentation/webdriver/troubleshooting/errors#no-such-element-exception\nStacktrace:\n0   chromedriver                        0x00000001030da65c chromedriver + 4318812\n1   chromedriver                        0x00000001030d2d00 chromedriver + 4287744\n2   chromedriver                        0x0000000102d047ec chromedriver + 296940\n3   chromedriver                        0x0000000102d42048 chromedriver + 548936\n4   chromedriver                        0x0000000102d7ad28 chromedriver + 781608\n5   chromedriver                        0x0000000102d36178 chromedriver + 500088\n6   chromedriver                        0x0000000102d36fc0 chromedriver + 503744\n7   chromedriver                        0x000000010309ac40 chromedriver + 4058176\n8   chromedriver                        0x000000010309f160 chromedriver + 4075872\n9   chromedriver                        0x0000000103062e68 chromedriver + 3829352\n10  chromedriver                        0x000000010309fc4c chromedriver + 4078668\n11  chromedriver                        0x0000000103077f08 chromedriver + 3915528\n12  chromedriver                        0x00000001030bc140 chromedriver + 4194624\n13  chromedriver                        0x00000001030bc2c4 chromedriver + 4195012\n14  chromedriver                        0x00000001030cc4d0 chromedriver + 4261072\n15  libsystem_pthread.dylib             0x000000019857bfa8 _pthread_start + 148\n16  libsystem_pthread.dylib             0x0000000198576da0 thread_start + 8\n"
     ]
    }
   ],
   "source": [
    "# entering 50 expensive cars as required in the question-\n",
    "\n",
    "cars = driver.find_element(By.CLASS_NAME, 'm1-search-panel-input m1-search-form-text')\n",
    "quote.send_keys('50 most expensive cars')"
   ]
  },
  {
   "cell_type": "code",
   "execution_count": null,
   "id": "4440fc03",
   "metadata": {},
   "outputs": [],
   "source": [
    "search4 = driver.find_element(By.XPATH, '/html/body/div[8]/div[2]/div/div/div[3]/div/div/div/form/button[1]')\n",
    "search4.click()"
   ]
  }
 ],
 "metadata": {
  "kernelspec": {
   "display_name": "Python 3 (ipykernel)",
   "language": "python",
   "name": "python3"
  },
  "language_info": {
   "codemirror_mode": {
    "name": "ipython",
    "version": 3
   },
   "file_extension": ".py",
   "mimetype": "text/x-python",
   "name": "python",
   "nbconvert_exporter": "python",
   "pygments_lexer": "ipython3",
   "version": "3.9.13"
  }
 },
 "nbformat": 4,
 "nbformat_minor": 5
}
