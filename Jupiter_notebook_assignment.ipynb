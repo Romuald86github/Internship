{
 "cells": [
  {
   "cell_type": "code",
   "execution_count": 1,
   "id": "f7451026",
   "metadata": {},
   "outputs": [],
   "source": [
    "import keyword"
   ]
  },
  {
   "cell_type": "code",
   "execution_count": null,
   "id": "2d7587a5",
   "metadata": {},
   "outputs": [],
   "source": [
    "# 11. Write a python program to find the factorial of a number.\n",
    "\n",
    "def factorial(n):\n",
    "    if n == 0:\n",
    "        return 1\n",
    "    else:\n",
    "        return n * factorial(n-1)\n",
    "n=int(input(\"Input a number to compute the factiorial : \"))\n",
    "print(factorial(n))"
   ]
  },
  {
   "cell_type": "code",
   "execution_count": null,
   "id": "7dd06378",
   "metadata": {},
   "outputs": [],
   "source": [
    "# 12. Write a python program to find whether a number is prime or composite.\n",
    "\n",
    "num = int(input(\"Enter any number : \"))\n",
    "if num > 1:\n",
    "    for i in range(2, num):\n",
    "        if (num % i) == 0:\n",
    "            print(num, \"not prime number\")\n",
    "            break\n",
    "    else:\n",
    "        print(num, \"prime number\")\n",
    "elif num == 0 or 1:\n",
    "    print(num, \"neither prime NOR composite number\")\n",
    "else:\n",
    "    print(num, \"not prime but composite number\")"
   ]
  },
  {
   "cell_type": "code",
   "execution_count": null,
   "id": "9414b7d7",
   "metadata": {},
   "outputs": [],
   "source": [
    "# 13. Write a python program to check whether a given string is palindrome or not.\n",
    "\n",
    "\n",
    "str_1 = input ('Enter the string to check if it is a palindrome: ')\n",
    "\n",
    "str_1 = str_1.casefold ()\n",
    "\n",
    "rev_str = reversed (str_1)\n",
    "\n",
    "if (list str_1) == list (rev_str):\n",
    "\n",
    "              print ('The string is a palindrome.')\n",
    "\n",
    "else:\n",
    "\n",
    "              print ('The string is not a palindrome.')\n",
    "\n"
   ]
  },
  {
   "cell_type": "code",
   "execution_count": null,
   "id": "3737af0c",
   "metadata": {},
   "outputs": [],
   "source": [
    "# 14. Write a Python program to get the third side of right-angled triangle from two given sides.\n",
    "\n",
    "from math import sqrt\n",
    "print(\"Input lengths of shorter triangle sides:\")\n",
    "a = float(input(\"a: \"))\n",
    "b = float(input(\"b: \"))\n",
    "c = sqrt(a**2 + b**2)\n",
    "print(\"The length of the hypotenuse is:\", c )\n"
   ]
  },
  {
   "cell_type": "code",
   "execution_count": null,
   "id": "bd5fd992",
   "metadata": {},
   "outputs": [],
   "source": [
    "# 15. Writeapythonprogramtoprintthefrequencyofeachofthecharacterspresentinagivenstring.\n",
    "\n",
    "from collections import Counter\n",
    "\n",
    "# string\n",
    "str_1 = \"hello! how is it going? great! good to hera from you\"\n",
    "print(\"String: \",str_1)\n",
    "# Using counter\n",
    "res = {}\n",
    "\n",
    "for keys in str_1:\n",
    "res[keys] = res.get(keys, 0) + 1\n",
    "\n",
    "# Result\n",
    "print(\"Frequency of each character :\\n \",res)"
   ]
  }
 ],
 "metadata": {
  "kernelspec": {
   "display_name": "Python 3 (ipykernel)",
   "language": "python",
   "name": "python3"
  },
  "language_info": {
   "codemirror_mode": {
    "name": "ipython",
    "version": 3
   },
   "file_extension": ".py",
   "mimetype": "text/x-python",
   "name": "python",
   "nbconvert_exporter": "python",
   "pygments_lexer": "ipython3",
   "version": "3.9.13"
  }
 },
 "nbformat": 4,
 "nbformat_minor": 5
}
